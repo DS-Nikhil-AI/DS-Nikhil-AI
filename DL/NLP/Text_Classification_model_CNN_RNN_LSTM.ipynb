{
  "nbformat": 4,
  "nbformat_minor": 0,
  "metadata": {
    "colab": {
      "name": "Text_Classification_model_CNN_RNN_LSTM.ipynb",
      "provenance": [],
      "collapsed_sections": []
    },
    "kernelspec": {
      "name": "python3",
      "display_name": "Python 3"
    },
    "language_info": {
      "name": "python"
    }
  },
  "cells": [
    {
      "cell_type": "code",
      "execution_count": 1,
      "metadata": {
        "colab": {
          "base_uri": "https://localhost:8080/"
        },
        "id": "Q5r-z1SaUTda",
        "outputId": "a43af4ed-d204-40a4-e7c3-fbedcc05d47b"
      },
      "outputs": [
        {
          "output_type": "stream",
          "name": "stdout",
          "text": [
            "[nltk_data] Downloading package stopwords to /root/nltk_data...\n",
            "[nltk_data]   Package stopwords is already up-to-date!\n",
            "Training CNN 1D model.\n"
          ]
        }
      ],
      "source": [
        "from google.colab import drive \n",
        "import random\n",
        "import time\n",
        "import collections\n",
        "from nltk.corpus import stopwords\n",
        "from nltk import *\n",
        "from sklearn.feature_extraction.text import TfidfVectorizer\n",
        "from nltk.stem import WordNetLemmatizer\n",
        "import matplotlib.pyplot as plt\n",
        "from sklearn.model_selection import train_test_split\n",
        "import nltk\n",
        "nltk.download('stopwords')\n",
        "from keras.preprocessing.text import Tokenizer\n",
        "from keras.preprocessing.sequence import pad_sequences\n",
        "from sklearn.preprocessing import LabelEncoder\n",
        "import tensorflow as tf\n",
        "import matplotlib.pyplot as plt\n",
        "import warnings\n",
        "warnings.filterwarnings(\"ignore\")\n",
        "# Import Libraries CNN\n",
        "import sys, os, re, csv, codecs, numpy as np, pandas as pd\n",
        "from keras.preprocessing.text import Tokenizer\n",
        "from keras.preprocessing.sequence import pad_sequences\n",
        "from tensorflow.keras.utils import to_categorical\n",
        "from keras.layers import Dense, Input, LSTM, Embedding,Dropout, Activation\n",
        "from keras.layers import Bidirectional, GlobalMaxPool1D,Conv1D, SimpleRNN\n",
        "from keras.models import Model\n",
        "from keras.models import Sequential\n",
        "from keras import initializers, regularizers, constraints,optimizers, layers\n",
        "from keras.layers import Dense, Input, Flatten, Dropout,BatchNormalization\n",
        "from keras.layers import Conv1D, MaxPooling1D, Embedding\n",
        "from keras.models import Sequential\n",
        "print('Training CNN 1D model.')"
      ]
    },
    {
      "cell_type": "code",
      "source": [
        "def net_atapreprocessing_y(y):\n",
        "    return tf.keras.utils.to_categorical(y, 1, dtype='float32')"
      ],
      "metadata": {
        "id": "2NE233qaywmQ"
      },
      "execution_count": 2,
      "outputs": []
    },
    {
      "cell_type": "code",
      "source": [
        "drive.mount('/content/drive')\n",
        "path = \"/content/drive/MyDrive/Data_Ds\"\n",
        "fnames = os.listdir(path)"
      ],
      "metadata": {
        "colab": {
          "base_uri": "https://localhost:8080/"
        },
        "id": "qJwVFizAUZYh",
        "outputId": "a4978b6c-82fb-4286-dd2c-3227aa66fb3c"
      },
      "execution_count": 3,
      "outputs": [
        {
          "output_type": "stream",
          "name": "stdout",
          "text": [
            "Drive already mounted at /content/drive; to attempt to forcibly remount, call drive.mount(\"/content/drive\", force_remount=True).\n"
          ]
        }
      ]
    },
    {
      "cell_type": "code",
      "source": [
        "df = pd.read_csv(os.path.join(path, fnames[0]),encoding='ISO-8859-1')"
      ],
      "metadata": {
        "id": "51L6KjYXUZcg"
      },
      "execution_count": 4,
      "outputs": []
    },
    {
      "cell_type": "code",
      "source": [
        "df.head()"
      ],
      "metadata": {
        "colab": {
          "base_uri": "https://localhost:8080/",
          "height": 206
        },
        "id": "u1-voiinUZgE",
        "outputId": "b1f4e441-db95-4ead-9428-bb1914171b8d"
      },
      "execution_count": 5,
      "outputs": [
        {
          "output_type": "execute_result",
          "data": {
            "text/plain": [
              "     v1                                                 v2 Unnamed: 2  \\\n",
              "0   ham  Go until jurong point, crazy.. Available only ...        NaN   \n",
              "1   ham                      Ok lar... Joking wif u oni...        NaN   \n",
              "2  spam  Free entry in 2 a wkly comp to win FA Cup fina...        NaN   \n",
              "3   ham  U dun say so early hor... U c already then say...        NaN   \n",
              "4   ham  Nah I don't think he goes to usf, he lives aro...        NaN   \n",
              "\n",
              "  Unnamed: 3 Unnamed: 4  \n",
              "0        NaN        NaN  \n",
              "1        NaN        NaN  \n",
              "2        NaN        NaN  \n",
              "3        NaN        NaN  \n",
              "4        NaN        NaN  "
            ],
            "text/html": [
              "\n",
              "  <div id=\"df-d04ce648-413b-437b-a48e-0466fd3ba89b\">\n",
              "    <div class=\"colab-df-container\">\n",
              "      <div>\n",
              "<style scoped>\n",
              "    .dataframe tbody tr th:only-of-type {\n",
              "        vertical-align: middle;\n",
              "    }\n",
              "\n",
              "    .dataframe tbody tr th {\n",
              "        vertical-align: top;\n",
              "    }\n",
              "\n",
              "    .dataframe thead th {\n",
              "        text-align: right;\n",
              "    }\n",
              "</style>\n",
              "<table border=\"1\" class=\"dataframe\">\n",
              "  <thead>\n",
              "    <tr style=\"text-align: right;\">\n",
              "      <th></th>\n",
              "      <th>v1</th>\n",
              "      <th>v2</th>\n",
              "      <th>Unnamed: 2</th>\n",
              "      <th>Unnamed: 3</th>\n",
              "      <th>Unnamed: 4</th>\n",
              "    </tr>\n",
              "  </thead>\n",
              "  <tbody>\n",
              "    <tr>\n",
              "      <th>0</th>\n",
              "      <td>ham</td>\n",
              "      <td>Go until jurong point, crazy.. Available only ...</td>\n",
              "      <td>NaN</td>\n",
              "      <td>NaN</td>\n",
              "      <td>NaN</td>\n",
              "    </tr>\n",
              "    <tr>\n",
              "      <th>1</th>\n",
              "      <td>ham</td>\n",
              "      <td>Ok lar... Joking wif u oni...</td>\n",
              "      <td>NaN</td>\n",
              "      <td>NaN</td>\n",
              "      <td>NaN</td>\n",
              "    </tr>\n",
              "    <tr>\n",
              "      <th>2</th>\n",
              "      <td>spam</td>\n",
              "      <td>Free entry in 2 a wkly comp to win FA Cup fina...</td>\n",
              "      <td>NaN</td>\n",
              "      <td>NaN</td>\n",
              "      <td>NaN</td>\n",
              "    </tr>\n",
              "    <tr>\n",
              "      <th>3</th>\n",
              "      <td>ham</td>\n",
              "      <td>U dun say so early hor... U c already then say...</td>\n",
              "      <td>NaN</td>\n",
              "      <td>NaN</td>\n",
              "      <td>NaN</td>\n",
              "    </tr>\n",
              "    <tr>\n",
              "      <th>4</th>\n",
              "      <td>ham</td>\n",
              "      <td>Nah I don't think he goes to usf, he lives aro...</td>\n",
              "      <td>NaN</td>\n",
              "      <td>NaN</td>\n",
              "      <td>NaN</td>\n",
              "    </tr>\n",
              "  </tbody>\n",
              "</table>\n",
              "</div>\n",
              "      <button class=\"colab-df-convert\" onclick=\"convertToInteractive('df-d04ce648-413b-437b-a48e-0466fd3ba89b')\"\n",
              "              title=\"Convert this dataframe to an interactive table.\"\n",
              "              style=\"display:none;\">\n",
              "        \n",
              "  <svg xmlns=\"http://www.w3.org/2000/svg\" height=\"24px\"viewBox=\"0 0 24 24\"\n",
              "       width=\"24px\">\n",
              "    <path d=\"M0 0h24v24H0V0z\" fill=\"none\"/>\n",
              "    <path d=\"M18.56 5.44l.94 2.06.94-2.06 2.06-.94-2.06-.94-.94-2.06-.94 2.06-2.06.94zm-11 1L8.5 8.5l.94-2.06 2.06-.94-2.06-.94L8.5 2.5l-.94 2.06-2.06.94zm10 10l.94 2.06.94-2.06 2.06-.94-2.06-.94-.94-2.06-.94 2.06-2.06.94z\"/><path d=\"M17.41 7.96l-1.37-1.37c-.4-.4-.92-.59-1.43-.59-.52 0-1.04.2-1.43.59L10.3 9.45l-7.72 7.72c-.78.78-.78 2.05 0 2.83L4 21.41c.39.39.9.59 1.41.59.51 0 1.02-.2 1.41-.59l7.78-7.78 2.81-2.81c.8-.78.8-2.07 0-2.86zM5.41 20L4 18.59l7.72-7.72 1.47 1.35L5.41 20z\"/>\n",
              "  </svg>\n",
              "      </button>\n",
              "      \n",
              "  <style>\n",
              "    .colab-df-container {\n",
              "      display:flex;\n",
              "      flex-wrap:wrap;\n",
              "      gap: 12px;\n",
              "    }\n",
              "\n",
              "    .colab-df-convert {\n",
              "      background-color: #E8F0FE;\n",
              "      border: none;\n",
              "      border-radius: 50%;\n",
              "      cursor: pointer;\n",
              "      display: none;\n",
              "      fill: #1967D2;\n",
              "      height: 32px;\n",
              "      padding: 0 0 0 0;\n",
              "      width: 32px;\n",
              "    }\n",
              "\n",
              "    .colab-df-convert:hover {\n",
              "      background-color: #E2EBFA;\n",
              "      box-shadow: 0px 1px 2px rgba(60, 64, 67, 0.3), 0px 1px 3px 1px rgba(60, 64, 67, 0.15);\n",
              "      fill: #174EA6;\n",
              "    }\n",
              "\n",
              "    [theme=dark] .colab-df-convert {\n",
              "      background-color: #3B4455;\n",
              "      fill: #D2E3FC;\n",
              "    }\n",
              "\n",
              "    [theme=dark] .colab-df-convert:hover {\n",
              "      background-color: #434B5C;\n",
              "      box-shadow: 0px 1px 3px 1px rgba(0, 0, 0, 0.15);\n",
              "      filter: drop-shadow(0px 1px 2px rgba(0, 0, 0, 0.3));\n",
              "      fill: #FFFFFF;\n",
              "    }\n",
              "  </style>\n",
              "\n",
              "      <script>\n",
              "        const buttonEl =\n",
              "          document.querySelector('#df-d04ce648-413b-437b-a48e-0466fd3ba89b button.colab-df-convert');\n",
              "        buttonEl.style.display =\n",
              "          google.colab.kernel.accessAllowed ? 'block' : 'none';\n",
              "\n",
              "        async function convertToInteractive(key) {\n",
              "          const element = document.querySelector('#df-d04ce648-413b-437b-a48e-0466fd3ba89b');\n",
              "          const dataTable =\n",
              "            await google.colab.kernel.invokeFunction('convertToInteractive',\n",
              "                                                     [key], {});\n",
              "          if (!dataTable) return;\n",
              "\n",
              "          const docLinkHtml = 'Like what you see? Visit the ' +\n",
              "            '<a target=\"_blank\" href=https://colab.research.google.com/notebooks/data_table.ipynb>data table notebook</a>'\n",
              "            + ' to learn more about interactive tables.';\n",
              "          element.innerHTML = '';\n",
              "          dataTable['output_type'] = 'display_data';\n",
              "          await google.colab.output.renderOutput(dataTable, element);\n",
              "          const docLink = document.createElement('div');\n",
              "          docLink.innerHTML = docLinkHtml;\n",
              "          element.appendChild(docLink);\n",
              "        }\n",
              "      </script>\n",
              "    </div>\n",
              "  </div>\n",
              "  "
            ]
          },
          "metadata": {},
          "execution_count": 5
        }
      ]
    },
    {
      "cell_type": "code",
      "source": [
        "df.v1.value_counts()# Two categories of mail ham and spam."
      ],
      "metadata": {
        "colab": {
          "base_uri": "https://localhost:8080/"
        },
        "id": "mVluSIlkssh9",
        "outputId": "d92fc80b-2781-46f9-b6a5-333c2b84955b"
      },
      "execution_count": 6,
      "outputs": [
        {
          "output_type": "execute_result",
          "data": {
            "text/plain": [
              "ham     4825\n",
              "spam     747\n",
              "Name: v1, dtype: int64"
            ]
          },
          "metadata": {},
          "execution_count": 6
        }
      ]
    },
    {
      "cell_type": "code",
      "source": [
        "file_content = df[['v1', 'v2']]"
      ],
      "metadata": {
        "id": "LQxQZcxYVCVG"
      },
      "execution_count": 7,
      "outputs": []
    },
    {
      "cell_type": "code",
      "source": [
        "file_content.head()"
      ],
      "metadata": {
        "colab": {
          "base_uri": "https://localhost:8080/",
          "height": 206
        },
        "id": "DlJXJ_Dqr4og",
        "outputId": "4493af34-ac9a-48e2-806d-b2a563440542"
      },
      "execution_count": 8,
      "outputs": [
        {
          "output_type": "execute_result",
          "data": {
            "text/plain": [
              "     v1                                                 v2\n",
              "0   ham  Go until jurong point, crazy.. Available only ...\n",
              "1   ham                      Ok lar... Joking wif u oni...\n",
              "2  spam  Free entry in 2 a wkly comp to win FA Cup fina...\n",
              "3   ham  U dun say so early hor... U c already then say...\n",
              "4   ham  Nah I don't think he goes to usf, he lives aro..."
            ],
            "text/html": [
              "\n",
              "  <div id=\"df-25ddd037-0130-46f7-bd7f-407d48913710\">\n",
              "    <div class=\"colab-df-container\">\n",
              "      <div>\n",
              "<style scoped>\n",
              "    .dataframe tbody tr th:only-of-type {\n",
              "        vertical-align: middle;\n",
              "    }\n",
              "\n",
              "    .dataframe tbody tr th {\n",
              "        vertical-align: top;\n",
              "    }\n",
              "\n",
              "    .dataframe thead th {\n",
              "        text-align: right;\n",
              "    }\n",
              "</style>\n",
              "<table border=\"1\" class=\"dataframe\">\n",
              "  <thead>\n",
              "    <tr style=\"text-align: right;\">\n",
              "      <th></th>\n",
              "      <th>v1</th>\n",
              "      <th>v2</th>\n",
              "    </tr>\n",
              "  </thead>\n",
              "  <tbody>\n",
              "    <tr>\n",
              "      <th>0</th>\n",
              "      <td>ham</td>\n",
              "      <td>Go until jurong point, crazy.. Available only ...</td>\n",
              "    </tr>\n",
              "    <tr>\n",
              "      <th>1</th>\n",
              "      <td>ham</td>\n",
              "      <td>Ok lar... Joking wif u oni...</td>\n",
              "    </tr>\n",
              "    <tr>\n",
              "      <th>2</th>\n",
              "      <td>spam</td>\n",
              "      <td>Free entry in 2 a wkly comp to win FA Cup fina...</td>\n",
              "    </tr>\n",
              "    <tr>\n",
              "      <th>3</th>\n",
              "      <td>ham</td>\n",
              "      <td>U dun say so early hor... U c already then say...</td>\n",
              "    </tr>\n",
              "    <tr>\n",
              "      <th>4</th>\n",
              "      <td>ham</td>\n",
              "      <td>Nah I don't think he goes to usf, he lives aro...</td>\n",
              "    </tr>\n",
              "  </tbody>\n",
              "</table>\n",
              "</div>\n",
              "      <button class=\"colab-df-convert\" onclick=\"convertToInteractive('df-25ddd037-0130-46f7-bd7f-407d48913710')\"\n",
              "              title=\"Convert this dataframe to an interactive table.\"\n",
              "              style=\"display:none;\">\n",
              "        \n",
              "  <svg xmlns=\"http://www.w3.org/2000/svg\" height=\"24px\"viewBox=\"0 0 24 24\"\n",
              "       width=\"24px\">\n",
              "    <path d=\"M0 0h24v24H0V0z\" fill=\"none\"/>\n",
              "    <path d=\"M18.56 5.44l.94 2.06.94-2.06 2.06-.94-2.06-.94-.94-2.06-.94 2.06-2.06.94zm-11 1L8.5 8.5l.94-2.06 2.06-.94-2.06-.94L8.5 2.5l-.94 2.06-2.06.94zm10 10l.94 2.06.94-2.06 2.06-.94-2.06-.94-.94-2.06-.94 2.06-2.06.94z\"/><path d=\"M17.41 7.96l-1.37-1.37c-.4-.4-.92-.59-1.43-.59-.52 0-1.04.2-1.43.59L10.3 9.45l-7.72 7.72c-.78.78-.78 2.05 0 2.83L4 21.41c.39.39.9.59 1.41.59.51 0 1.02-.2 1.41-.59l7.78-7.78 2.81-2.81c.8-.78.8-2.07 0-2.86zM5.41 20L4 18.59l7.72-7.72 1.47 1.35L5.41 20z\"/>\n",
              "  </svg>\n",
              "      </button>\n",
              "      \n",
              "  <style>\n",
              "    .colab-df-container {\n",
              "      display:flex;\n",
              "      flex-wrap:wrap;\n",
              "      gap: 12px;\n",
              "    }\n",
              "\n",
              "    .colab-df-convert {\n",
              "      background-color: #E8F0FE;\n",
              "      border: none;\n",
              "      border-radius: 50%;\n",
              "      cursor: pointer;\n",
              "      display: none;\n",
              "      fill: #1967D2;\n",
              "      height: 32px;\n",
              "      padding: 0 0 0 0;\n",
              "      width: 32px;\n",
              "    }\n",
              "\n",
              "    .colab-df-convert:hover {\n",
              "      background-color: #E2EBFA;\n",
              "      box-shadow: 0px 1px 2px rgba(60, 64, 67, 0.3), 0px 1px 3px 1px rgba(60, 64, 67, 0.15);\n",
              "      fill: #174EA6;\n",
              "    }\n",
              "\n",
              "    [theme=dark] .colab-df-convert {\n",
              "      background-color: #3B4455;\n",
              "      fill: #D2E3FC;\n",
              "    }\n",
              "\n",
              "    [theme=dark] .colab-df-convert:hover {\n",
              "      background-color: #434B5C;\n",
              "      box-shadow: 0px 1px 3px 1px rgba(0, 0, 0, 0.15);\n",
              "      filter: drop-shadow(0px 1px 2px rgba(0, 0, 0, 0.3));\n",
              "      fill: #FFFFFF;\n",
              "    }\n",
              "  </style>\n",
              "\n",
              "      <script>\n",
              "        const buttonEl =\n",
              "          document.querySelector('#df-25ddd037-0130-46f7-bd7f-407d48913710 button.colab-df-convert');\n",
              "        buttonEl.style.display =\n",
              "          google.colab.kernel.accessAllowed ? 'block' : 'none';\n",
              "\n",
              "        async function convertToInteractive(key) {\n",
              "          const element = document.querySelector('#df-25ddd037-0130-46f7-bd7f-407d48913710');\n",
              "          const dataTable =\n",
              "            await google.colab.kernel.invokeFunction('convertToInteractive',\n",
              "                                                     [key], {});\n",
              "          if (!dataTable) return;\n",
              "\n",
              "          const docLinkHtml = 'Like what you see? Visit the ' +\n",
              "            '<a target=\"_blank\" href=https://colab.research.google.com/notebooks/data_table.ipynb>data table notebook</a>'\n",
              "            + ' to learn more about interactive tables.';\n",
              "          element.innerHTML = '';\n",
              "          dataTable['output_type'] = 'display_data';\n",
              "          await google.colab.output.renderOutput(dataTable, element);\n",
              "          const docLink = document.createElement('div');\n",
              "          docLink.innerHTML = docLinkHtml;\n",
              "          element.appendChild(docLink);\n",
              "        }\n",
              "      </script>\n",
              "    </div>\n",
              "  </div>\n",
              "  "
            ]
          },
          "metadata": {},
          "execution_count": 8
        }
      ]
    },
    {
      "cell_type": "code",
      "source": [
        "# Remove stop words\n",
        "stop = stopwords.words('english')\n",
        "file_content['v2'] = file_content['v2'].apply(lambda x: \" \".join(x for x in x.split() if x not in stop))"
      ],
      "metadata": {
        "id": "jtRnFhnQVDk1"
      },
      "execution_count": 9,
      "outputs": []
    },
    {
      "cell_type": "code",
      "source": [
        "file_content.head()"
      ],
      "metadata": {
        "colab": {
          "base_uri": "https://localhost:8080/",
          "height": 206
        },
        "id": "IMhioGfO3CxR",
        "outputId": "c764ac48-9ec5-47ff-e296-be9b456fcadd"
      },
      "execution_count": 10,
      "outputs": [
        {
          "output_type": "execute_result",
          "data": {
            "text/plain": [
              "     v1                                                 v2\n",
              "0   ham  Go jurong point, crazy.. Available bugis n gre...\n",
              "1   ham                      Ok lar... Joking wif u oni...\n",
              "2  spam  Free entry 2 wkly comp win FA Cup final tkts 2...\n",
              "3   ham          U dun say early hor... U c already say...\n",
              "4   ham          Nah I think goes usf, lives around though"
            ],
            "text/html": [
              "\n",
              "  <div id=\"df-c34b8543-f9eb-450a-8c4f-148c2af3f16d\">\n",
              "    <div class=\"colab-df-container\">\n",
              "      <div>\n",
              "<style scoped>\n",
              "    .dataframe tbody tr th:only-of-type {\n",
              "        vertical-align: middle;\n",
              "    }\n",
              "\n",
              "    .dataframe tbody tr th {\n",
              "        vertical-align: top;\n",
              "    }\n",
              "\n",
              "    .dataframe thead th {\n",
              "        text-align: right;\n",
              "    }\n",
              "</style>\n",
              "<table border=\"1\" class=\"dataframe\">\n",
              "  <thead>\n",
              "    <tr style=\"text-align: right;\">\n",
              "      <th></th>\n",
              "      <th>v1</th>\n",
              "      <th>v2</th>\n",
              "    </tr>\n",
              "  </thead>\n",
              "  <tbody>\n",
              "    <tr>\n",
              "      <th>0</th>\n",
              "      <td>ham</td>\n",
              "      <td>Go jurong point, crazy.. Available bugis n gre...</td>\n",
              "    </tr>\n",
              "    <tr>\n",
              "      <th>1</th>\n",
              "      <td>ham</td>\n",
              "      <td>Ok lar... Joking wif u oni...</td>\n",
              "    </tr>\n",
              "    <tr>\n",
              "      <th>2</th>\n",
              "      <td>spam</td>\n",
              "      <td>Free entry 2 wkly comp win FA Cup final tkts 2...</td>\n",
              "    </tr>\n",
              "    <tr>\n",
              "      <th>3</th>\n",
              "      <td>ham</td>\n",
              "      <td>U dun say early hor... U c already say...</td>\n",
              "    </tr>\n",
              "    <tr>\n",
              "      <th>4</th>\n",
              "      <td>ham</td>\n",
              "      <td>Nah I think goes usf, lives around though</td>\n",
              "    </tr>\n",
              "  </tbody>\n",
              "</table>\n",
              "</div>\n",
              "      <button class=\"colab-df-convert\" onclick=\"convertToInteractive('df-c34b8543-f9eb-450a-8c4f-148c2af3f16d')\"\n",
              "              title=\"Convert this dataframe to an interactive table.\"\n",
              "              style=\"display:none;\">\n",
              "        \n",
              "  <svg xmlns=\"http://www.w3.org/2000/svg\" height=\"24px\"viewBox=\"0 0 24 24\"\n",
              "       width=\"24px\">\n",
              "    <path d=\"M0 0h24v24H0V0z\" fill=\"none\"/>\n",
              "    <path d=\"M18.56 5.44l.94 2.06.94-2.06 2.06-.94-2.06-.94-.94-2.06-.94 2.06-2.06.94zm-11 1L8.5 8.5l.94-2.06 2.06-.94-2.06-.94L8.5 2.5l-.94 2.06-2.06.94zm10 10l.94 2.06.94-2.06 2.06-.94-2.06-.94-.94-2.06-.94 2.06-2.06.94z\"/><path d=\"M17.41 7.96l-1.37-1.37c-.4-.4-.92-.59-1.43-.59-.52 0-1.04.2-1.43.59L10.3 9.45l-7.72 7.72c-.78.78-.78 2.05 0 2.83L4 21.41c.39.39.9.59 1.41.59.51 0 1.02-.2 1.41-.59l7.78-7.78 2.81-2.81c.8-.78.8-2.07 0-2.86zM5.41 20L4 18.59l7.72-7.72 1.47 1.35L5.41 20z\"/>\n",
              "  </svg>\n",
              "      </button>\n",
              "      \n",
              "  <style>\n",
              "    .colab-df-container {\n",
              "      display:flex;\n",
              "      flex-wrap:wrap;\n",
              "      gap: 12px;\n",
              "    }\n",
              "\n",
              "    .colab-df-convert {\n",
              "      background-color: #E8F0FE;\n",
              "      border: none;\n",
              "      border-radius: 50%;\n",
              "      cursor: pointer;\n",
              "      display: none;\n",
              "      fill: #1967D2;\n",
              "      height: 32px;\n",
              "      padding: 0 0 0 0;\n",
              "      width: 32px;\n",
              "    }\n",
              "\n",
              "    .colab-df-convert:hover {\n",
              "      background-color: #E2EBFA;\n",
              "      box-shadow: 0px 1px 2px rgba(60, 64, 67, 0.3), 0px 1px 3px 1px rgba(60, 64, 67, 0.15);\n",
              "      fill: #174EA6;\n",
              "    }\n",
              "\n",
              "    [theme=dark] .colab-df-convert {\n",
              "      background-color: #3B4455;\n",
              "      fill: #D2E3FC;\n",
              "    }\n",
              "\n",
              "    [theme=dark] .colab-df-convert:hover {\n",
              "      background-color: #434B5C;\n",
              "      box-shadow: 0px 1px 3px 1px rgba(0, 0, 0, 0.15);\n",
              "      filter: drop-shadow(0px 1px 2px rgba(0, 0, 0, 0.3));\n",
              "      fill: #FFFFFF;\n",
              "    }\n",
              "  </style>\n",
              "\n",
              "      <script>\n",
              "        const buttonEl =\n",
              "          document.querySelector('#df-c34b8543-f9eb-450a-8c4f-148c2af3f16d button.colab-df-convert');\n",
              "        buttonEl.style.display =\n",
              "          google.colab.kernel.accessAllowed ? 'block' : 'none';\n",
              "\n",
              "        async function convertToInteractive(key) {\n",
              "          const element = document.querySelector('#df-c34b8543-f9eb-450a-8c4f-148c2af3f16d');\n",
              "          const dataTable =\n",
              "            await google.colab.kernel.invokeFunction('convertToInteractive',\n",
              "                                                     [key], {});\n",
              "          if (!dataTable) return;\n",
              "\n",
              "          const docLinkHtml = 'Like what you see? Visit the ' +\n",
              "            '<a target=\"_blank\" href=https://colab.research.google.com/notebooks/data_table.ipynb>data table notebook</a>'\n",
              "            + ' to learn more about interactive tables.';\n",
              "          element.innerHTML = '';\n",
              "          dataTable['output_type'] = 'display_data';\n",
              "          await google.colab.output.renderOutput(dataTable, element);\n",
              "          const docLink = document.createElement('div');\n",
              "          docLink.innerHTML = docLinkHtml;\n",
              "          element.appendChild(docLink);\n",
              "        }\n",
              "      </script>\n",
              "    </div>\n",
              "  </div>\n",
              "  "
            ]
          },
          "metadata": {},
          "execution_count": 10
        }
      ]
    },
    {
      "cell_type": "code",
      "source": [
        "Email_Data = file_content.copy()"
      ],
      "metadata": {
        "id": "Td8SgY9n1-iI"
      },
      "execution_count": 11,
      "outputs": []
    },
    {
      "cell_type": "code",
      "source": [
        "Email_Data = Email_Data.rename(columns={\"v1\":\"Target\", \"v2\":\"Email\"})\n",
        "Email_Data.head()"
      ],
      "metadata": {
        "colab": {
          "base_uri": "https://localhost:8080/",
          "height": 206
        },
        "id": "LLB1I5i42JGI",
        "outputId": "17e56095-11d7-4385-9a02-4095205a25cd"
      },
      "execution_count": 12,
      "outputs": [
        {
          "output_type": "execute_result",
          "data": {
            "text/plain": [
              "  Target                                              Email\n",
              "0    ham  Go jurong point, crazy.. Available bugis n gre...\n",
              "1    ham                      Ok lar... Joking wif u oni...\n",
              "2   spam  Free entry 2 wkly comp win FA Cup final tkts 2...\n",
              "3    ham          U dun say early hor... U c already say...\n",
              "4    ham          Nah I think goes usf, lives around though"
            ],
            "text/html": [
              "\n",
              "  <div id=\"df-3e048faa-0284-4016-bac4-437a0a8db8ad\">\n",
              "    <div class=\"colab-df-container\">\n",
              "      <div>\n",
              "<style scoped>\n",
              "    .dataframe tbody tr th:only-of-type {\n",
              "        vertical-align: middle;\n",
              "    }\n",
              "\n",
              "    .dataframe tbody tr th {\n",
              "        vertical-align: top;\n",
              "    }\n",
              "\n",
              "    .dataframe thead th {\n",
              "        text-align: right;\n",
              "    }\n",
              "</style>\n",
              "<table border=\"1\" class=\"dataframe\">\n",
              "  <thead>\n",
              "    <tr style=\"text-align: right;\">\n",
              "      <th></th>\n",
              "      <th>Target</th>\n",
              "      <th>Email</th>\n",
              "    </tr>\n",
              "  </thead>\n",
              "  <tbody>\n",
              "    <tr>\n",
              "      <th>0</th>\n",
              "      <td>ham</td>\n",
              "      <td>Go jurong point, crazy.. Available bugis n gre...</td>\n",
              "    </tr>\n",
              "    <tr>\n",
              "      <th>1</th>\n",
              "      <td>ham</td>\n",
              "      <td>Ok lar... Joking wif u oni...</td>\n",
              "    </tr>\n",
              "    <tr>\n",
              "      <th>2</th>\n",
              "      <td>spam</td>\n",
              "      <td>Free entry 2 wkly comp win FA Cup final tkts 2...</td>\n",
              "    </tr>\n",
              "    <tr>\n",
              "      <th>3</th>\n",
              "      <td>ham</td>\n",
              "      <td>U dun say early hor... U c already say...</td>\n",
              "    </tr>\n",
              "    <tr>\n",
              "      <th>4</th>\n",
              "      <td>ham</td>\n",
              "      <td>Nah I think goes usf, lives around though</td>\n",
              "    </tr>\n",
              "  </tbody>\n",
              "</table>\n",
              "</div>\n",
              "      <button class=\"colab-df-convert\" onclick=\"convertToInteractive('df-3e048faa-0284-4016-bac4-437a0a8db8ad')\"\n",
              "              title=\"Convert this dataframe to an interactive table.\"\n",
              "              style=\"display:none;\">\n",
              "        \n",
              "  <svg xmlns=\"http://www.w3.org/2000/svg\" height=\"24px\"viewBox=\"0 0 24 24\"\n",
              "       width=\"24px\">\n",
              "    <path d=\"M0 0h24v24H0V0z\" fill=\"none\"/>\n",
              "    <path d=\"M18.56 5.44l.94 2.06.94-2.06 2.06-.94-2.06-.94-.94-2.06-.94 2.06-2.06.94zm-11 1L8.5 8.5l.94-2.06 2.06-.94-2.06-.94L8.5 2.5l-.94 2.06-2.06.94zm10 10l.94 2.06.94-2.06 2.06-.94-2.06-.94-.94-2.06-.94 2.06-2.06.94z\"/><path d=\"M17.41 7.96l-1.37-1.37c-.4-.4-.92-.59-1.43-.59-.52 0-1.04.2-1.43.59L10.3 9.45l-7.72 7.72c-.78.78-.78 2.05 0 2.83L4 21.41c.39.39.9.59 1.41.59.51 0 1.02-.2 1.41-.59l7.78-7.78 2.81-2.81c.8-.78.8-2.07 0-2.86zM5.41 20L4 18.59l7.72-7.72 1.47 1.35L5.41 20z\"/>\n",
              "  </svg>\n",
              "      </button>\n",
              "      \n",
              "  <style>\n",
              "    .colab-df-container {\n",
              "      display:flex;\n",
              "      flex-wrap:wrap;\n",
              "      gap: 12px;\n",
              "    }\n",
              "\n",
              "    .colab-df-convert {\n",
              "      background-color: #E8F0FE;\n",
              "      border: none;\n",
              "      border-radius: 50%;\n",
              "      cursor: pointer;\n",
              "      display: none;\n",
              "      fill: #1967D2;\n",
              "      height: 32px;\n",
              "      padding: 0 0 0 0;\n",
              "      width: 32px;\n",
              "    }\n",
              "\n",
              "    .colab-df-convert:hover {\n",
              "      background-color: #E2EBFA;\n",
              "      box-shadow: 0px 1px 2px rgba(60, 64, 67, 0.3), 0px 1px 3px 1px rgba(60, 64, 67, 0.15);\n",
              "      fill: #174EA6;\n",
              "    }\n",
              "\n",
              "    [theme=dark] .colab-df-convert {\n",
              "      background-color: #3B4455;\n",
              "      fill: #D2E3FC;\n",
              "    }\n",
              "\n",
              "    [theme=dark] .colab-df-convert:hover {\n",
              "      background-color: #434B5C;\n",
              "      box-shadow: 0px 1px 3px 1px rgba(0, 0, 0, 0.15);\n",
              "      filter: drop-shadow(0px 1px 2px rgba(0, 0, 0, 0.3));\n",
              "      fill: #FFFFFF;\n",
              "    }\n",
              "  </style>\n",
              "\n",
              "      <script>\n",
              "        const buttonEl =\n",
              "          document.querySelector('#df-3e048faa-0284-4016-bac4-437a0a8db8ad button.colab-df-convert');\n",
              "        buttonEl.style.display =\n",
              "          google.colab.kernel.accessAllowed ? 'block' : 'none';\n",
              "\n",
              "        async function convertToInteractive(key) {\n",
              "          const element = document.querySelector('#df-3e048faa-0284-4016-bac4-437a0a8db8ad');\n",
              "          const dataTable =\n",
              "            await google.colab.kernel.invokeFunction('convertToInteractive',\n",
              "                                                     [key], {});\n",
              "          if (!dataTable) return;\n",
              "\n",
              "          const docLinkHtml = 'Like what you see? Visit the ' +\n",
              "            '<a target=\"_blank\" href=https://colab.research.google.com/notebooks/data_table.ipynb>data table notebook</a>'\n",
              "            + ' to learn more about interactive tables.';\n",
              "          element.innerHTML = '';\n",
              "          dataTable['output_type'] = 'display_data';\n",
              "          await google.colab.output.renderOutput(dataTable, element);\n",
              "          const docLink = document.createElement('div');\n",
              "          docLink.innerHTML = docLinkHtml;\n",
              "          element.appendChild(docLink);\n",
              "        }\n",
              "      </script>\n",
              "    </div>\n",
              "  </div>\n",
              "  "
            ]
          },
          "metadata": {},
          "execution_count": 12
        }
      ]
    },
    {
      "cell_type": "code",
      "source": [
        "Email_Data['Email'] = Email_Data['Email'].apply(lambda x:re.sub('[!@#$:).;,?&]','', x.lower()))\n",
        "Email_Data['Email'] = Email_Data['Email'].apply(lambda x:re.sub(' ', ' ', x))\n",
        "# Email_Data['Email'].head(5)"
      ],
      "metadata": {
        "id": "3WLk5BMZ3bd0"
      },
      "execution_count": 13,
      "outputs": []
    },
    {
      "cell_type": "code",
      "source": [
        "#Separating text(input) and target classes\n",
        "list_sentences_rawdata = Email_Data[\"Email\"].fillna(\"_na_\").values\n",
        "list_classes = [\"Target\"]\n",
        "target = Email_Data[list_classes].values\n",
        "To_Process=Email_Data[['Email', 'Target']]"
      ],
      "metadata": {
        "id": "IX_UFmnG4dWf"
      },
      "execution_count": 14,
      "outputs": []
    },
    {
      "cell_type": "code",
      "source": [
        "list_sentences_rawdata "
      ],
      "metadata": {
        "colab": {
          "base_uri": "https://localhost:8080/"
        },
        "id": "EhKbsSzk5jMc",
        "outputId": "c9195051-a960-451f-ed74-5a2cce592535"
      },
      "execution_count": 15,
      "outputs": [
        {
          "output_type": "execute_result",
          "data": {
            "text/plain": [
              "array(['go jurong point crazy available bugis n great world la e buffet cine got amore wat',\n",
              "       'ok lar joking wif u oni',\n",
              "       \"free entry 2 wkly comp win fa cup final tkts 21st may 2005 text fa 87121 receive entry question(std txt ratetc's apply 08452810075over18's\",\n",
              "       ..., 'pity * mood that soany suggestions',\n",
              "       \"the guy bitching i acted like i'd interested buying something else next week gave us free\",\n",
              "       'rofl its true name'], dtype=object)"
            ]
          },
          "metadata": {},
          "execution_count": 15
        }
      ]
    },
    {
      "cell_type": "code",
      "source": [
        "#Train and test split with 80:20 ratio\n",
        "train, test = train_test_split(To_Process, test_size=0.2, random_state = 42)"
      ],
      "metadata": {
        "id": "XGTXG66I5lsQ"
      },
      "execution_count": 16,
      "outputs": []
    },
    {
      "cell_type": "code",
      "source": [
        "# Define the sequence lengths, max number of words and\n",
        "# embedding dimensions\n",
        "# Sequence length of each sentence. If more, truncate. If less,\n",
        "# pad with zeros\n",
        "MAX_SEQUENCE_LENGTH = 300\n",
        "# Top 20000 frequently occurring words\n",
        "MAX_NB_WORDS = 20000"
      ],
      "metadata": {
        "id": "1S7yQppb64KC"
      },
      "execution_count": 17,
      "outputs": []
    },
    {
      "cell_type": "code",
      "source": [
        "# Get the frequently occurring words\n",
        "tokenizer = Tokenizer(num_words=MAX_NB_WORDS)\n",
        "tokenizer.fit_on_texts(train.Email)\n",
        "train_sequences = tokenizer.texts_to_sequences(train.Email)\n",
        "test_sequences = tokenizer.texts_to_sequences(test.Email)"
      ],
      "metadata": {
        "id": "dL7sZ8I-8WRA"
      },
      "execution_count": 18,
      "outputs": []
    },
    {
      "cell_type": "code",
      "source": [
        "# dictionary containing words and their index\n",
        "word_index = tokenizer.word_index\n",
        "print(tokenizer.word_index)\n",
        "# total words in the corpus\n",
        "print('Found %s unique tokens.' % len(word_index))\n",
        "# get only the top frequent words on train"
      ],
      "metadata": {
        "colab": {
          "base_uri": "https://localhost:8080/"
        },
        "id": "ysLXI3tE9d5S",
        "outputId": "e568fb2c-a08c-42c2-ff6e-cac217224257"
      },
      "execution_count": 19,
      "outputs": [
        {
          "output_type": "stream",
          "name": "stdout",
          "text": [
            "{'i': 1, 'u': 2, 'call': 3, 'you': 4, '2': 5, 'ur': 6, 'get': 7, \"i'm\": 8, '4': 9, 'ltgt': 10, 'go': 11, 'now': 12, 'free': 13, 'ok': 14, 'me': 15, 'know': 16, 'got': 17, 'it': 18, 'good': 19, 'come': 20, 'like': 21, 'no': 22, 'time': 23, 'love': 24, 'send': 25, 'day': 26, 'text': 27, 'want': 28, 'going': 29, 'txt': 30, 'one': 31, 'home': 32, 'need': 33, 'lor': 34, 'stop': 35, 'r': 36, 'still': 37, 'see': 38, \"i'll\": 39, 'sorry': 40, 'back': 41, 'how': 42, 'if': 43, 'do': 44, 'so': 45, 'reply': 46, 'mobile': 47, 'hi': 48, 'dont': 49, 'n': 50, 'today': 51, 'da': 52, 'but': 53, 'please': 54, 'tell': 55, 'new': 56, 'the': 57, 'just': 58, 'what': 59, 'my': 60, 'think': 61, 'ì': 62, 'later': 63, 'phone': 64, 'week': 65, 'we': 66, 'claim': 67, 'your': 68, 'hey': 69, 'well': 70, 'night': 71, 'msg': 72, 'take': 73, 'dear': 74, 'pls': 75, 'and': 76, 'way': 77, 'is': 78, 'happy': 79, 'in': 80, 'a': 81, 'oh': 82, 'to': 83, 'this': 84, 'much': 85, 'tomorrow': 86, 'can': 87, 'great': 88, 'make': 89, 'give': 90, 'are': 91, 'hope': 92, 'say': 93, 'yes': 94, '1': 95, 'have': 96, 'right': 97, 'cash': 98, 'that': 99, 'prize': 100, 'not': 101, 'already': 102, 'number': 103, 'its': 104, 'c': 105, 'work': 106, 'ask': 107, 'message': 108, 'meet': 109, 'amp': 110, 'wat': 111, 'then': 112, 'babe': 113, 'said': 114, 'last': 115, 'im': 116, '3': 117, 'morning': 118, 'really': 119, 'pick': 120, 'find': 121, 'yeah': 122, 'e': 123, 'cos': 124, 'min': 125, \"i've\": 126, 'thanks': 127, 'lol': 128, 'there': 129, 'life': 130, 'miss': 131, 'nokia': 132, 'ill': 133, 'sure': 134, 'also': 135, 'cant': 136, 'buy': 137, 'something': 138, 'b': 139, 'anything': 140, 'sent': 141, 'win': 142, 'could': 143, 'every': 144, 'k': 145, 'urgent': 146, 'keep': 147, 'next': 148, 'would': 149, 'around': 150, 'only': 151, 'money': 152, '150p': 153, 'went': 154, 'feel': 155, 'up': 156, 'nice': 157, 'let': 158, 'tonight': 159, 'gonna': 160, 'tone': 161, 'contact': 162, 'per': 163, 'first': 164, 'for': 165, 'out': 166, 'place': 167, 'many': 168, 'ya': 169, 'us': 170, \"that's\": 171, 'chat': 172, 'wish': 173, 'wait': 174, 'thing': 175, 'soon': 176, 'hello': 177, 'care': 178, 'wan': 179, 'dun': 180, 'service': 181, 'waiting': 182, 'even': 183, 'leave': 184, \"can't\": 185, 'people': 186, 'customer': 187, 'class': 188, 'x': 189, 'when': 190, 'friends': 191, 'haha': 192, 'sms': 193, '16': 194, 'he': 195, 'told': 196, 'coming': 197, 'someone': 198, 'late': 199, 'getting': 200, 'did': 201, 'ìï': 202, 'on': 203, 'sleep': 204, 'all': 205, 'may': 206, 'thk': 207, 'done': 208, 'help': 209, 'always': 210, 'guaranteed': 211, 'yet': 212, 'try': 213, 'will': 214, 'things': 215, 'heart': 216, 'special': 217, 'friend': 218, '18': 219, 'thought': 220, 'she': 221, 'at': 222, 'year': 223, 'talk': 224, 'bit': 225, 'man': 226, 'or': 227, 'gud': 228, 'fine': 229, 'live': 230, 'where': 231, 'holiday': 232, '5': 233, 'v': 234, 'trying': 235, 'name': 236, 'draw': 237, 'meeting': 238, 'yo': 239, 'never': 240, 'yup': 241, 'cool': 242, 'latest': 243, 'here': 244, 'line': 245, 'use': 246, 'smile': 247, 'stuff': 248, 'person': 249, 'as': 250, 'dat': 251, 'camera': 252, 'receive': 253, 'house': 254, 'thats': 255, 'mind': 256, 'lunch': 257, \"it's\": 258, 'mins': 259, '6': 260, 'finish': 261, 'best': 262, 'job': 263, 'wk': 264, 'birthday': 265, 'check': 266, 'better': 267, 'eat': 268, 'shit': 269, 'enjoy': 270, 'lot': 271, 'box': 272, 'lar': 273, 'days': 274, 'luv': 275, 'am': 276, 'too': 277, '1st': 278, 'nothing': 279, 'another': 280, 'guess': 281, '150ppm': 282, 'landline': 283, 'car': 284, 'ready': 285, 'half': 286, 'chance': 287, 'liao': 288, 'watching': 289, 'kiss': 290, 'problem': 291, 'awarded': 292, 'quite': 293, 'probably': 294, 'play': 295, 'end': 296, 'long': 297, 'dinner': 298, 'room': 299, 'two': 300, 'sir': 301, 'actually': 302, 'å£1000': 303, 'might': 304, 'remember': 305, 'part': 306, 'world': 307, 'å£150': 308, 'cost': 309, 'face': 310, 'wanna': 311, 'reach': 312, 'forgot': 313, 'month': 314, 'again': 315, 'big': 316, 'leh': 317, 'early': 318, 'real': 319, 'princess': 320, 'weekend': 321, 'po': 322, 'look': 323, 'speak': 324, 'orange': 325, 'watch': 326, 'account': 327, 'shows': 328, 'baby': 329, 'of': 330, 'ringtone': 331, 'å£2000': 332, 'hear': 333, 'xxx': 334, '7': 335, 'was': 336, 'pay': 337, 'aight': 338, 'maybe': 339, 'they': 340, 'says': 341, 'why': 342, 'guys': 343, 'means': 344, 'sweet': 345, 'bus': 346, 'apply': 347, 'with': 348, 'without': 349, 'selected': 350, 'plan': 351, 'came': 352, 'start': 353, 'bt': 354, 'left': 355, 'award': 356, 'word': 357, 'xmas': 358, 'ah': 359, \"he's\": 360, 'texts': 361, 'hav': 362, 'juz': 363, 'missing': 364, 'update': 365, 'rate': 366, 'school': 367, 'offer': 368, 'entry': 369, 'fuck': 370, '2nd': 371, 'thank': 372, 'little': 373, 'sat': 374, 'ever': 375, 'code': 376, 'goes': 377, 'able': 378, 'wanted': 379, 'town': 380, \"don't\": 381, 'thanx': 382, 'enough': 383, 'tcs': 384, '9': 385, 'shopping': 386, 'girl': 387, 'bad': 388, 'years': 389, 'had': 390, 'sexy': 391, 'since': 392, 'fun': 393, 'everything': 394, 'anyway': 395, 'hour': 396, 'put': 397, 'dis': 398, 'tmr': 399, 'called': 400, 'dunno': 401, 'tv': 402, 'pa': 403, 'god': 404, 'shall': 405, 'join': 406, 'jus': 407, 'den': 408, 'wif': 409, 'till': 410, 'double': 411, 'food': 412, 'easy': 413, 'video': 414, 'minutes': 415, 'dad': 416, 'tones': 417, 'wot': 418, 'must': 419, 'away': 420, 'important': 421, 'network': 422, 'times': 423, 'collection': 424, 'afternoon': 425, 'collect': 426, 'wake': 427, 'wont': 428, 'calls': 429, \"how's\": 430, 'weekly': 431, 'didnt': 432, 'made': 433, 'driving': 434, 'stay': 435, 'her': 436, 'won': 437, 'office': 438, 'de': 439, 'details': 440, 'nite': 441, 'abt': 442, 'though': 443, 'asked': 444, 'be': 445, \"we're\": 446, 'top': 447, 'okay': 448, 'evening': 449, 'yesterday': 450, 'show': 451, 'attempt': 452, 'over': 453, '500': 454, 'from': 455, 'plus': 456, 'friendship': 457, 'looking': 458, 'pain': 459, 'makes': 460, 'http': 461, 'mob': 462, 'words': 463, 'saying': 464, 'goin': 465, 'true': 466, 'tc': 467, 'national': 468, 'gift': 469, 'else': 470, 'saw': 471, 'ltdecimalgt': 472, 'either': 473, 'huh': 474, 'tot': 475, 'book': 476, 'test': 477, 'lei': 478, 'row': 479, '10p': 480, 'working': 481, 'believe': 482, 'plz': 483, 'music': 484, 'havent': 485, 'him': 486, 'bring': 487, 'bed': 488, 'poly': 489, 'wants': 490, 'brother': 491, \"there's\": 492, 'question': 493, 'todays': 494, 'address': 495, 'hot': 496, 'online': 497, 'worry': 498, 'price': 499, 'together': 500, '8007': 501, 'boy': 502, 's': 503, 'g': 504, 'game': 505, 'charge': 506, 'guy': 507, 'missed': 508, 'making': 509, \"we'll\": 510, 'valid': 511, 'sae': 512, \"what's\": 513, 'hair': 514, 'mail': 515, 'å£100': 516, 'took': 517, 'sister': 518, 'okie': 519, 'old': 520, 'drive': 521, 'wife': 522, 'drop': 523, 'haf': 524, 'sch': 525, 'noe': 526, 'alright': 527, 'trip': 528, 'change': 529, 'lucky': 530, 'eve': 531, 'comes': 532, 'lesson': 533, 'mean': 534, 'hours': 535, 'colour': 536, 'oso': 537, 'dude': 538, 'await': 539, 'final': 540, 'wil': 541, 'taking': 542, '8': 543, 'busy': 544, 'wen': 545, 'date': 546, 'opt': 547, 'voucher': 548, 'å£500': 549, 'aft': 550, 'pm': 551, 'story': 552, 'finished': 553, 'delivery': 554, 'forget': 555, 'full': 556, 'y': 557, 'tried': 558, 'pub': 559, 'should': 560, 'shop': 561, 'gr8': 562, 'who': 563, 'movie': 564, 'lose': 565, 'ring': 566, 'sis': 567, 'coz': 568, 'å£5000': 569, 'smiling': 570, 'bonus': 571, 'boytoy': 572, 'pounds': 573, 'w': 574, 'takes': 575, 'gd': 576, 'services': 577, 'thinking': 578, 'more': 579, 'ard': 580, 'wid': 581, 'feeling': 582, 'head': 583, 'calling': 584, 'land': 585, 'email': 586, 'sleeping': 587, 'minute': 588, 'mobileupd8': 589, 'messages': 590, 'å£250': 591, 'sounds': 592, 'post': 593, '86688': 594, 'suite342': 595, '2lands': 596, 'order': 597, 'knw': 598, 'lots': 599, 'drink': 600, 'leaving': 601, 'pic': 602, 'simple': 603, 'second': 604, 'points': 605, 'answer': 606, 'started': 607, 'lets': 608, 'set': 609, 'any': 610, 'run': 611, 'ten': 612, 'family': 613, 'sea': 614, 'frnd': 615, 'off': 616, 'same': 617, 'bout': 618, 'open': 619, 'alone': 620, 'found': 621, 'whatever': 622, 'til': 623, 'smth': 624, 'oredi': 625, 'congrats': 626, 'happened': 627, 'happen': 628, '12hrs': 629, 'dating': 630, 'after': 631, 'gone': 632, 'available': 633, 'operator': 634, '08000839402': 635, 'nope': 636, 'college': 637, 'visit': 638, 'about': 639, 'wonderful': 640, 'by': 641, 'f': 642, 'loving': 643, 'treat': 644, 'vouchers': 645, 'd': 646, 'weeks': 647, 'walk': 648, 'our': 649, 'm': 650, '10': 651, 'ass': 652, 'hard': 653, 'close': 654, 'decided': 655, 'congratulations': 656, 'finally': 657, 'dreams': 658, 'log': 659, 'worth': 660, 'gas': 661, 'hold': 662, 'meant': 663, 'winner': 664, 'mine': 665, 'club': 666, 'beautiful': 667, 'unsubscribe': 668, 'course': 669, 'bored': 670, 'friday': 671, 'ltd': 672, 't': 673, 'card': 674, 'carlos': 675, 'news': 676, 'snow': 677, 'wkly': 678, 'enter': 679, 'sad': 680, 'choose': 681, 'awesome': 682, 'phones': 683, 'touch': 684, 'sun': 685, 'project': 686, 'neva': 687, 'pretty': 688, 'mum': 689, 'area': 690, 'seeing': 691, 'fucking': 692, 'search': 693, 'games': 694, 'yar': 695, 'crazy': 696, 'cause': 697, 'fast': 698, 'pobox': 699, 'complimentary': 700, 'kind': 701, 'girls': 702, 'gym': 703, 'doing': 704, 'rite': 705, 'fr': 706, 'txts': 707, 'them': 708, 'motorola': 709, 'prob': 710, 'earlier': 711, 'freemsg': 712, 'ha': 713, \"''\": 714, 'tho': 715, 'mu': 716, 'telling': 717, 'tomo': 718, 'hows': 719, 'id': 720, 'case': 721, 'everyone': 722, 'company': 723, 'fri': 724, 'hungry': 725, 'far': 726, 'break': 727, 'used': 728, 'pics': 729, 'player': 730, 'unlimited': 731, 'hurt': 732, 'bank': 733, 'o': 734, 'private': 735, 'statement': 736, 'expires': 737, 'mate': 738, 'reading': 739, 'type': 740, 'mah': 741, 'hit': 742, 'happiness': 743, 'christmas': 744, 'slowly': 745, 'crave': 746, 'information': 747, 'picking': 748, 'almost': 749, 'credit': 750, 'mates': 751, 'extra': 752, 'caller': 753, 'nt': 754, 'difficult': 755, 'match': 756, 'angry': 757, 'anyone': 758, 'frm': 759, 'auction': 760, 'read': 761, 'balance': 762, 'goodmorning': 763, 'wrong': 764, 'call2optout': 765, 'park': 766, 'eg': 767, 'lovely': 768, 'comp': 769, 'anytime': 770, 'yr': 771, 'saturday': 772, 'down': 773, 'invited': 774, 'mayb': 775, 'th': 776, 'hg': 777, 'w1j6hl': 778, 'which': 779, 'etc': 780, 'uncle': 781, 'fancy': 782, 'song': 783, 'msgs': 784, 'chikku': 785, '100': 786, 'couple': 787, 'felt': 788, 'content': 789, 'blue': 790, 'frnds': 791, 'å£350': 792, 'does': 793, 'ipod': 794, 'once': 795, '750': 796, 'usf': 797, 'st': 798, 'hand': 799, 'identifier': 800, 'lost': 801, 'save': 802, 'hee': 803, 'india': 804, 'moment': 805, 'download': 806, 'empty': 807, 'cut': 808, 'kate': 809, 'drugs': 810, 'surprise': 811, 'hmm': 812, 'mom': 813, 'loads': 814, 'light': 815, 'england': 816, 'welcome': 817, 'party': 818, '03': 819, 'direct': 820, 'before': 821, 'numbers': 822, 'rates': 823, 'currently': 824, 'dnt': 825, 'ends': 826, 'ntt': 827, '150': 828, 'ans': 829, 'somebody': 830, '0800': 831, '\\x89û': 832, '11': 833, 'via': 834, 'uk': 835, 'quiz': 836, 'whats': 837, 'within': 838, 'shower': 839, \"i'd\": 840, 'wana': 841, 'chennai': 842, '87066': 843, 'tscs': 844, 'mobiles': 845, 'ldn': 846, 'rply': 847, 'paper': 848, 'offers': 849, 'reason': 850, 'rental': 851, 'tired': 852, 'woke': 853, 'plans': 854, 'laptop': 855, 'muz': 856, 'rock': 857, 'darlin': 858, 'ugh': 859, '800': 860, 'un': 861, 'eyes': 862, 'cum': 863, '\\x89ûò': 864, 'std': 865, 'months': 866, 'mrng': 867, 'b4': 868, 'wonder': 869, 'user': 870, 'fantastic': 871, 'kinda': 872, 'met': 873, 'valued': 874, 'na': 875, 'gets': 876, 'flag': 877, 'xy': 878, 'fone': 879, 'gotta': 880, 'ni8': 881, 'lover': 882, 'checking': 883, 'askd': 884, 'outside': 885, 'semester': 886, 'brings': 887, '11mths': 888, 'yours': 889, 'luck': 890, '20p': 891, 'secret': 892, 'truth': 893, 'tht': 894, 'seen': 895, 'entered': 896, 'hiya': 897, 'sound': 898, 'spend': 899, 'gave': 900, 'rent': 901, 'hoping': 902, 'march': 903, 'listen': 904, 'sick': 905, 'bslvyl': 906, 'convey': 907, 'orchard': 908, 'kids': 909, 'comin': 910, 'needs': 911, '2nite': 912, 'darren': 913, 'poor': 914, 'sort': 915, 'figure': 916, 'eh': 917, 'grins': 918, 'across': 919, 'point': 920, 'mr': 921, 'info': 922, 'whenever': 923, 'least': 924, 'others': 925, 'sitting': 926, 'charity': 927, 'savamob': 928, 'small': 929, 'immediately': 930, 'side': 931, 'bill': 932, 'cheap': 933, 'jay': 934, 'booked': 935, 'glad': 936, 'remove': 937, 'bath': 938, 'yep': 939, 'father': 940, 'john': 941, 'age': 942, '08000930705': 943, 'bathe': 944, 'rs': 945, 'gal': 946, 'sending': 947, '2003': 948, 'redeemed': 949, '04': 950, 'confirm': 951, 'decide': 952, 'correct': 953, 'wondering': 954, 'yahoo': 955, 'forwarded': 956, 'xx': 957, 'none': 958, 'accept': 959, 'catch': 960, 'warm': 961, 'ge': 962, 'mm': 963, '12': 964, 'nyt': 965, 'completely': 966, 'txting': 967, 'rest': 968, 'knew': 969, 'near': 970, 'swing': 971, 'smoke': 972, 'ending': 973, 'ive': 974, 'medical': 975, 'reaching': 976, 'anymore': 977, 'deep': 978, 'reveal': 979, 'thinks': 980, 'energy': 981, 'safe': 982, 'bcoz': 983, 'paying': 984, 'loan': 985, 'bluetooth': 986, '87077': 987, 'shes': 988, 'credits': 989, 'worried': 990, 'monday': 991, 'noon': 992, 'slow': 993, 'ago': 994, 'short': 995, 'lect': 996, \"b'day\": 997, 'parents': 998, 'sunshine': 999, 'p': 1000, 'talking': 1001, 'questions': 1002, 'buying': 1003, 'weekends': 1004, 'doesnt': 1005, 'asap': 1006, 'computer': 1007, 'mrt': 1008, 'wiv': 1009, 'gay': 1010, 'nigeria': 1011, 'less': 1012, 'thinkin': 1013, 'goto': 1014, 'voice': 1015, 'write': 1016, 'discount': 1017, '25p': 1018, 'police': 1019, 'cd': 1020, 'sale': 1021, 'mon': 1022, 'die': 1023, \"you're\": 1024, 'tickets': 1025, 'nah': 1026, '02': 1027, 'net': 1028, 'tel': 1029, 'ex': 1030, 'asking': 1031, 'different': 1032, 'camcorder': 1033, 'reached': 1034, 'supposed': 1035, 'been': 1036, 'summer': 1037, 'sell': 1038, 'worries': 1039, 'strong': 1040, 'freephone': 1041, 'heard': 1042, 'cup': 1043, 'mo': 1044, 'press': 1045, 'wap': 1046, 'terms': 1047, 'facebook': 1048, 'miracle': 1049, 'understand': 1050, 'onto': 1051, 'awaiting': 1052, 'possible': 1053, 'wine': 1054, 'slept': 1055, 'whole': 1056, 'doin': 1057, 'reward': 1058, 'rain': 1059, 'dogging': 1060, 'wwwgetzedcouk': 1061, 'hospital': 1062, 'la': 1063, 'quality': 1064, 'king': 1065, 'urself': 1066, 'frens': 1067, 'merry': 1068, 'tear': 1069, 'very': 1070, 'looks': 1071, 'insurance': 1072, 'laugh': 1073, 'entitled': 1074, 'lovable': 1075, 'seriously': 1076, 'feb': 1077, '06': 1078, '1327': 1079, 'croydon': 1080, 'cr9': 1081, '5wb': 1082, 'library': 1083, 'loved': 1084, 'ones': 1085, 'store': 1086, 'spent': 1087, 'replying': 1088, 'exam': 1089, 'stupid': 1090, 'wishes': 1091, 'matches': 1092, 'starts': 1093, '25': 1094, 'idea': 1095, \"she's\": 1096, 'both': 1097, 'self': 1098, 'digital': 1099, 'cs': 1100, 'sony': 1101, 'em': 1102, 'cell': 1103, 'weed': 1104, 'men': 1105, 'oops': 1106, \"today's\": 1107, 'silent': 1108, 'round': 1109, 'access': 1110, 'meh': 1111, 'login': 1112, 'dead': 1113, 'hurts': 1114, 'ave': 1115, 'other': 1116, 'abiola': 1117, 'boss': 1118, 'fixed': 1119, '4u': 1120, 'slave': 1121, 'din': 1122, 'charged': 1123, 'polys': 1124, 'member': 1125, 'link': 1126, 'loves': 1127, 'flirt': 1128, 'workin': 1129, 'mistake': 1130, 'battery': 1131, 'sunday': 1132, 'support': 1133, 'pete': 1134, 'pass': 1135, 'train': 1136, 'street': 1137, 'tea': 1138, 'his': 1139, 'quick': 1140, 'imma': 1141, 'using': 1142, 'excellent': 1143, 'å£800': 1144, 'tonite': 1145, 'doctor': 1146, 'wit': 1147, 'style': 1148, 'yoga': 1149, 'hop': 1150, 'kb': 1151, 'yourself': 1152, 'were': 1153, 'bak': 1154, 'study': 1155, 'move': 1156, 'opinion': 1157, 'bother': 1158, 'omw': 1159, 'seems': 1160, 'movies': 1161, 'inc': 1162, 'walking': 1163, 'å£200': 1164, 'normal': 1165, 'al': 1166, 'mode': 1167, 'wun': 1168, 'sight': 1169, 'specially': 1170, 'pc': 1171, 'dvd': 1172, 'disturb': 1173, 'complete': 1174, 'amazing': 1175, 'situation': 1176, 'kick': 1177, 'representative': 1178, 'sucks': 1179, 'page': 1180, 'internet': 1181, 'il': 1182, 'version': 1183, 'water': 1184, 'wwwurawinnercom': 1185, 'interested': 1186, 'gn': 1187, 'station': 1188, 'red': 1189, 'otherwise': 1190, 'usually': 1191, 'following': 1192, 'official': 1193, 'sex': 1194, 'studying': 1195, 'budget': 1196, '08712300220': 1197, 'standard': 1198, 'notice': 1199, 'tenerife': 1200, 'tampa': 1201, 'happens': 1202, 'lmao': 1203, 'co': 1204, 'london': 1205, 'list': 1206, 'sim': 1207, 'loyalty': 1208, '08707509020': 1209, '0870': 1210, 'admirer': 1211, 'ac': 1212, 'high': 1213, '2day': 1214, '3030': 1215, 'campus': 1216, 'sup': 1217, 'gettin': 1218, 'country': 1219, 'sense': 1220, 'wats': 1221, 'shd': 1222, 'dream': 1223, 'instead': 1224, 'due': 1225, 'mid': 1226, 'team': 1227, 'share': 1228, 'awake': 1229, 'persons': 1230, 'experience': 1231, 'daddy': 1232, 'lazy': 1233, 'colleagues': 1234, 'envelope': 1235, 'forever': 1236, 'future': 1237, 'cancel': 1238, 'putting': 1239, 'bb': 1240, 'tuesday': 1241, 'pix': 1242, 'deal': 1243, 'personal': 1244, 'damn': 1245, 'knows': 1246, \"you've\": 1247, 'definitely': 1248, \"they're\": 1249, 'recently': 1250, 'mood': 1251, 'theatre': 1252, 'liked': 1253, 'especially': 1254, 'cheers': 1255, 'trust': 1256, 'inviting': 1257, 'wwwsmsac': 1258, '62468': 1259, 'posted': 1260, 'ahead': 1261, \"let's\": 1262, 'rcvd': 1263, 'married': 1264, 'kept': 1265, 'cal': 1266, '08712460324': 1267, 'kallis': 1268, 'valentines': 1269, 'maid': 1270, 'murderer': 1271, 'murdered': 1272, 'january': 1273, 'zed': 1274, 'trouble': 1275, 'changed': 1276, 'marriage': 1277, \"u've\": 1278, 'cinema': 1279, 'goodnight': 1280, 'weather': 1281, 'izzit': 1282, \"where's\": 1283, 'custcare': 1284, 'yrs': 1285, 'lemme': 1286, 'door': 1287, 'ahmad': 1288, 'apartment': 1289, 'sofa': 1290, 'contract': 1291, 'teach': 1292, 'black': 1293, 'mark': 1294, 'coffee': 1295, 'bugis': 1296, 'learn': 1297, '530': 1298, 'wow': 1299, 'towards': 1300, \"u'll\": 1301, 'nature': 1302, 'omg': 1303, 'aiyo': 1304, 'sign': 1305, 'hmmm': 1306, 'nxt': 1307, 'del': 1308, 'askin': 1309, 'rather': 1310, 'howz': 1311, 'gt': 1312, 'problems': 1313, \"wat's\": 1314, 'road': 1315, 'spree': 1316, 'fall': 1317, 'regards': 1318, 'shuhui': 1319, 'registered': 1320, 'plenty': 1321, 'group': 1322, 'happening': 1323, 'sub': 1324, 'hrs': 1325, 'hell': 1326, 'maximize': 1327, 'cc': 1328, 'tat': 1329, 'mp3': 1330, 'however': 1331, 'depends': 1332, 'rose': 1333, 'some1': 1334, 'texting': 1335, 'umma': 1336, 'callertune': 1337, 'copy': 1338, 'fingers': 1339, 'marry': 1340, 'feels': 1341, 'leaves': 1342, 'fetch': 1343, 'aha': 1344, 'usual': 1345, 'ice': 1346, \"joy's\": 1347, 'cafe': 1348, 'players': 1349, 'pray': 1350, 'super': 1351, 'holder': 1352, 'loverboy': 1353, 'logo': 1354, 'menu': 1355, 'tick': 1356, 'issues': 1357, 'giving': 1358, 'reference': 1359, 'meaning': 1360, 'mother': 1361, 'law': 1362, 'woman': 1363, 'cartoon': 1364, 'directly': 1365, 'teasing': 1366, 'while': 1367, 'tuition': 1368, 'lessons': 1369, '2004': 1370, 'wherever': 1371, 'indian': 1372, 'stand': 1373, 'oz': 1374, 'sit': 1375, 'planning': 1376, 'social': 1377, 'green': 1378, \"uk's\": 1379, 'totally': 1380, 'optout': 1381, 'broke': 1382, 'an': 1383, 'no1': 1384, '36504': 1385, 'w45wq': 1386, 'norm150p': 1387, 'nvm': 1388, 'scared': 1389, 'murder': 1390, 'exactly': 1391, 'present': 1392, 'wishing': 1393, 'voda': 1394, 'quoting': 1395, 'app': 1396, 'smiles': 1397, 'inside': 1398, 'bedroom': 1399, 'guide': 1400, 'add': 1401, 'surely': 1402, '3g': 1403, 'ip4': 1404, '5we': 1405, 'buns': 1406, 'appreciate': 1407, 'south': 1408, 'fantasies': 1409, 'truly': 1410, 'review': 1411, 'contacted': 1412, 'ki': 1413, 'picked': 1414, 'costs': 1415, 'exams': 1416, 'itself': 1417, 'thnk': 1418, 'nw': 1419, '1000': 1420, 'playing': 1421, 'weight': 1422, 'pin': 1423, 'wnt': 1424, 'vry': 1425, 'added': 1426, 'fullonsmscom': 1427, 'five': 1428, 'choice': 1429, 'thru': 1430, 'scream': 1431, 'unsub': 1432, 'flights': 1433, 'keeping': 1434, 'sipix': 1435, 'realy': 1436, 'competition': 1437, 'joined': 1438, 'request': 1439, \"he'll\": 1440, 'sed': 1441, 'pobox36504w45wq': 1442, 'hr': 1443, '50': 1444, 'somewhere': 1445, 'boo': 1446, 'works': 1447, '434': 1448, 'midnight': 1449, 'promise': 1450, 'simply': 1451, 'vary': 1452, 'asleep': 1453, 'pilates': 1454, 'lookin': 1455, 'longer': 1456, 'air': 1457, 'sometimes': 1458, 'urgnt': 1459, 'photo': 1460, 'buzz': 1461, 'training': 1462, \"haven't\": 1463, 'eerie': 1464, 'vikky': 1465, 'vl': 1466, 'pizza': 1467, 'yijue': 1468, 'tncs': 1469, 'inclusive': 1470, 'wwwcomuknet': 1471, 'å£450': 1472, 'children': 1473, '85023': 1474, 'å£300': 1475, 'excuse': 1476, 'amount': 1477, 'å£3': 1478, 'fyi': 1479, 'boston': 1480, 'xchat': 1481, 'arrive': 1482, '28': 1483, 'obviously': 1484, 'honey': 1485, 'funny': 1486, 'died': 1487, 'wednesday': 1488, 'discuss': 1489, 'places': 1490, 'begin': 1491, 'lift': 1492, 'ticket': 1493, 'cars': 1494, 'rem': 1495, 'original': 1496, 'stock': 1497, 'shirt': 1498, 'alex': 1499, 'past': 1500, 'relax': 1501, 'fact': 1502, 'those': 1503, 'yun': 1504, 'cuz': 1505, 'announcement': 1506, 'ad': 1507, 'yan': 1508, 'jiu': 1509, 'single': 1510, 'weak': 1511, 'linerental': 1512, \"tc's\": 1513, 'matter': 1514, 'unable': 1515, 'starting': 1516, 'system': 1517, 'tells': 1518, 'pissed': 1519, 'earth': 1520, 'italian': 1521, 'body': 1522, 'costa': 1523, 'sol': 1524, 'sk38xh': 1525, 'tariffs': 1526, '20': 1527, '4th': 1528, '3rd': 1529, 'lttimegt': 1530, 'bag': 1531, 'lik': 1532, 'cute': 1533, 'er': 1534, 'power': 1535, 'willing': 1536, '250': 1537, 'cbe': 1538, 'respond': 1539, 'don': 1540, 'bitch': 1541, 'dog': 1542, 'bought': 1543, 'return': 1544, 'j': 1545, 'cine': 1546, 'character': 1547, '08718720201': 1548, '40gb': 1549, 'serious': 1550, 'mths': 1551, 'dropped': 1552, 'imagine': 1553, 'horny': 1554, 'local': 1555, 'bucks': 1556, 'heavy': 1557, 'fb': 1558, 'moan': 1559, 'centre': 1560, 'brand': 1561, 'iam': 1562, 'geeee': 1563, 'nobody': 1564, 'cancer': 1565, 'eating': 1566, 'interesting': 1567, 'hotel': 1568, 'english': 1569, '7pm': 1570, 'film': 1571, 'tis': 1572, '21': 1573, 'planned': 1574, 'pussy': 1575, '86021': 1576, 'sec': 1577, 'forward': 1578, 'egg': 1579, 'spook': 1580, 'arrange': 1581, 'flower': 1582, 'stopped': 1583, 'searching': 1584, 'moms': 1585, '300': 1586, 'wah': 1587, 'letters': 1588, 'gives': 1589, 'moon': 1590, 'argument': 1591, 'wins': 1592, 'listening': 1593, 'temple': 1594, 'series': 1595, '9am': 1596, 'evng': 1597, 'apparently': 1598, 'ttyl': 1599, 'num': 1600, 'kerala': 1601, 'space': 1602, 'arcade': 1603, 'jazz': 1604, 'yest': 1605, 'godi': 1606, 'youclean': 1607, 'bloodsend': 1608, 'itplspls': 1609, 'hella': 1610, 'ache': 1611, 'o2': 1612, 'moral': 1613, 'turns': 1614, 'joking': 1615, 'white': 1616, 'polyphonic': 1617, 'hl': 1618, 'holding': 1619, 'ta': 1620, 'å£900': 1621, 'raining': 1622, 'flat': 1623, 'running': 1624, 'replied': 1625, 'yer': 1626, '84199': 1627, 'eng': 1628, 'box39822': 1629, 'w111wx': 1630, '2mrw': 1631, 'bringing': 1632, 'å£10000': 1633, 'often': 1634, 'locations': 1635, 'clean': 1636, 'iq': 1637, 'ru': 1638, '5000': 1639, 'cw25wx': 1640, \"she'll\": 1641, 'basic': 1642, 'uncles': 1643, 'atlanta': 1644, 'december': 1645, '08002986906': 1646, 'bf': 1647, 'bx420': 1648, 'suite': 1649, 'showing': 1650, 'ym': 1651, 'cust': 1652, 'mei': 1653, \"did't\": 1654, 'aiyah': 1655, 'june': 1656, 'cds': 1657, 'current': 1658, 'waking': 1659, 'receipt': 1660, '80062': 1661, 'lecture': 1662, '630': 1663, 'checked': 1664, 'meds': 1665, 'students': 1666, 'bahamas': 1667, 'sonyericsson': 1668, 'favour': 1669, 'i\\x89û÷m': 1670, '08715705022': 1671, 'l8r': 1672, 'age16': 1673, 'april': 1674, 'pleasure': 1675, \"did'nt\": 1676, 'hols': 1677, 'drinks': 1678, 'daily': 1679, 'click': 1680, 'gentle': 1681, 'roger': 1682, 'brought': 1683, 'vomit': 1684, 'dint': 1685, 'isnt': 1686, 'alrite': 1687, 'tour': 1688, 'package': 1689, 'bold': 1690, 'dollars': 1691, 'arrested': 1692, 'derek': 1693, 'unless': 1694, \"said''\": 1695, \"''ok''\": 1696, 'minuts': 1697, 'latr': 1698, 'caken': 1699, 'site': 1700, 'tough': 1701, 'oni': 1702, 'wear': 1703, 'spending': 1704, 'photos': 1705, 'ish': 1706, 'upto': 1707, 'activate': 1708, 'mad': 1709, 'cannot': 1710, 'birds': 1711, 'infernal': 1712, 'appt': 1713, 'shame': 1714, 'travel': 1715, 'ibiza': 1716, 'ppm': 1717, 'lonely': 1718, 'airport': 1719, '440': 1720, 'explain': 1721, 'passionate': 1722, 'jesus': 1723, 'radio': 1724, 'bishan': 1725, 'random': 1726, 'reasons': 1727, 'hurry': 1728, 'cheaper': 1729, 'expect': 1730, 'becoz': 1731, 'cream': 1732, 'transaction': 1733, 'gorgeous': 1734, 'outta': 1735, 'valentine': 1736, 'expensive': 1737, 'pleased': 1738, 'these': 1739, 'intro': 1740, 'vijay': 1741, 'website': 1742, 'waste': 1743, 'subscription': 1744, 'profit': 1745, 'themob': 1746, 'selection': 1747, 'password': 1748, 'fat': 1749, 'nyc': 1750, 'songs': 1751, 'solve': 1752, 'cooking': 1753, \"who's\": 1754, 'brilliant': 1755, 'msgrcvdhg': 1756, 'ate': 1757, 'ar': 1758, 'fa': 1759, 'tkts': 1760, '87121': 1761, 'idk': 1762, 'barely': 1763, 'eatin': 1764, 'belly': 1765, 'looked': 1766, '85': 1767, 'yuo': 1768, 'tihs': 1769, \"t'sc's\": 1770, '1x150p': 1771, 'ignore': 1772, '542': 1773, 'cabin': 1774, \"'\": 1775, 'bin': 1776, 'tb': 1777, '4get': 1778, '2optout': 1779, 'wwwringtonescouk': 1780, '3gbp': 1781, 'beer': 1782, 'returns': 1783, 'shoot': 1784, 'settled': 1785, 'revealed': 1786, 'fren': 1787, 'fifteen': 1788, '10am': 1789, 'thurs': 1790, 'taunton': 1791, 'adult': 1792, 'ladies': 1793, 'abi': 1794, 'ntwk': 1795, 'pod': 1796, 'euro2004': 1797, 'informed': 1798, 'hate': 1799, 'grand': 1800, 'assume': 1801, 're': 1802, 'hun': 1803, 'pig': 1804, 'become': 1805, 'celebrate': 1806, 'cold': 1807, '09050090044': 1808, 'toclaim': 1809, 'pobox334': 1810, 'stockport': 1811, 'costå£150': 1812, 'max10mins': 1813, '08712405020': 1814, 'uni': 1815, 'wonders': 1816, '7th': 1817, '6th': 1818, '5th': 1819, 'personality': 1820, 'w1': 1821, 'role': 1822, 'fault': 1823, 'twice': 1824, 'mmm': 1825, 'remind': 1826, 'careful': 1827, 'pages': 1828, 'hug': 1829, 'hip': 1830, 'sugar': 1831, 'urn': 1832, 'iz': 1833, 'babes': 1834, 'cover': 1835, '3qxj9': 1836, '9ae': 1837, 'dates': 1838, \"'t\": 1839, 'lab': 1840, 'tyler': 1841, 'kisses': 1842, 'basically': 1843, 'naughty': 1844, 'drivin': 1845, 'tm': 1846, 'stylish': 1847, 'model': 1848, 'note': 1849, 'asks': 1850, '2000': 1851, 'mite': 1852, 'records': 1853, 'singles': 1854, \"week's\": 1855, 'clock': 1856, 'living': 1857, 'ordered': 1858, '08001950382': 1859, 'fighting': 1860, 'wet': 1861, 'belovd': 1862, 'straight': 1863, 'followed': 1864, 'hanging': 1865, 'attend': 1866, 'conditions': 1867, 'ringtones': 1868, 'hostel': 1869, 'moby': 1870, 'pple': 1871, 'along': 1872, 'february': 1873, 'paid': 1874, 'shortly': 1875, 'pg': 1876, 'addicted': 1877, 'vodafone': 1878, 'wrc': 1879, 'rally': 1880, 'donåõt': 1881, 'seem': 1882, 'coins': 1883, '08718727870': 1884, 'pound': 1885, 'quote': 1886, 'gap': 1887, 'connect': 1888, 'worse': 1889, 'somethin': 1890, 'sighs': 1891, 'rooms': 1892, 'appointment': 1893, 'report': 1894, 'seemed': 1895, '2u': 1896, 'biggest': 1897, '7250i': 1898, 'w1jhl': 1899, 'created': 1900, 'don\\x89û÷t': 1901, 'fantasy': 1902, 'track': 1903, 'å£400': 1904, 'rays': 1905, 'remain': 1906, 'hw': 1907, 'received': 1908, 'q': 1909, 'ran': 1910, 'nights': 1911, 'ended': 1912, 'sunny': 1913, 'most': 1914, 'sha': 1915, 'cha': 1916, 'freefone': 1917, 'ho': 1918, 'def': 1919, '82277': 1920, 'rd': 1921, 'enemy': 1922, '87131': 1923, 'jst': 1924, 'boat': 1925, 'naked': 1926, 'members': 1927, 'symbol': 1928, 'played': 1929, '88066': 1930, 'okey': 1931, 'i\\x89û÷ll': 1932, 'faster': 1933, 'results': 1934, 'twelve': 1935, 'theory': 1936, 'church': 1937, 'record': 1938, 'armand': 1939, '0808': 1940, '145': 1941, '4742': 1942, '11pm': 1943, 'because': 1944, 'purity': 1945, 'messageits': 1946, 'welp': 1947, 'aiya': 1948, 'whether': 1949, '2morow': 1950, 'moments': 1951, 'fever': 1952, 'seven': 1953, 'strike': 1954, 'three': 1955, 'holla': 1956, '0': 1957, 'settings': 1958, 'pictures': 1959, 'hands': 1960, 'bet': 1961, 'stars': 1962, \"doesn't\": 1963, 'machan': 1964, 'jokes': 1965, 'gm': 1966, '87575': 1967, 'txtin': 1968, '4info': 1969, 'speed': 1970, 'terrible': 1971, 'iåõm': 1972, 'spk': 1973, 'sn': 1974, 'elsewhere': 1975, 'male': 1976, 'gram': 1977, 'runs': 1978, 'crab': 1979, 'cleared': 1980, 'footprints': 1981, 'lido': 1982, 'swimming': 1983, \"god's\": 1984, 'roommate': 1985, 'dubsack': 1986, 'gee': 1987, 'anywhere': 1988, 'abta': 1989, 'spanish': 1990, 'receiving': 1991, 'hill': 1992, 'freak': 1993, 'skype': 1994, 'laid': 1995, 'largest': 1996, 'ec2a': 1997, 'cheer': 1998, 'amt': 1999, \"prabhai'm\": 2000, 'sorydarealyfrm': 2001, 'sory': 2002, 'allah': 2003, \"ain't\": 2004, 'anyways': 2005, 'violence': 2006, 'dave': 2007, '900': 2008, 'deliver': 2009, 'major': 2010, 'each': 2011, 'videophones': 2012, 'videochat': 2013, 'java': 2014, 'dload': 2015, 'noline': 2016, 'rentl': 2017, '150pm': 2018, 'born': 2019, 'idiot': 2020, 'childish': 2021, 'upgrade': 2022, '87239': 2023, 'preferably': 2024, 'recd': 2025, 'lotr': 2026, 'bid': 2027, 'acc': 2028, 'callsmessagesmissed': 2029, 'subscriber': 2030, 'weird': 2031, 'bein': 2032, 'foreign': 2033, 'stamps': 2034, 'spoken': 2035, 'chasing': 2036, 'doc': 2037, 'refused': 2038, \"'help'\": 2039, 'fees': 2040, 'cruise': 2041, \"mom's\": 2042, 'lead': 2043, 'headache': 2044, 'falls': 2045, 'rajipls': 2046, 'nimya': 2047, 'sing': 2048, 'usualiam': 2049, 'incident': 2050, 'distance': 2051, 'hv': 2052, 'kkhow': 2053, 'alert': 2054, '80878': 2055, 'smoking': 2056, 'wylie': 2057, 'giv': 2058, 'tessypls': 2059, 'favor': 2060, 'nimyapls': 2061, 'shijas': 2062, 'art': 2063, 'opportunity': 2064, 'failed': 2065, 'blame': 2066, 'essential': 2067, 'dick': 2068, 'å£1450': 2069, 'bye': 2070, 'sept': 2071, 'eaten': 2072, 'yay': 2073, 'texted': 2074, '6months': 2075, 'accidentally': 2076, 'chillin': 2077, 'booking': 2078, 'boring': 2079, \"friend's\": 2080, 'joke': 2081, 'likely': 2082, 'google': 2083, 'sport': 2084, 'lounge': 2085, 'caught': 2086, 'pobox84': 2087, 'gimme': 2088, 'garage': 2089, 'keys': 2090, 'painful': 2091, 'affairs': 2092, 'sk3': 2093, '8wp': 2094, 'american': 2095, 'callin': 2096, 'fill': 2097, 'throat': 2098, 'six': 2099, 'wc1n3xx': 2100, 'peace': 2101, 'ppl': 2102, 'requests': 2103, 'anythin': 2104, 'ì©': 2105, 'flight': 2106, 'finishes': 2107, 'saucy': 2108, 'callså£1': 2109, 'lousy': 2110, 'bloody': 2111, 'settle': 2112, 'thursday': 2113, 'maga': 2114, 'ranjith': 2115, '5min': 2116, 'voicemail': 2117, 'upload': 2118, '10k': 2119, 'k52': 2120, 'medicine': 2121, 'answering': 2122, 'fool': 2123, 'captain': 2124, 'title': 2125, 'titles': 2126, 'selling': 2127, 'mmmm': 2128, 'bright': 2129, 'islands': 2130, 'public': 2131, 'govtinstituitions': 2132, 'closedincluding': 2133, 'alfie': 2134, \"moon's\": 2135, 'm8s': 2136, 'nokias': 2137, '08701417012': 2138, 'downloads': 2139, 'sum1': 2140, 'bags': 2141, 'uks': 2142, 'thts': 2143, 'romantic': 2144, '1his': 2145, '2police': 2146, 'questioned': 2147, '3wife': 2148, 'siri': 2149, '4cook': 2150, '5gardener': 2151, 'vegetables': 2152, '6house': 2153, '7children': 2154, '8neighbour': 2155, \"'ll\": 2156, '18yrs': 2157, '9pm': 2158, '09061221066': 2159, 'fromm': 2160, 'eggs': 2161, '125gift': 2162, 'wwwldewcom1win150ppmx3age16': 2163, '21st': 2164, 'snake': 2165, 'bite': 2166, 'prefer': 2167, 'wed': 2168, \"blake's\": 2169, 'addie': 2170, 'germany': 2171, 'pence': 2172, 'certainly': 2173, 'dress': 2174, 'bell': 2175, 'ure': 2176, 'ese': 2177, 'action': 2178, 'fuckin': 2179, 'happend': 2180, 'bat': 2181, 'audition': 2182, 'closer': 2183, 'screaming': 2184, 'petrol': 2185, 'james': 2186, 'storming': 2187, 'phne': 2188, 'wt': 2189, 'margaret': 2190, 'girlfrnd': 2191, 'grahmbell': 2192, 'invnted': 2193, 'telphone': 2194, 'moralone': 2195, 'tog': 2196, 'aah': 2197, 'cuddle': 2198, 'album': 2199, 'village': 2200, 'turn': 2201, 'apps': 2202, 'å£10': 2203, 'mono': 2204, 'cam': 2205, 'wks': 2206, 'wisdom': 2207, 'hahahause': 2208, 'brain': 2209, 'city': 2210, 'seat': 2211, 'wkend': 2212, 'including': 2213, 'bday': 2214, 'jason': 2215, 'shorter': 2216, 'box97n7qp': 2217, 'understood': 2218, 'alwys': 2219, 'wtf': 2220, 'valuable': 2221, 'hai': 2222, 'option': 2223, 'interview': 2224, '80182': 2225, '08452810073': 2226, 'career': 2227, 'remembered': 2228, 'qatar': 2229, 'wedding': 2230, 'arms': 2231, 'season': 2232, 'adore': 2233, 'schedule': 2234, 'meal': 2235, 'di': 2236, 'responding': 2237, 'four': 2238, 'nan': 2239, \"you'll\": 2240, 'july': 2241, 'invite': 2242, 'unique': 2243, 'alcohol': 2244, 'ride': 2245, 'it\\x89û÷s': 2246, \"c's\": 2247, 'hm': 2248, 'iouri': 2249, 'perfect': 2250, 'calicut': 2251, 'yummy': 2252, 'chosen': 2253, 'wallpaper': 2254, 'leona': 2255, 'str': 2256, 'evn': 2257, 'force': 2258, 'morn': 2259, 'ron': 2260, 'hardcore': 2261, 'sundaysunday': 2262, 'holidayso': 2263, 'beware': 2264, 'relation': 2265, 'meanwhile': 2266, 'gentleman': 2267, 'dignity': 2268, 'respect': 2269, '0207': 2270, 'surprised': 2271, '8th': 2272, 'quickly': 2273, '08702840625comuk': 2274, '220': 2275, 'cm2': 2276, 'cat': 2277, 'except': 2278, '29': 2279, 'losing': 2280, 'vote': 2281, 'hopefully': 2282, 'tape': 2283, 'meetin': 2284, 'favourite': 2285, \"didn't\": 2286, 'various': 2287, 'jada': 2288, 'kusruthi': 2289, 'spl': 2290, 'matured': 2291, 'spoke': 2292, \"we'd\": 2293, 'frying': 2294, '83355': 2295, 'mtmsgrcvd18': 2296, \"jay's\": 2297, 'callback': 2298, 'rang': 2299, 'stops': 2300, 'stress': 2301, 'arsenal': 2302, 'rich': 2303, 'onwards': 2304, '84025': 2305, 'step': 2306, 'ic': 2307, 'philosophy': 2308, '2stoptxt': 2309, 'handset': 2310, 'laughing': 2311, 'winning': 2312, 'picture': 2313, 'cross': 2314, '08717898035': 2315, 'wearing': 2316, 'porn': 2317, 'cock': 2318, 'erm': 2319, 'netcollex': 2320, 'wanting': 2321, 'cry': 2322, 'jess': 2323, 'delivered': 2324, 'reminder': 2325, 'postcode': 2326, 'history': 2327, 'shesil': 2328, 'chinese': 2329, 'claire': 2330, 'havin': 2331, 'masters': 2332, 'jan': 2333, '60p': 2334, 'boye': 2335, 'legal': 2336, 'height': 2337, 'vava': 2338, 'ne': 2339, 'roast': 2340, 'callers': 2341, 'cornwall': 2342, 'partner': 2343, '83600': 2344, 'university': 2345, 'handle': 2346, \"when's\": 2347, 'answers': 2348, 'fell': 2349, 'iscoming': 2350, 'msging': 2351, 'brothas': 2352, '114': 2353, '14': 2354, 'tcr': 2355, '2morrow': 2356, 'boys': 2357, 'thanksgiving': 2358, 'okok': 2359, 'okthenwhats': 2360, 'dictionary': 2361, '3cover': 2362, 'screen': 2363, '4press': 2364, '5gently': 2365, 'lt3': 2366, 'darling': 2367, 'period': 2368, 'subpoly': 2369, '81618': 2370, \"u're\": 2371, 'confidence': 2372, 'behave': 2373, 'moji': 2374, '3510i': 2375, 'malaria': 2376, 'miles': 2377, 'accident': 2378, 'auto': 2379, 'magical': 2380, 'sam': 2381, 'women': 2382, 'cramps': 2383, 'advice': 2384, 'previous': 2385, 'stomach': 2386, 'throw': 2387, 'railway': 2388, 'contents': 2389, 'some': 2390, 'si': 2391, 'butt': 2392, 'å£1': 2393, 'lt': 2394, 'result': 2395, 'irritating': 2396, 'timing': 2397, 'aint': 2398, '730': 2399, '1000s': 2400, 'bowl': 2401, 'dearer': 2402, 'dem': 2403, '09': 2404, '121': 2405, 'sleepingand': 2406, 'surfing': 2407, 'map': 2408, 'knowing': 2409, 'sheets': 2410, 'anybody': 2411, 'horrible': 2412, 'wwwe': 2413, 'tlpcouk': 2414, 'blank': 2415, 'takin': 2416, 'mnth': 2417, 'needed': 2418, '09066362231': 2419, 'lives': 2420, 'halloween': 2421, 'bay': 2422, 'returned': 2423, 'books': 2424, 'messenger': 2425, 'blood': 2426, 'lady': 2427, 'afraid': 2428, 'decision': 2429, 'drug': 2430, 'wer': 2431, 'nap': 2432, 'thatåõs': 2433, 'names': 2434, 'prepare': 2435, '82242': 2436, 'toa': 2437, 'payoh': 2438, '830': 2439, 'realize': 2440, 'stuck': 2441, 'lie': 2442, 'passed': 2443, \"dsn't\": 2444, '4mths': 2445, 'mobilesdirect': 2446, '08000938767': 2447, 'or2stoptxt': 2448, 'reality': 2449, 'paris': 2450, 'indians': 2451, 'hmv': 2452, 'ansr': 2453, 'sptyrone': 2454, 'deleted': 2455, 'avent': 2456, 'boost': 2457, 'dayu': 2458, 'dear1': 2459, 'best1': 2460, 'clos1': 2461, 'lvblefrnd': 2462, 'jstfrnd': 2463, 'cutefrnd': 2464, 'lifpartnr': 2465, 'swtheart': 2466, 'bstfrnd': 2467, 'burger': 2468, 'maintain': 2469, 'tirupur': 2470, 'monthly': 2471, 'sore': 2472, 'legs': 2473, 'torch': 2474, 'exciting': 2475, 'eye': 2476, 'tree': 2477, 'august': 2478, 'pack': 2479, \"kki'm\": 2480, 'films': 2481, 'blackberry': 2482, 'hook': 2483, 'shipping': 2484, 'sports': 2485, 'blah': 2486, 'expecting': 2487, 'saved': 2488, 'pouts': 2489, 'stomps': 2490, 'feet': 2491, 'granite': 2492, 'explosive': 2493, 'nasdaq': 2494, 'cdgt': 2495, '40533': 2496, '31': 2497, 'dokey': 2498, 'sorting': 2499, 'havenåõt': 2500, 'ages': 2501, 'dirty': 2502, 'lies': 2503, 'howard': 2504, 'loses': 2505, 'argue': 2506, 'diet': 2507, 'epsilon': 2508, 'file': 2509, 'connection': 2510, 'format': 2511, 'files': 2512, 'prey': 2513, 'slots': 2514, 'aiyar': 2515, 'scold': 2516, '07742676969': 2517, '786': 2518, 'unredeemed': 2519, '08719180248': 2520, '45239': 2521, 'myself': 2522, 'wa': 2523, 'rec': 2524, 'center': 2525, '7ish': 2526, 'japanese': 2527, 'proverb': 2528, 'itu': 2529, 'itleave': 2530, 'main': 2531, 'behind': 2532, 'thx': 2533, 'renewal': 2534, 'color': 2535, 'peaceful': 2536, 'honeybee': 2537, 'sweetest': 2538, 'laughed': 2539, 'waitu': 2540, 'havnt': 2541, 'crack': 2542, 'bottle': 2543, 'pt2': 2544, \"everybody's\": 2545, 'fit': 2546, 'oooh': 2547, 'ey': 2548, 'fastest': 2549, 'growing': 2550, 'eighth': 2551, 'waves': 2552, 'clearing': 2553, '930': 2554, 'tonights': 2555, 'suggest': 2556, 'fran': 2557, 'knackered': 2558, 'ps': 2559, 'pool': 2560, 'whos': 2561, 'shld': 2562, 'kaiez': 2563, 'trains': 2564, 'we\\x89û÷re': 2565, 'jolly': 2566, 'rule': 2567, 'wifehow': 2568, 'lov': 2569, 'mistakes': 2570, 'gary': 2571, 'genius': 2572, 'fujitsu': 2573, 'poem': 2574, 'fear': 2575, 'shitload': 2576, 'intelligent': 2577, 'driver': 2578, 'arun': 2579, 'bread': 2580, 'milk': 2581, '350': 2582, 'hrishi': 2583, '89555': 2584, 'textoperator': 2585, 'g696ga': 2586, 'toopray': 2587, 'cake': 2588, 'lush': 2589, 'anna': 2590, 'nagar': 2591, 'lotta': 2592, 'lately': 2593, '09061743806': 2594, 'box326': 2595, 'location': 2596, '2waxsto': 2597, 'farm': 2598, 'speaking': 2599, 'ni8swt': 2600, 'value': 2601, 'miserable': 2602, 'wwwt': 2603, 'cbiz': 2604, 'polo': 2605, '373': 2606, 'w1j': 2607, '6hl': 2608, 'bcums': 2609, 'affection': 2610, 'kettoda': 2611, 'manda': 2612, 'anti': 2613, '0845': 2614, 'removal': 2615, '08708034412': 2616, 'kegger': 2617, 'flowing': 2618, '09065174042': 2619, '07821230901': 2620, 'unknown': 2621, 'recognise': 2622, 'jsco': 2623, '09061790121': 2624, 'nydc': 2625, '87021': 2626, 'tablets': 2627, 'reaction': 2628, 'birla': 2629, 'soft': 2630, 'reasonable': 2631, 'bird': 2632, 'postcard': 2633, 'btw': 2634, 'batch': 2635, 'talks': 2636, 'bar': 2637, '430': 2638, 'lifetime': 2639, 'mails': 2640, 'purpose': 2641, 'å£75000': 2642, 'homeowners': 2643, 'tenants': 2644, 'previously': 2645, '1956669': 2646, 'anthony': 2647, 'supervisor': 2648, 'callfreefone': 2649, '08081560665': 2650, 'ofå£2000': 2651, '07786200117': 2652, 'evenings': 2653, 'otside': 2654, \"cann't\": 2655, 'bruce': 2656, 'gautham': 2657, 'goals': 2658, '4txt': 2659, 'partnership': 2660, 'coping': 2661, 'arts': 2662, 'bmw': 2663, 'urgentlyits': 2664, 'urgentbut': 2665, 'shortage': 2666, 'lacsthere': 2667, 'source': 2668, 'arng': 2669, 'lacsthats': 2670, 'wwwfullonsmscom': 2671, 'ahsen': 2672, 'business': 2673, 'sorryin': 2674, '21870000': 2675, 'mailbox': 2676, 'messaging': 2677, '40': 2678, '09056242159': 2679, 'retrieve': 2680, 'smokes': 2681, 'ruining': 2682, 'kthen': 2683, 'knock': 2684, 'whose': 2685, '80082': 2686, 'dai': 2687, 'gods': 2688, 'blessings': 2689, 'slap': 2690, 'pouch': 2691, 'dearly': 2692, 'tank': 2693, 'med': 2694, 'stamped': 2695, '113': 2696, 'bray': 2697, 'wicklow': 2698, 'eire': 2699, 'indeed': 2700, 'europe': 2701, 'hide': 2702, 'stranger': 2703, 'billed': 2704, '09061221061': 2705, '28days': 2706, 'box177': 2707, 'm221bp': 2708, '2yr': 2709, 'warranty': 2710, 'på£399': 2711, 'lion': 2712, 'esplanade': 2713, 'football': 2714, 'n9dx': 2715, 'yck': 2716, 'lip': 2717, 'switch': 2718, 'jen': 2719, 'freedom': 2720, '2moro': 2721, 'macho': 2722, 'satisfy': 2723, 'randy': 2724, 'rights': 2725, 'demand': 2726, 'husband': 2727, 'elaine': 2728, 'confirmed': 2729, 'aathilove': 2730, 'transfered': 2731, 'drunken': 2732, \"hasn't\": 2733, 'crap': 2734, 'speedchat': 2735, 'langport': 2736, 'confuses': 2737, 'spoiled': 2738, 'escape': 2739, 'kavalan': 2740, 'kicks': 2741, 'stick': 2742, 'apart': 2743, 'child': 2744, '1hr': 2745, 'delay': 2746, 'm26': 2747, '3uz': 2748, 'diff': 2749, 'cheese': 2750, 'goodnite': 2751, 'ericsson': 2752, 'sen': 2753, 'teeth': 2754, '09066350750': 2755, '10000': 2756, 'math': 2757, 'yelling': 2758, 'disturbing': 2759, 'unfortunately': 2760, 'natalja': 2761, 'nat27081980': 2762, 'event': 2763, 'tease': 2764, 'devouring': 2765, 'supply': 2766, 'wwwldewcomsubs16': 2767, '1win150ppmx3': 2768, \"there're\": 2769, '3650': 2770, '09066382422': 2771, '3mins': 2772, '300603': 2773, 'bcm4284': 2774, 'tok': 2775, 'blessed': 2776, 'makin': 2777, 'colours': 2778, 'euro': 2779, 'east': 2780, 'coast': 2781, 'thread': 2782, 'bottom': 2783, 'vomiting': 2784, 'picsfree1': 2785, 'hor': 2786, 'bedrm': 2787, 'minmobsmorelkpobox177hp51fl': 2788, 'wales': 2789, 'åð': 2790, 'enjoyed': 2791, 'thot': 2792, 'tlk': 2793, 'hoped': 2794, 'coin': 2795, 'shipped': 2796, 'drpd': 2797, 'deeraj': 2798, 'deepak': 2799, 'pongaldo': 2800, 'wating': 2801, 'telly': 2802, '08719181513': 2803, '08718730666': 2804, \"wasn't\": 2805, 'gent': 2806, '09064012160': 2807, 'durban': 2808, 'rofl': 2809, 'academic': 2810, 'department': 2811, 'citizen': 2812, 'flaked': 2813, 'wise': 2814, 'advise': 2815, 'recent': 2816, 'å£1500': 2817, 'dracula': 2818, 'ghost': 2819, 'addamsfa': 2820, 'munsters': 2821, 'exorcist': 2822, 'twilight': 2823, 'staring': 2824, 'juicy': 2825, 'regarding': 2826, 'jaya': 2827, 'lturlgt': 2828, 'suzy': 2829, '09066612661': 2830, 'luxury': 2831, 'canary': 2832, 'officeunderstand': 2833, 'usb': 2834, 'formclark': 2835, 'utter': 2836, 'kkwhere': 2837, 'm263uz': 2838, 'subs': 2839, 'pours': 2840, 'dial': 2841, 'realized': 2842, 'oreo': 2843, 'truffles': 2844, 'discussed': 2845, 'snowman': 2846, 'pop': 2847, '0776xxxxxxx': 2848, 'ref': 2849, 'potato': 2850, '2005': 2851, \"ratetc's\": 2852, \"08452810075over18's\": 2853, 'drinking': 2854, '08002888812': 2855, 'walmart': 2856, 'moved': 2857, 'heads': 2858, 'responsibility': 2859, 'drinkin': 2860, 'dancing': 2861, 'tues': 2862, 'poker': 2863, 'fair': 2864, 'pushes': 2865, '0844': 2866, '861': 2867, 'prepayment': 2868, 'monkeys': 2869, 'wud': 2870, 'ganesh': 2871, 'dr': 2872, 'practical': 2873, 'konw': 2874, 'waht': 2875, 'rael': 2876, 'gving': 2877, 'exmpel': 2878, 'jsut': 2879, 'evrey': 2880, 'splleing': 2881, 'wrnog': 2882, 'sitll': 2883, 'raed': 2884, 'wihtuot': 2885, 'ayn': 2886, 'mitsake': 2887, 'sleepsweet': 2888, 'blur': 2889, 'letter': 2890, 'bluff': 2891, 'desperate': 2892, 'probs': 2893, 'hon': 2894, 'chill': 2895, '3d': 2896, 'fix': 2897, 'in2': 2898, 'kothi': 2899, 'effect': 2900, 'innings': 2901, '0578': 2902, 'inform': 2903, 'usc': 2904, 'mmmmmm': 2905, 'kidz': 2906, 'propose': 2907, 'sum': 2908, '09061209465': 2909, 'suprman': 2910, 'matrix3': 2911, 'starwars3': 2912, 'sleepin': 2913, 'dry': 2914, 'trade': 2915, 'soup': 2916, 'tirunelvali': 2917, 'ship': 2918, 'river': 2919, '08709222922': 2920, '15p': 2921, '78p': 2922, 'peak': 2923, 'hyde': 2924, 'silver': 2925, 'slice': 2926, 'kadeem': 2927, 'lou': 2928, '4eva': 2929, 'subscribed': 2930, '07734396839': 2931, 'ibh': 2932, 'nokia6600': 2933, 'txtauctiontxt': 2934, 'wordstart': 2935, 'no81151': 2936, 'now4t': 2937, 'pongal': 2938, 'lions': 2939, 'lionm': 2940, 'lionp': 2941, 'aftr': 2942, 'treated': 2943, 'fab': 2944, 'jordan': 2945, 'jeans': 2946, 'pobox45w2tg150p': 2947, 'wishin': 2948, '09058091854': 2949, 'box385': 2950, 'm6': 2951, '6wu': 2952, 'fringe': 2953, '8pm': 2954, 'payment': 2955, 'transport': 2956, 'nos': 2957, 'stupidits': 2958, 'raise': 2959, 'wkg': 2960, 'everyday': 2961, 'expression': 2962, 'lst': 2963, 'tomarrow': 2964, 'headin': 2965, 'web': 2966, 'xxxx': 2967, '3100': 2968, 'mummy': 2969, 'belive': 2970, '83222': 2971, 'sigh': 2972, 'ful': 2973, 'indyarockscom': 2974, 'aww': 2975, 'cm': 2976, 'sweets': 2977, 'adventure': 2978, 'galileo': 2979, 'closes': 2980, 'despite': 2981, '2wks': 2982, 'engin': 2983, 'nichols': 2984, 'natural': 2985, 'community': 2986, 'mel': 2987, 'forgiven': 2988, 'clear': 2989, 'sarcastic': 2990, 'roommates': 2991, 'executive': 2992, 'ie': 2993, '2go': 2994, '4a': 2995, 'hes': 2996, 'catching': 2997, 'woot': 2998, 'pickle': 2999, 'lower': 3000, 'display': 3001, 'owns': 3002, 'property': 3003, 'unbelievable': 3004, '26th': 3005, 'block': 3006, 'å£5': 3007, 'challenge': 3008, 've': 3009, 'response': 3010, '84128': 3011, 'wwwtextcompcom': 3012, 'å£6': 3013, 'soul': 3014, 'fire': 3015, 'flame': 3016, 'modules': 3017, '2p': 3018, \"t's\": 3019, 'massive': 3020, 'bigger': 3021, '09058094565': 3022, 'hospitals': 3023, 'jolt': 3024, 'repeat': 3025, 'instructions': 3026, 'loud': 3027, 'habit': 3028, 'kano': 3029, 'xavier': 3030, 'funk': 3031, 'tones2u': 3032, '09066364311': 3033, 'wwwtxt': 3034, 'shopcom': 3035, 'yogasana': 3036, 'california': 3037, 'pap': 3038, 'jamster': 3039, 'deciding': 3040, 'clever': 3041, 'ikea': 3042, 'evr': 3043, 'falling': 3044, 'smeone': 3045, 'specific': 3046, 'stores': 3047, 'british': 3048, 'hotels': 3049, 'sw73ss': 3050, 'successful': 3051, 'actor': 3052, 'unemployed': 3053, 'rcv': 3054, 'verify': 3055, 'rhythm': 3056, 'sinco': 3057, 'payee': 3058, 'icicibankcom': 3059, 'frauds': 3060, 'disclose': 3061, 'mis': 3062, 'prabha': 3063, 'avatar': 3064, 'annie': 3065, 'atlast': 3066, 'greet': 3067, '153': 3068, 'constantly': 3069, 'upset': 3070, 'jane': 3071, 'wrk': 3072, 'membership': 3073, 'oic': 3074, 'bristol': 3075, 'sends': 3076, 'dan': 3077, 'senthil': 3078, 'several': 3079, 'bathing': 3080, 'doesn': 3081, 'greatest': 3082, 'courage': 3083, 'bear': 3084, 'defeat': 3085, 'heartgn': 3086, 'waited': 3087, 'restaurant': 3088, 'claims': 3089, '5pm': 3090, 'measure': 3091, 'haiz': 3092, 'datoday': 3093, 'smart': 3094, 'buffet': 3095, 'ned': 3096, 'actual': 3097, 'disconnect': 3098, 'callcoz': 3099, \"'terrorist'\": 3100, 'itz': 3101, 'confirmd': 3102, 'verified': 3103, 'cnn': 3104, 'ibn': 3105, '12mths': 3106, 'maneesha': 3107, 'satisfied': 3108, 'toll': 3109, 'mini': 3110, 'melt': 3111, 'ground': 3112, 'eek': 3113, 'pan': 3114, 'perhaps': 3115, 'that\\x89û÷s': 3116, 'ibhltd': 3117, 'ldnw15h': 3118, 'mnths': 3119, 'consider': 3120, 'kills': 3121, 'annoying': 3122, 'birth': 3123, 'stays': 3124, '123': 3125, '09050002311': 3126, 'b4280703': 3127, '08718727868': 3128, 'waitin': 3129, 'youre': 3130, 'turning': 3131, 'inconsiderate': 3132, 'nag': 3133, 'recession': 3134, 'hence': 3135, \"month's\": 3136, 'doors': 3137, 'sometime': 3138, '09066358152': 3139, 'prompts': 3140, 'ola': 3141, 'yor': 3142, 'under': 3143, 'lays': 3144, 'issue': 3145, 'pending': 3146, 'vegas': 3147, 'chase': 3148, 'seconds': 3149, '9t': 3150, 'networks': 3151, 'tooo': 3152, \"'simple'\": 3153, 'eurodisinc': 3154, 'trav': 3155, 'acoentry41': 3156, 'morefrmmob': 3157, 'shracomorsglsuplt10': 3158, 'ls1': 3159, '3aj': 3160, 'cappuccino': 3161, 'tom': 3162, 'opinions': 3163, 'argh': 3164, 'xuhui': 3165, 'include': 3166, 'popped': 3167, 'christ': 3168, 'chocolate': 3169, 'fav': 3170, '1030': 3171, 'hugs': 3172, 'snogs': 3173, '674': 3174, 'wifi': 3175, 'fightng': 3176, 'dificult': 3177, 'lf56': 3178, '88877': 3179, 'dresser': 3180, 'china': 3181, 'randomly': 3182, 'inches': 3183, 'gudnitetcpractice': 3184, 'edge': 3185, 'goldviking': 3186, '762': 3187, 'having': 3188, 'sake': 3189, 'carry': 3190, 'forgotten': 3191, 'exhaust': 3192, 'ummmmmaah': 3193, '81303': 3194, 'sufficient': 3195, 'west': 3196, 'reckon': 3197, 'foot': 3198, 'penis': 3199, 'soo': 3200, 'borin': 3201, '88600': 3202, 'flash': 3203, 'jealous': 3204, 'whn': 3205, 'cn': 3206, 'reverse': 3207, 'cheating': 3208, 'mathematics': 3209, 'racing': 3210, 'nowi': 3211, 'chart': 3212, 'purse': 3213, 'taylor': 3214, 'bills': 3215, \"'melle\": 3216, 'melle': 3217, 'oru': 3218, 'minnaminunginte': 3219, 'nurungu': 3220, \"vettam'\": 3221, 'quizwin': 3222, 'duchess': 3223, '82277unsub': 3224, '008704050406': 3225, 'sp': 3226, \"roommate's\": 3227, 'proof': 3228, 'tool': 3229, 'parking': 3230, 'island': 3231, 'traffic': 3232, 'diamonds': 3233, 'puttin': 3234, 'tahan': 3235, 'anot': 3236, 'networking': 3237, 'technical': 3238, 'stayed': 3239, 'tnc': 3240, 'channel': 3241, 'mall': 3242, 'frndship': 3243, '24': 3244, 'gravity': 3245, 'carefully': 3246, 'cuddling': 3247, 'standing': 3248, 'interest': 3249, 'figures': 3250, 'generally': 3251, 'regular': 3252, 'prem': 3253, 'lucozade': 3254, 'le': 3255, '61200': 3256, 'packs': 3257, 'lucozadecouk': 3258, 'itcould': 3259, 'tap': 3260, 'spile': 3261, 'broad': 3262, 'canal': 3263, 'items': 3264, 'booty': 3265, '5k': 3266, '09064011000': 3267, 'cr01327bt': 3268, 'fixedline': 3269, 'shut': 3270, 'neither': 3271, 'likes': 3272, 'apologise': 3273, 'royal': 3274, 'beauty': 3275, 'thousands': 3276, 'minimum': 3277, 'goodenvironment': 3278, 'terrific': 3279, 'gals': 3280, 'attached': 3281, 'develop': 3282, 'ability': 3283, 'taxi': 3284, 'odi': 3285, 'moving': 3286, 'covers': 3287, 'brief': 3288, \"guy's\": 3289, 'tons': 3290, 'shoppin': 3291, 'horo': 3292, 'star': 3293, 'textpod': 3294, 'wwwtextpodnet': 3295, 'ths': 3296, 'ias': 3297, 'thangam': 3298, 'held': 3299, 'shocking': 3300, 'ws': 3301, 'heading': 3302, 'pull': 3303, 'logos': 3304, 'jiayin': 3305, 'mcat': 3306, '200': 3307, 'karaoke': 3308, 'accordingly': 3309, 'loss': 3310, 'temp': 3311, '0870k': 3312, 'rice': 3313, 'sar': 3314, 'unsold': 3315, 'base': 3316, 'diwali': 3317, 'building': 3318, 'coat': 3319, 'superior': 3320, 'waheed': 3321, 'fathima': 3322, 'weirdest': 3323, 'worlds': 3324, 'dressed': 3325, 'easier': 3326, '0825': 3327, 'threats': 3328, 'sales': 3329, 'journey': 3330, 'practice': 3331, 'lick': 3332, 'hppnss': 3333, 'sorrow': 3334, 'forevr': 3335, 'goodfriend': 3336, 'chain': 3337, '08712402050': 3338, 'lines': 3339, '10ppm': 3340, 'ag': 3341, 'promo': 3342, 'ptbo': 3343, 'favorite': 3344, 'cheat': 3345, 'continue': 3346, 'panic': 3347, 'vodka': 3348, 'allowed': 3349, 'causing': 3350, 'yunny': 3351, 'realise': 3352, 'science': 3353, 'push': 3354, 'cooked': 3355, 'buff': 3356, 'kkwhen': 3357, 'heater': 3358, 'discreet': 3359, 'vip': 3360, 'fineabsolutly': 3361, '2morro': 3362, 'term': 3363, 'befor': 3364, 'activities': 3365, 'redred': 3366, 'bloodblood': 3367, 'heartheart': 3368, 'luvs': 3369, 'praying': 3370, 'costing': 3371, 'changes': 3372, 'didnåõt': 3373, 'hallaq': 3374, 'flies': 3375, \"'til\": 3376, 'inch': 3377, '300p': 3378, 'outstanding': 3379, 'vewy': 3380, 'bud': 3381, \"priscilla's\": 3382, 'excuses': 3383, 'forgets': 3384, 'santa': 3385, 'mental': 3386, 'loveme': 3387, 'practicing': 3388, 'babies': 3389, 'arm': 3390, 'shot': 3391, '0871': 3392, '872': 3393, 'box95qu': 3394, 'desparate': 3395, 'filling': 3396, 'field': 3397, 'administrator': 3398, '09094646899': 3399, 'vu': 3400, 'bcm1896wc1n3xx': 3401, 'oil': 3402, 'fave': 3403, '88039': 3404, 'skilgme': 3405, '09063458130': 3406, 'polyph': 3407, 'amy': 3408, 'effects': 3409, 'sticky': 3410, 'sathya': 3411, 'considering': 3412, 'warning': 3413, 'piss': 3414, 'aunty': 3415, 'walked': 3416, 'secretly': 3417, 'fancies': 3418, 'datebox1282essexcm61xn': 3419, '09058094599': 3420, 'sweetheart': 3421, 'deari': 3422, 'bootydelious': 3423, 'banks': 3424, 'combine': 3425, 'funeral': 3426, 'touched': 3427, 'uu': 3428, 'maxå£7': 3429, 'understanding': 3430, 'sura': 3431, 'billion': 3432, 'custom': 3433, 'collected': 3434, 'control': 3435, 'ipad': 3436, 'count': 3437, 'decimal': 3438, 'division': 3439, 'released': 3440, 'bck': 3441, 'mt': 3442, 'rude': 3443, 'slo': 3444, '4fil': 3445, 'premium': 3446, 'housewives': 3447, '08717507711': 3448, 'landlines': 3449, 'shelf': 3450, 'juan': 3451, '69696': 3452, '3lp': 3453, '86888': 3454, 'subscribe6gbp': 3455, '3hrs': 3456, 'stoptxtstop': 3457, '2geva': 3458, 'telephone': 3459, 'managed': 3460, 'aka': 3461, 'call09050000327': 3462, 'rstm': 3463, 'sw7': 3464, '3ss': 3465, 'detroit': 3466, 'day2find': 3467, 'ke': 3468, 'slip': 3469, '07xxxxxxxxx': 3470, 'explicit': 3471, '30': 3472, 'secs': 3473, '02073162414': 3474, 'gist': 3475, 'bec': 3476, 'mega': 3477, 'sleepy': 3478, 'creepy': 3479, 'eta': 3480, 'itåõs': 3481, 'tight': 3482, 'confused': 3483, '08701417012150p': 3484, 'denis': 3485, 'size': 3486, 'enuff': 3487, 'mb': 3488, 'pie': 3489, 'ebay': 3490, 'båõday': 3491, 'sweetie': 3492, 'own': 3493, 'language': 3494, 'student': 3495, 'wld': 3496, 'slippers': 3497, 'free2day': 3498, \"george's\": 3499, 'jordantxt': 3500, '89080': 3501, 'celeb4': 3502, 'pocketbabecouk': 3503, '0870241182716': 3504, 'kg': 3505, 'tests': 3506, 'burns': 3507, 'fml': 3508, 'sary': 3509, 'plm': 3510, 'simpler': 3511, '09050001808': 3512, 'm95': 3513, 'valid12hrs': 3514, 'swatch': 3515, 'dare': 3516, 'raj': 3517, 'embarassed': 3518, 'blind': 3519, 'key': 3520, 'plane': 3521, 'status': 3522, 'guilty': 3523, 'toshiba': 3524, 'name1': 3525, 'name2': 3526, 'mobno': 3527, 'adam': 3528, '07123456789': 3529, 'txtno': 3530, 'ads': 3531, 'cochin': 3532, 'indicate': 3533, 'fish': 3534, 'stayin': 3535, 'ham': 3536, 'alive': 3537, 'blu': 3538, 'concert': 3539, 'deliveredtomorrow': 3540, 'ideal': 3541, 'front': 3542, 'lovers': 3543, 'among': 3544, 'mth': 3545, 'oranges': 3546, 'upd8': 3547, 'ding': 3548, 'female': 3549, 'calm': 3550, 'up4': 3551, 'hlp': 3552, '08712317606': 3553, 'msg150p': 3554, '2rcv': 3555, 'greetings': 3556, 'classes': 3557, 'mac': 3558, 'mouth': 3559, 'donate': 3560, 'weigh': 3561, 'breathe': 3562, 'dislikes': 3563, 'appreciated': 3564, 'decisions': 3565, 'error': 3566, 'sorted': 3567, 'mahal': 3568, 'tms': 3569, 'widelivecom': 3570, 'index': 3571, 'wmlid': 3572, 'aunt': 3573, 'gbp': 3574, 'bleh': 3575, 'cld': 3576, 'capital': 3577, 'messageno': 3578, 'responcewhat': 3579, 'total': 3580, 'queen': 3581, 'becomes': 3582, 'follow': 3583, \"mum's\": 3584, 'poop': 3585, 'cookies': 3586, 'hunny': 3587, 'bc': 3588, 'dayshe': 3589, 'potential': 3590, 'talent': 3591, 'exhausted': 3592, 'messagesome': 3593, 'sendername': 3594, 'sentdate': 3595, 'pee': 3596, 'research': 3597, 'avoiding': 3598, 'superb': 3599, 'faggy': 3600, 'fo': 3601, 'expressoffer': 3602, 'lo': 3603, 'swt': 3604, 'occupy': 3605, 'goal': 3606, 'henry': 3607, 'liverpool': 3608, 'prof': 3609, 'papers': 3610, 'sem': 3611, 'beyond': 3612, 'geeeee': 3613, 'module': 3614, '08006344447': 3615, '05': 3616, '89545': 3617, 'www4': 3618, 'tcbiz': 3619, '08718726270150gbp': 3620, 'mtmsg18': 3621, 'txtauction': 3622, 'yeh': 3623, '09058099801': 3624, 'b4190604': 3625, '7876150ppm': 3626, 'kid': 3627, 'difference': 3628, 'soiree': 3629, 'bless': 3630, 'hockey': 3631, 'ubi': 3632, 'jogging': 3633, 'morphine': 3634, 'possession': 3635, 'cud': 3636, 'contacts': 3637, 'algarve': 3638, 'keeps': 3639, 'death': 3640, 'gang': 3641, 'dumb': 3642, 'solved': 3643, \"isn't\": 3644, 'textbuddy': 3645, 'gaytextbuddycom': 3646, '89693': 3647, 'middle': 3648, 'mumtaz': 3649, 'killed': 3650, \"mumtaz's\": 3651, 'common': 3652, 'staff': 3653, 'staying': 3654, 'commercial': 3655, 'borrow': 3656, 'flip': 3657, 'garden': 3658, 'bulbs': 3659, 'seeds': 3660, 'å£3350': 3661, 'scotsman': 3662, 'go2': 3663, 'notxtcouk': 3664, 'refilled': 3665, 'successfully': 3666, 'inr': 3667, 'keralacircle': 3668, 'prepaid': 3669, 'kr': 3670, 'lux': 3671, 'upstairs': 3672, 'mix': 3673, 'acted': 3674, 'killing': 3675, 'sentence': 3676, 'into': 3677, 'concentrate': 3678, 'posts': 3679, 'teaching': 3680, 'spider': 3681, 'shock': 3682, 'desires': 3683, 'å£150perwksub': 3684, 'handed': 3685, 'jokin': 3686, 'sptv': 3687, 'has': 3688, 'caroline': 3689, 'incredible': 3690, 'blow': 3691, 'o2fwd': 3692, '18p': 3693, 'celebration': 3694, 'yetunde': 3695, 'foley': 3696, 'prizes': 3697, 'wwwwin': 3698, '82050couk': 3699, 'loxahatchee': 3700, 'burning': 3701, 'shjas': 3702, 'painting': 3703, 'kindly': 3704, 'tortilla': 3705, 'nearly': 3706, 'tension': 3707, 'eastenders': 3708, 'dot': 3709, 'compare': 3710, 'violet': 3711, 'tulip': 3712, 'lily': 3713, 'wkent': 3714, '150p16': 3715, 'steam': 3716, 'innocent': 3717, 'tiwary': 3718, 'scrounge': 3719, 'rush': 3720, 'gona': 3721, 'goodo': 3722, 'signing': 3723, 'finewhen': 3724, 'delhi': 3725, 'dedicated': 3726, 'dedicate': 3727, 'nic': 3728, 'normally': 3729, 'broken': 3730, 'instantly': 3731, '326': 3732, 'literally': 3733, 'jerry': 3734, 'irritates': 3735, 'fails': 3736, 'express': 3737, 'jobs': 3738, 'neck': 3739, '165': 3740, 'lyfu': 3741, 'lyf': 3742, 'meow': 3743, 'easter': 3744, 'closed': 3745, 'lag': 3746, 'andros': 3747, 'dorm': 3748, 'windows': 3749, 'ben': 3750, 'cme': 3751, '08700621170150p': 3752, 'mostly': 3753, 'constant': 3754, 'skip': 3755, 'tt': 3756, '80086': 3757, 'wwwtxttowincouk': 3758, 'collecting': 3759, 'filthy': 3760, 'vth': 3761, 'docs': 3762, 'cared': 3763, 'gender': 3764, 'gaps': 3765, 'thm': 3766, 'fan': 3767, 'lane': 3768, 'castor': 3769, 'joy': 3770, 'garbage': 3771, 'dark': 3772, 'stones': 3773, 'low': 3774, 'sunlight': 3775, 'fills': 3776, 'exact': 3777, 'infront': 3778, 'ee': 3779, 'å£50': 3780, '910': 3781, 'dime': 3782, 'sky': 3783, 'swiss': 3784, 'crore': 3785, 'roads': 3786, 'politicians': 3787, 'rahul': 3788, 'dengra': 3789, 'smash': 3790, 'bros': 3791, 'religiously': 3792, '07973788240': 3793, '08715203649': 3794, 'deny': 3795, '3pound': 3796, 'madamregret': 3797, 'disturbancemight': 3798, 'dlf': 3799, 'premaricakindly': 3800, 'informedrgdsrakheshkerala': 3801, 'rv': 3802, 'hol': 3803, 'roadsrvx': 3804, 'rearrange': 3805, 'dormitory': 3806, 'astronomer': 3807, 'starer': 3808, 'election': 3809, 'recount': 3810, 'hitler': 3811, 'eleven': 3812, 'sunoco': 3813, 'flew': 3814, 'window': 3815, 'level': 3816, 'phoned': 3817, 'disconnected': 3818, 'disc': 3819, 'u4': 3820, 'knickers': 3821, 'beg': 3822, '01223585236': 3823, 'nikiyu4net': 3824, 'retired': 3825, 'paragon': 3826, 'prospects': 3827, 'zoe': 3828, 'shitin': 3829, 'defo': 3830, 'hardest': 3831, 'millions': 3832, 'lekdog': 3833, 'ore': 3834, 'owo': 3835, 'fro': 3836, 'suffering': 3837, 'dysentry': 3838, 'seventeen': 3839, 'hundred': 3840, 'ml': 3841, 'complain': 3842, 'onlybettr': 3843, 'bsnl': 3844, 'offc': 3845, 'nd': 3846, 'jackson': 3847, 'kkcongratulation': 3848, 'whatsup': 3849, 'å£12': 3850, 'sources': 3851, 'unhappiness': 3852, 'faith': 3853, 'possiblehope': 3854, 'worklove': 3855, 'beautifulmay': 3856, 'christmasmerry': 3857, 'invaders': 3858, 'orig': 3859, 'console': 3860, 'o2couk': 3861, 'purchase': 3862, 'dock': 3863, 'rolled': 3864, 'newscaster': 3865, 'dabbles': 3866, 'flute': 3867, 'wheel': 3868, 'zhong': 3869, 'se': 3870, 'qing': 3871, 'act': 3872, 'wesleys': 3873, 'initiate': 3874, 'musical': 3875, 'flaky': 3876, 'ammaelife': 3877, 'steering': 3878, 'amused': 3879, 'tightly': 3880, 'vtired': 3881, 'inspection': 3882, 'nursery': 3883, 'turned': 3884, 'que': 3885, 'pases': 3886, 'buen': 3887, 'tiempo': 3888, 'telugu': 3889, 'moviewat': 3890, 'receivea': 3891, '09061701461': 3892, 'kl341': 3893, 'non': 3894, 'dismay': 3895, 'ridden': 3896, 'oclock': 3897, 'bash': 3898, 'gsoh': 3899, 'spam': 3900, 'ladiesu': 3901, 'gigolo': 3902, 'mens': 3903, 'oncall': 3904, 'mjzgroup': 3905, '087143423992stop': 3906, 'msgå£150rcvd': 3907, 'smarter': 3908, 'shorethe': 3909, 'fox': 3910, 'frndsship': 3911, 'dwn': 3912, 'gnarls': 3913, 'barkleys': 3914, 'janx': 3915, 'dads': 3916, 'improved': 3917, 'msgs150p': 3918, '8077': 3919, 'jacuzzi': 3920, 'loosu': 3921, 'careless': 3922, 'hiphop': 3923, 'woo': 3924, 'hoo': 3925, 'allo': 3926, 'braved': 3927, 'buses': 3928, 'taken': 3929, 'triumphed': 3930, 'b\\x89û÷ham': 3931, 'investigate': 3932, '0906346330': 3933, '47': 3934, 'po19': 3935, '2ez': 3936, '09064019788': 3937, 'box42wr29c': 3938, 'khelate': 3939, 'kintu': 3940, 'opponenter': 3941, 'dhorte': 3942, 'lage': 3943, 'nevr': 3944, 'unrecognized': 3945, 'somone': 3946, 'valuing': 3947, 'definitly': 3948, 'undrstnd': 3949, 'gravel': 3950, '69888': 3951, '31pmsg150p': 3952, 'mas': 3953, 'advance': 3954, 'lifebook': 3955, 'companion': 3956, 'chef': 3957, 'listener': 3958, 'organizer': 3959, 'boyfriend': 3960, 'sympathetic': 3961, 'athletic': 3962, 'courageous': 3963, 'determined': 3964, 'dependable': 3965, 'psychologist': 3966, 'pest': 3967, 'exterminator': 3968, 'psychiatrist': 3969, 'healer': 3970, 'stylist': 3971, 'aaniye': 3972, 'pudunga': 3973, 'venaam': 3974, 'transfr': 3975, 'splwat': 3976, 'whr': 3977, '7548': 3978, '4041': 3979, 'banneduk': 3980, 'inshah': 3981, 'peach': 3982, 'tasts': 3983, 'guessin': 3984, 'corvettes': 3985, 'suffers': 3986, 'silence': 3987, 'ffffuuuuuuu': 3988, 'pple700': 3989, 'nightsexcellent': 3990, 'breakfast': 3991, 'hamper': 3992, 'sq825': 3993, 'arrival': 3994, 'stressfull': 3995, 'adds': 3996, 'needing': 3997, 'ultimately': 3998, 'tor': 3999, 'motive': 4000, 'tui': 4001, 'achieve': 4002, 'korli': 4003, 'imin': 4004, 'towndontmatter': 4005, 'urgoin': 4006, 'outl8r': 4007, 'dayhas': 4008, 'hopeafternoon': 4009, 'faithevening': 4010, 'luvnight': 4011, 'restwish': 4012, 'todaygood': 4013, 'emailed': 4014, 'yifeng': 4015, 'objection': 4016, '09061744553': 4017, 'polyh': 4018, 'joanna': 4019, 'christmassy': 4020, '021': 4021, '3680offer': 4022, \"28thfebtc's\": 4023, 'useless': 4024, 'divorce': 4025, 'barbie': 4026, \"ken's\": 4027, '28th': 4028, 'nevering': 4029, 'spare': 4030, '2channel': 4031, 'leadership': 4032, 'skills': 4033, 'psychic': 4034, 'named': 4035, 'theres': 4036, 'tmrw': 4037, 'payasam': 4038, 'rinu': 4039, 'wheellock': 4040, 'nok': 4041, 'showers': 4042, 'possessiveness': 4043, 'poured': 4044, 'golden': 4045, 'surly': 4046, 'lord': 4047, 'ringsreturn': 4048, 'nowreply': 4049, 'soundtrack': 4050, 'stdtxtrate': 4051, 'comprehensive': 4052, 'leading': 4053, '151': 4054, 'pause': 4055, '08718726270': 4056, '09064017305': 4057, 'pobox75ldns7': 4058, 'kvb': 4059, \"parents'\": 4060, 'downstem': 4061, 'elvis': 4062, 'presleys': 4063, 'placed': 4064, 'woah': 4065, 'realising': 4066, 'relatives': 4067, 'risks': 4068, 'benefits': 4069, 'purchases': 4070, 'yeahand': 4071, 'newquay': 4072, '1im': 4073, 'talkin': 4074, 'boutxx': 4075, 'stil': 4076, 'fucked': 4077, 'tobed': 4078, 'washob': 4079, 'nobbing': 4080, 'nickey': 4081, 'platt': 4082, 'ello': 4083, 'meaningless': 4084, 'spaces': 4085, 'embassy': 4086, 'spys': 4087, 'reserves': 4088, 'clearly': 4089, 'justbeen': 4090, 'overa': 4091, 'brains': 4092, 'mush': 4093, \"vikkyi'm\": 4094, 'f4q': 4095, 'onwords': 4096, 'mtnl': 4097, 'mumbai': 4098, 'fowler': 4099, 'kgive': 4100, 'macedonia': 4101, 'trywales': 4102, 'scotland': 4103, 'ì¼120': 4104, 'poboxox36504w45wq': 4105, 'improve': 4106, 'grown': 4107, 'intrepid': 4108, 'duo': 4109, 'gobi': 4110, 'topped': 4111, 'wwwbubbletextcom': 4112, 'tgxxrz': 4113, 'lacking': 4114, 'particular': 4115, \"dramastorm's\": 4116, \"station's\": 4117, 'cc100p': 4118, 'data': 4119, 'analysis': 4120, 'thesis': 4121, 'gr8prizes': 4122, '8800': 4123, 'psp': 4124, 'wktxt': 4125, 'wwwgr8prizescom': 4126, \"phone's\": 4127, 'vibrate': 4128, 'acting': 4129, 'justify': 4130, 'phone750': 4131, '08000776320': 4132, 'juswoke': 4133, 'boatin': 4134, 'docks': 4135, 'spinout': 4136, 'gossip': 4137, 'wwwtklscom': 4138, 'stoptxtstopå£150': 4139, 'dice': 4140, 'totes': 4141, 'timeslil': 4142, 'busyi': 4143, 'attention': 4144, 'reg': 4145, 'ciao': 4146, '09053750005': 4147, '310303': 4148, '08718725756': 4149, '140ppm': 4150, 'someonone': 4151, '09064015307': 4152, 'box334sk38ch': 4153, \"harish's\": 4154, 'transfred': 4155, 'acnt': 4156, '10th': 4157, '09050000555': 4158, 'ba128nnfwfly150ppm': 4159, 'anythiing': 4160, 'stands': 4161, 'nitz': 4162, '08719839835': 4163, 'mgs': 4164, '89123': 4165, 'hanks': 4166, 'lotsly': 4167, 'wlcome': 4168, 'delete': 4169, 'wiproyou': 4170, 'hmmmbut': 4171, 'showered': 4172, \"er'ything\": 4173, 'basketball': 4174, 'outdoors': 4175, 'wahala': 4176, 'synced': 4177, 'shangela': 4178, 'completed': 4179, 'hunnywot': 4180, 'bedroomlove': 4181, 'awkward': 4182, 'brum': 4183, '6times': 4184, 'dealer': 4185, 'lunsford': 4186, 'soz': 4187, 'imat': 4188, 'mums': 4189, 'restocked': 4190, 'badrith': 4191, 'chennaii': 4192, 'usno': 4193, 'uniform': 4194, 'buffy': 4195, 'qlynnbv': 4196, 'help08700621170150p': 4197, 'priest': 4198, 'league': 4199, 'gain': 4200, 'wifedont': 4201, 'iti': 4202, 'toolets': 4203, 'grumpy': 4204, 'lying': 4205, 'studyn': 4206, 'bomb': 4207, 'zac': 4208, 'rs5': 4209, 'significance': 4210, '09061701939': 4211, 's89': 4212, 'opposed': 4213, 'thet': 4214, 'skinny': 4215, 'casting': 4216, 'pattern': 4217, 'prakesh': 4218, '80155': 4219, 'swap': 4220, 'chatter': 4221, 'chat80155': 4222, 'rcd': 4223, 'simulate': 4224, 'readiness': 4225, 'mittelschmertz': 4226, 'paracetamol': 4227, 'shoes': 4228, 'consensus': 4229, 'waiti': 4230, 'typical': 4231, \"'doctors'\": 4232, 'reminds': 4233, '2godid': 4234, 'pity': 4235, 'soany': 4236, 'suggestions': 4237, 'easiest': 4238, 'barcelona': 4239, 'scrumptious': 4240, 'entertaining': 4241, 'hugh': 4242, 'laurie': 4243, 'tensed': 4244, 'pei': 4245, 'apologetic': 4246, 'fallen': 4247, 'actin': 4248, 'spoilt': 4249, 'badly': 4250, 'kkare': 4251, '9061100010': 4252, 'wire3net': 4253, '1st4terms': 4254, 'mobcudb': 4255, 'caveboy': 4256, 'bookshelf': 4257, 'swhrt': 4258, 'deyhope': 4259, '2daylove': 4260, 'misstake': 4261, 'rip': 4262, 'uterus': 4263, 'rimac': 4264, 'beneath': 4265, 'pale': 4266, 'kkany': 4267, '5226': 4268, 'hava': 4269, '1131': 4270, 'posh': 4271, 'chaps': 4272, 'trial': 4273, 'prods': 4274, 'champneys': 4275, 'dob': 4276, 'meremove': 4277, 'maintaining': 4278, 'remb': 4279, 'worrying': 4280, 'quizzes': 4281, 'popcorn': 4282, 'daysso': 4283, 'prepared': 4284, 'finalise': 4285, 'visitneed': 4286, \"they'll\": 4287, 'slurp': 4288, 'earliest': 4289, 'ax': 4290, '447801259231': 4291, '09058094597': 4292, 'scrappy': 4293, 'listed': 4294, 'ninish': 4295, 'icky': 4296, 'freek': 4297, \"'hex'\": 4298, 'lifted': 4299, 'hopes': 4300, 'approaches': 4301, 'wrkin': 4302, 'somewhat': 4303, 'laden': 4304, 'wrecked': 4305, 'table': 4306, 'lambda': 4307, 'dearshall': 4308, 'tonitebusy': 4309, 'streetshall': 4310, 'tonitethings': 4311, 'okvarunnathu': 4312, 'edukkukayee': 4313, 'raksha': 4314, 'ollubut': 4315, 'leads': 4316, 'hangin': 4317, '3lions': 4318, 'wishlist': 4319, 'section': 4320, 'forums': 4321, 'nitro': 4322, 'harri': 4323, 'narcotics': 4324, 'vid': 4325, 'keyword': 4326, '140': 4327, 'ardìä': 4328, '180': 4329, 'leastwhich': 4330, 'lavender': 4331, 'dinnermsg': 4332, 'kidding': 4333, 'papa': 4334, 'daytime': 4335, 'busty': 4336, '09099726429': 4337, 'janinexx': 4338, 'teacher': 4339, 'gower': 4340, 'åômorrow': 4341, 'fondly': 4342, 'solihull': 4343, 'deficient': 4344, 'afternon': 4345, 'interviews': 4346, 'rayan': 4347, 'macleran': 4348, 'regretted': 4349, 'babyjontet': 4350, 'choices': 4351, 'toss': 4352, 'gudni8': 4353, 'kanowhr': 4354, 'cumming': 4355, 'sonetimes': 4356, 'rough': 4357, 'gage': 4358, 'deck': 4359, 'wwwcnupdatescom': 4360, 'newsletter': 4361, 'alerts': 4362, 'upping': 4363, 'grams': 4364, 'brdget': 4365, 'jones': 4366, 'floppy': 4367, 'snappy': 4368, 'revision': 4369, 'boyf': 4370, 'interviw': 4371, 'exeter': 4372, 'worriedx': 4373, '09064018838': 4374, 'cro1327': 4375, 'coulda': 4376, 'creep': 4377, 'nothis': 4378, 'groundamla': 4379, 'shola': 4380, 'secretary': 4381, 'transfer': 4382, 'sagamu': 4383, 'lautech': 4384, 'vital': 4385, 'completes': 4386, 'education': 4387, 'zealand': 4388, 'guessing': 4389, 'jb': 4390, 'edison': 4391, 'rightly': 4392, 'speechless': 4393, 'viva': 4394, '09066364589': 4395, \"something's\": 4396, 'witin': 4397, 'dahow': 4398, '3230': 4399, 'textbook': 4400, 'algorithms': 4401, 'edition': 4402, 'kappa': 4403, 'mmmmm': 4404, 'sooooo': 4405, 'shag': 4406, 'dointerested': 4407, 'sextextukcom': 4408, 'xxuk': 4409, '69876': 4410, 'help08700469649': 4411, 'box420': 4412, '20m12aq': 4413, '\\x89ûï': 4414, 'supports': 4415, 'srt': 4416, 'ps3': 4417, 'goodno': 4418, 'problembut': 4419, 'perform': 4420, 'tonexs': 4421, 'renewed': 4422, 'wwwclubzedcouk': 4423, 'billing': 4424, '5p': 4425, 'youhow': 4426, 'performed': 4427, 'yesfrom': 4428, 'doesn\\x89û÷t': 4429, 'browser': 4430, 'surf': 4431, 'blanket': 4432, 'real1': 4433, 'pushbutton': 4434, 'dontcha': 4435, 'babygoodbye': 4436, 'golddigger': 4437, 'webeburnin': 4438, 'nowcan': 4439, '83021': 4440, 'woulda': 4441, 'computerless': 4442, '08718726971': 4443, 'cheesy': 4444, 'frosty': 4445, 'predict': 4446, 'k718': 4447, '09065069120': 4448, 'go2sri': 4449, 'lanka': 4450, '0721072': 4451, '07090201529': 4452, 'pert': 4453, 'head\\x89û': 4454, '600': 4455, '400': 4456, 'deltomorrow': 4457, 'butting': 4458, 'vs': 4459, 'dancin': 4460, 'arngd': 4461, 'walkin': 4462, 'unfortuntly': 4463, 'bites': 4464, 'frnt': 4465, 'sayin': 4466, 'raping': 4467, 'dudes': 4468, 'weaknesses': 4469, \"knee's\": 4470, 'exposes': 4471, 'pulls': 4472, 'wicked': 4473, 'occurs': 4474, 'mineall': 4475, 'annoyin': 4476, 'conacted': 4477, 'youto': 4478, '09111030116': 4479, 'pobox12n146tf15': 4480, 'msgwe': 4481, 'shortcode': 4482, '83332please': 4483, '08081263000': 4484, 'charges': 4485, 'refundedthis': 4486, 'view': 4487, 'gays': 4488, 'kay': 4489, 'evaluation': 4490, 'impossible': 4491, '80608': 4492, 'wwwmovietriviatv': 4493, '08712405022': 4494, 'showr': 4495, 'kkwhat': 4496, 'detail': 4497, 'transferacc': 4498, 'doinat': 4499, 'secure': 4500, 'gei': 4501, 'tron': 4502, 'dl': 4503, 'continued': 4504, 'president': 4505, 'useful': 4506, 'print': 4507, 'marandratha': 4508, 'irritation': 4509, 'db': 4510, 'vague': 4511, 'accounting': 4512, 'delayed': 4513, 'housing': 4514, 'agency': 4515, 'renting': 4516, 'youso': 4517, 'stone': 4518, 'cards': 4519, 'pump': 4520, 'jon': 4521, 'spain': 4522, 'dinero': 4523, 'åôrents': 4524, '12000pes': 4525, 'å£48': 4526, 'fuuuuck': 4527, 'worc': 4528, 'foregate': 4529, 'shrub': 4530, 'tescos': 4531, '09071517866': 4532, '150ppmpobox10183bhamb64xe': 4533, \"account's\": 4534, 'connections': 4535, 'panasonic': 4536, 'bluetoothhdset': 4537, 'doublemins': 4538, 'doubletxt': 4539, 'fumbling': 4540, 'reserve': 4541, 'thirunelvali': 4542, 'evei': 4543, 'netno': 4544, 'availablei': 4545, 'tackle': 4546, 'swashbuckling': 4547, 'sicomo': 4548, 'nolistened2the': 4549, 'plaid': 4550, 'gdthe': 4551, 'air1': 4552, 'hilarious': 4553, 'boughtåóbraindanceåóa': 4554, 'compofstuff': 4555, 'aphexåõs': 4556, 'abel': 4557, 'dance': 4558, 'spjanuary': 4559, 'westshore': 4560, 'gonnamissu': 4561, 'muchi': 4562, 'buttheres': 4563, 'aboutas': 4564, 'merememberin': 4565, 'asthere': 4566, 'ofsi': 4567, 'breakin': 4568, 'yaxx': 4569, 'forced': 4570, 'select': 4571, 'astrology': 4572, 'screwd': 4573, 'hourish': 4574, 'gailxx': 4575, '83435': 4576, 'helpline': 4577, '08706091795': 4578, 'hiwhat': 4579, 'decades': 4580, 'goverment': 4581, 'expects': 4582, 'thgt': 4583, \"fren's\": 4584, 'digi': 4585, 'coupla': 4586, 'hidden': 4587, 'voted': 4588, '09050000878': 4589, 'messageit': 4590, 'hundreds': 4591, 'handsomes': 4592, 'beauties': 4593, 'aunties': 4594, '09061213237': 4595, '177': 4596, 'm227xy': 4597, 'posting': 4598, 'chennaibecause': 4599, 'hitechnical': 4600, 'supportproviding': 4601, 'assistance': 4602, 'kkapo': 4603, 'kgood': 4604, 'drove': 4605, 'toot': 4606, 'concerned': 4607, 'jp': 4608, 'mofo': 4609, 'lmaonice': 4610, 'twenty': 4611, 'durham': 4612, 'reserved': 4613, 'taste': 4614, 'afterwards': 4615, 'authorise': 4616, 'problematic': 4617, 'definite': 4618, 'quitting': 4619, 'least5times': 4620, \"wudn't\": 4621, 'danger': 4622, 'peeps': 4623, 'comment': 4624, 'ducking': 4625, 'chinchillas': 4626, 'gaze': 4627, 'adding': 4628, 'zeros': 4629, 'savings': 4630, 'goodfine': 4631, 'ahnow': 4632, 'wherebtw': 4633, 'nus': 4634, 'sc': 4635, 'specialise': 4636, 'wad': 4637, 'describe': 4638, '09066362220': 4639, 'fellow': 4640, 'signin': 4641, 'poking': 4642, 'canada': 4643, 'depression': 4644, 'premier': 4645, 'situations': 4646, 'loosing': 4647, 'hellogorgeous': 4648, 'nitw': 4649, 'texd': 4650, 'hopeu': 4651, '4ward': 4652, 'jaz': 4653, 'ana': 4654, 'sathy': 4655, 'rto': 4656, 'beta': 4657, 'busetop': 4658, 'axis': 4659, 'wwwapplausestorecom': 4660, 'monthlysubscription50p': 4661, 'max6': 4662, 'tcsc': 4663, '2stop': 4664, 'phony': 4665, 'thanx4': 4666, 'cer': 4667, 'soonc': 4668, 'xafter': 4669, 'cst': 4670, 'chg': 4671, 'dolls': 4672, 'patrick': 4673, 'swayze': 4674, 'adventuring': 4675, 'jontin': 4676, 'computers': 4677, 'sian': 4678, 'wipro': 4679, 'coccooning': 4680, 'tooth': 4681, 'or2optout': 4682, 'hv9d': 4683, 'kickoff': 4684, 'mmmmmmm': 4685, 'snuggles': 4686, 'contented': 4687, 'whispers': 4688, 'noits': 4689, 'lyrics': 4690, 'phonebook': 4691, 'tarot': 4692, '85555': 4693, 'manage': 4694, 'misundrstud': 4695, 'callingforgot': 4696, 'onam': 4697, 'sirjii': 4698, 'personmeet': 4699, 'insha': 4700, 'allahrakhesh': 4701, 'tata': 4702, 'aig': 4703, 'tisscotayseer': 4704, 'posible': 4705, 'century': 4706, 'frwd': 4707, 'chapel': 4708, 'frontierville': 4709, 'melody': 4710, 'joining': 4711, 'formallypls': 4712, 'prayingwill': 4713, 'sells': 4714, '4d': 4715, 'skateboarding': 4716, 'thrown': 4717, 'winds': 4718, 'bandages': 4719, 'villa': 4720, 'pathaya': 4721, 'enketa': 4722, 'maraikara': 4723, \"pa'\": 4724, 'chuckin': 4725, 'trainners': 4726, 'carryin': 4727, 'bac': 4728, 'callon': 4729, 'kitty': 4730, 'shaved': 4731, 'roles': 4732, 'outreach': 4733, '09050000460': 4734, 'j89': 4735, 'box245c2150pm': 4736, 'lodge': 4737, 'parked': 4738, 'agents': 4739, 'experiment': 4740, 'fps': 4741, 'fried': 4742, 'spares': 4743, 'looovvve': 4744, '07099833605': 4745, 'ref9280114': 4746, 'jd': 4747, 'accounts': 4748, 'ingredients': 4749, 'corect': 4750, 'speling': 4751, 'sarcasm': 4752, 'fwiw': 4753, 'afford': 4754, 'onbus': 4755, 'donyt': 4756, 'homebut': 4757, 'latelyxxx': 4758, 'nauseous': 4759, 'dieting': 4760, 'toughest': 4761, 'detailsi': 4762, 'youmy': 4763, 'talents': 4764, 'pai': 4765, 'seh': 4766, 'meets': 4767, 'kkthis': 4768, 'kotees': 4769, 'mesages': 4770, 'lennon': 4771, 'stuffing': 4772, 'rebtel': 4773, 'firefox': 4774, 'priya': 4775, 'bro': 4776, 'creative': 4777, 'programs': 4778, 'hmmmstill': 4779, 'opener': 4780, 'velachery': 4781, 'cardiff': 4782, 'radiator': 4783, 'faglord': 4784, 'dobby': 4785, 'yalrigu': 4786, 'heltiniiyo': 4787, 'shared': 4788, 'meso': 4789, 'uttered': 4790, 'trusting': 4791, 'meok': 4792, 'homelove': 4793, '1172': 4794, 'safely': 4795, 'breaker': 4796, 'deluxe': 4797, 'features': 4798, 'graphics': 4799, 'bbdeluxe': 4800, 'requirements': 4801, 'jack': 4802, 'helpful': 4803, 'pretend': 4804, 'hypotheticalhuagauahahuagahyuhagga': 4805, 'hooked': 4806, 'crashing': 4807, 'pdate': 4808, 'yhl': 4809, 'salon': 4810, 'spark': 4811, 'rawring': 4812, 'xoxo': 4813, 'tiring': 4814, 'concentrating': 4815, 'answered': 4816, '85233': 4817, 'ringtonereply': 4818, \"ny's\": 4819, '08448350055': 4820, 'planettalkinstantcom': 4821, '6230': 4822, '83383': 4823, 'pobox114': 4824, '14tcr': 4825, 'millers': 4826, 'involved': 4827, 'somewhr': 4828, 'crushes': 4829, 'relieved': 4830, 'westonzoyland': 4831, \"'rencontre'\": 4832, 'mountains': 4833, 'luckily': 4834, 'starring': 4835, '08718726978': 4836, 'soooo': 4837, 'provider': 4838, 'tming': 4839, 'draws': 4840, 'univ': 4841, 'wendy': 4842, 'theyre': 4843, 'treasure': 4844, '08715203694': 4845, 'fortune': 4846, 'ffffffffff': 4847, 'sooner': 4848, 'oga': 4849, 'entrepreneurs': 4850, 'submitting': 4851, 'bari': 4852, 'hudgi': 4853, 'yorge': 4854, 'pataistha': 4855, 'ertini': 4856, 'rob': 4857, 'mack': 4858, 'gf': 4859, 'theater': 4860, 'bsn': 4861, 'advising': 4862, 'reboot': 4863, 'caring': 4864, 'treadmill': 4865, 'craigslist': 4866, '83370': 4867, 'wwwmusic': 4868, 'trivianet': 4869, 'squeeeeeze': 4870, 'frndshp': 4871, 'luvd': 4872, 'carso': 4873, 'gep': 4874, '08715205273': 4875, 'bot': 4876, 'notes': 4877, 'manageable': 4878, '09058095107': 4879, 's3xy': 4880, 'godtaken': 4881, 'teethis': 4882, 'paining': 4883, \"yesi'm\": 4884, '32000': 4885, 'legitimat': 4886, 'efreefone': 4887, 'en': 4888, 'nange': 4889, 'bakra': 4890, 'kalstiyathen': 4891, 'kkits': 4892, 'goodwhen': 4893, 'exe': 4894, 'jabo': 4895, 'sundayish': 4896, 'peteis': 4897, 'jenny': 4898, 'leannewhat': 4899, '88888': 4900, '08701213186': 4901, 'zogtorius': 4902, 'iåõve': 4903, 'guesses': 4904, 'attach': 4905, 'chillaxin': 4906, 'monster': 4907, 'jaklin': 4908, 'fudge': 4909, 'oreos': 4910, '02072069400': 4911, 'bx': 4912, '526': 4913, 'hint': 4914, 'forum': 4915, 'svc': 4916, '69988': 4917, \"tomocan't\": 4918, 'establish': 4919, 'syllabus': 4920, 'grandmas': 4921, 'hungover': 4922, 'thasa': 4923, 'messed': 4924, 'upyeh': 4925, 'decorating': 4926, 'presnts': 4927, 'bcz': 4928, 'jeevithathile': 4929, 'irulinae': 4930, 'neekunna': 4931, 'prakasamanu': 4932, 'sneham': 4933, 'prakasam': 4934, 'ennal': 4935, \"'that\": 4936, 'mns': 4937, \"is'love'\": 4938, 'resume': 4939, 'nigro': 4940, 'watever': 4941, 'built': 4942, 'remains': 4943, 'lonlines': 4944, 'lotz': 4945, 'memories': 4946, '9996': 4947, '14thmarch': 4948, 'availa': 4949, 'julianaland': 4950, 'oblivious': 4951, 'ear': 4952, 'atm': 4953, 'cartons': 4954, 'shelves': 4955, 'specify': 4956, 'domain': 4957, 'nusstu': 4958, 'awww': 4959, \"zaher's\": 4960, 'yavnt': 4961, 'foned': 4962, 'chuck': 4963, 'whens': 4964, 'consent': 4965, 'forms': 4966, 'å£100000': 4967, 'jackpot': 4968, '81010': 4969, 'wwwdbuknet': 4970, 'lccltd': 4971, '4403ldnw1a7rw18': 4972, 'les': 4973, 'rudi': 4974, 'snoringthey': 4975, 'drunk': 4976, 'ink': 4977, 'reminded': 4978, 'haircut': 4979, 'breezy': 4980, 'temales': 4981, 'accessible': 4982, '08709501522': 4983, '139': 4984, 'la3': 4985, '2wu': 4986, 'noice': 4987, 'dawhats': 4988, 'hsbc': 4989, 'rules': 4990, 'bend': 4991, 'thia': 4992, 'inlude': 4993, 'previews': 4994, 'aids': 4995, 'patent': 4996, 'freaky': 4997, 'goigng': 4998, 'perfume': 4999, \"shit's\": 5000, 'pocked': 5001, 'walkabout': 5002, '08715203652': 5003, '42810': 5004, \"anybody's\": 5005, 'tactful': 5006, 'raviyog': 5007, 'peripherals': 5008, 'bhayandar': 5009, 'painhope': 5010, 'guides': 5011, 'tall': 5012, 'semiobscure': 5013, 'welli': 5014, 'rewarding': 5015, 'whom': 5016, 'club4mobilescom': 5017, '87070': 5018, 'club4': 5019, 'box1146': 5020, 'mk45': 5021, '2wt': 5022, 'dept': 5023, '13': 5024, '08717507382': 5025, \"idea's\": 5026, 'anyplaces': 5027, 'goodmorningmy': 5028, 'grandfather': 5029, 'expiredso': 5030, 'clothes': 5031, 'heygreat': 5032, 'dealfarm': 5033, '95': 5034, 'pax': 5035, 'deposit': 5036, 'comingdown': 5037, 'natwest': 5038, '09058094454': 5039, 'ucall': 5040, 'wrki': 5041, 'dabooks': 5042, 'armenia': 5043, 'swann': 5044, 'mids': 5045, 'promises': 5046, 'gotten': 5047, 'weekdays': 5048, 'nails': 5049, 'bbq': 5050, '6ish': 5051, 'surname': 5052, 'clue': 5053, 'begins': 5054, 'playi': 5055, 'clas': 5056, 'wrks': 5057, 'jot': 5058, 'overtime': 5059, 'nigpun': 5060, 'jurong': 5061, 'amore': 5062, 'convince': 5063, 'witot': 5064, 'hurting': 5065, 'walsall': 5066, 'tue': 5067, 'terry': 5068, 'youi': 5069, 'iraq': 5070, 'afghanistan': 5071, 'stable': 5072, 'honest': 5073, 'traveling': 5074, '400minscall': 5075, 'j5q': 5076, 'cheetos': 5077, 'flurries': 5078, 'silly': 5079, 'isn\\x89û÷t': 5080, 'ilol': 5081, 'personally': 5082, 'wuldnt': 5083, 'ou': 5084, 'retard': 5085, 'proper': 5086, 'tongued': 5087, 'prin': 5088, 'summers': 5089, 'matched': 5090, 'help08714742804': 5091, 'msgsometext': 5092, 'walls': 5093, 'bunkers': 5094, 'sos': 5095, 'l': 5096, '09050003091': 5097, 'c52': 5098, 'ree': 5099, 'burgundy': 5100, 'captaining': 5101, '8lb': 5102, '7oz': 5103, 'brilliantly': 5104, 'ors': 5105, 'stool': 5106, '09050005321': 5107, 'dartboard': 5108, 'condition': 5109, 'doubles': 5110, 'trebles': 5111, 'drunkard': 5112, 'referin': 5113, \"mei's\": 5114, 'liaoso': 5115, 'engalnd': 5116, 'mia': 5117, 'elliot': 5118, 'kissing': 5119, 'tmorrowpls': 5120, 'accomodate': 5121, 'parkin': 5122, 'kent': 5123, 'vale': 5124, 'mw': 5125, 'filled': 5126, 'tuth': 5127, 'hdd': 5128, 'casing': 5129, \"wherre's\": 5130, 'nowuse': 5131, 'web2mobile': 5132, 'txt250com': 5133, 'box139': 5134, 'la32wu': 5135, 'txtx': 5136, 'wikipediacom': 5137, 'lim': 5138, 'mirror': 5139, 'foward': 5140, 'ruin': 5141, 'honeydid': 5142, 'gimmi': 5143, 'gossx': 5144, 'hiding': 5145, 'half8th': 5146, 'baaaaaaaabe': 5147, '08702490080': 5148, 'stairs': 5149, 'phews': 5150, 'wan2': 5151, 'westlife': 5152, 'm8': 5153, '1unbreakable': 5154, '2untamed': 5155, '3unkempt': 5156, '83049': 5157, '50p': 5158, 'settling': 5159, 'happenin': 5160, 'enufcredeit': 5161, 'tocallshall': 5162, 'ileave': 5163, 'okcome': 5164, 'board': 5165, 'overheating': 5166, 'reslove': 5167, 'software': 5168, 'inst': 5169, \"8'o\": 5170, 'bunch': 5171, 'lotto': 5172, 'stated': 5173, 'grocers': 5174, \"fr'ndship\": 5175, 'needle': 5176, 'meetitz': 5177, '4few': 5178, 'conected': 5179, 'nte': 5180, \"wouldn't\": 5181, 'styles': 5182, 'starshine': 5183, 'sips': 5184, 'accommodation': 5185, 'global': 5186, 'wwwphb1com': 5187, 'ph08700435505150p': 5188, 'sheffield': 5189, 'categories': 5190, 'ethnicity': 5191, 'census': 5192, 'transcribing': 5193, 'taxt': 5194, 'massagetie': 5195, 'pos': 5196, 'lool': 5197, 'pleasant': 5198, 'statements': 5199, 'frog': 5200, 'axel': 5201, 'akon': 5202, 'eyed': 5203, 'loo': 5204, 'ed': 5205, \"shade's\": 5206, 'violated': 5207, 'holy': 5208, 'detailed': 5209, 'tonesreply': 5210, 'vill': 5211, 'parco': 5212, 'nb': 5213, 'orc': 5214, 'exorcism': 5215, 'emily': 5216, 'recpt': 5217, 'processed': 5218, 'workout': 5219, 'fats': 5220, '09058094455': 5221, 'checkmate': 5222, 'chess': 5223, 'persian': 5224, 'phrase': 5225, 'shah': 5226, 'maat': 5227, 'chile': 5228, 'subletting': 5229, 'blanked': 5230, 'nowsavamob': 5231, 'manky': 5232, 'scouse': 5233, 'stevelike': 5234, 'travelling': 5235, 'homewot': 5236, 'inmind': 5237, 'recreation': 5238, 'vat': 5239, 'yessura': 5240, 'tvlol': 5241, 'asus': 5242, 'reformat': 5243, 'sink': 5244, 'paces': 5245, 'cage': 5246, 'surrounded': 5247, 'reminding': 5248, 'cuck': 5249, '645pm': 5250, \"that'll\": 5251, 'chk': 5252, 'ms': 5253, 'dict': 5254, 'strt': 5255, 'ltdhelpdesk': 5256, '02085076972': 5257, 'hottest': 5258, 'torture': 5259, 'dom': 5260, '08718723815': 5261, 'squeezed': 5262, 'backa': 5263, 'necklace': 5264, 'token': 5265, 'youthats': 5266, 'likingbe': 5267, 'seeno': 5268, 'thatdont': 5269, 's8': 5270, 'squatting': 5271, 'underdtand': 5272, 'kkyesterday': 5273, 'aaooooright': 5274, 'missin': 5275, 'abstract': 5276, 'fridayhope': 5277, 'alternativehope': 5278, \"term's\": 5279, 'pre': 5280, 'cancelled': 5281, 'sacked': 5282, 'fucks': 5283, '98321561': 5284, 'familiar': 5285, 'ayo': 5286, 'travelled': 5287, 'harder': 5288, 'nbme': 5289, 'folks': 5290, 'didn\\x89û÷t': 5291, 'limping': 5292, 'aa': 5293, 'splash': 5294, 'dearslp': 5295, 'welltake': 5296, 'careswt': 5297, 'dreamsmuah': 5298, 'apnt': 5299, \"'need'\": 5300, \"'comfort'\": 5301, \"'luxury'\": 5302, 'sold': 5303, 'onion': 5304, 'palm': 5305, 'lipo': 5306, 'eightish': 5307, 'carpark': 5308, '09066361921': 5309, \"riley's\": 5310, 'muchxxlove': 5311, 'locaxx': 5312, 'wwwidewcom': 5313, 'skillgame': 5314, '1winaweek': 5315, '150ppermesssubscription': 5316, '09099725823': 5317, 'minmoremobsemspobox45po139wa': 5318, 'å£1million': 5319, 'ppt150x3': 5320, 'box403': 5321, 'w1t1jy': 5322, 'adoring': 5323, 'cl': 5324, \"ìï'll\": 5325, 'rounds': 5326, 'todaybut': 5327, '83039': 5328, '62735': 5329, 'accommodationvouchers': 5330, 'mustprovide': 5331, '15541': 5332, 'evo': 5333, 'ofice': 5334, 'oficegot': 5335, 'duffer': 5336, '515pm': 5337, '09095350301': 5338, 'erotic': 5339, 'ecstacy': 5340, 'nat': 5341, 'onit': 5342, 'pose': 5343, 'comb': 5344, 'dryer': 5345, 'playng': 5346, 'dependents': 5347, 'torrents': 5348, 'particularly': 5349, 'slowing': 5350, 'officewhats': 5351, 'mattermsg': 5352, 'heroes': 5353, 'tips': 5354, \"xin's\": 5355, 'snatch': 5356, 'throws': 5357, 'brothers': 5358, 'assumed': 5359, 'worst': 5360, 'smoothly': 5361, 'challenging': 5362, 'jaykwon': 5363, 'thuglyfe': 5364, 'falconerf': 5365, 'arty': 5366, 'collages': 5367, 'tryin': 5368, 'snap': 5369, 'quizclub': 5370, '80122300p': 5371, 'sprwm': 5372, 'ph08704050406': 5373, 'significant': 5374, 'rajini': 5375, 'custcare08718720201': 5376, 'dollar': 5377, 'resolution': 5378, 'replybe': 5379, 'frankgood': 5380, 'rupaul': 5381, 'recharge': 5382, 'blimey': 5383, 'exercise': 5384, 'downloaded': 5385, 'doit': 5386, 'mymoby': 5387, 'collapsed': 5388, 'punish': 5389, 'victoria': 5390, \"biola's\": 5391, 'fne': 5392, 'ques': 5393, 'suits': 5394, '2marrow': 5395, 'soc': 5396, '22': 5397, 'removed': 5398, 'associate': 5399, 'hooch': 5400, 'toaday': 5401, 'splat': 5402, 'grazed': 5403, 'knees': 5404, 'hillsborough': 5405, 'loans': 5406, 'rats': 5407, 'themes': 5408, 'flavour': 5409, 'install': 5410, 'browse': 5411, 'artists': 5412, 'wwwldewcom1win150ppmx3age16subscription': 5413, 'recieve': 5414, '24hrs': 5415, 'teletext': 5416, 'yellow': 5417, 'misscall': 5418, 'frndz': 5419, '6missed': 5420, '07753741225': 5421, '08715203677': 5422, '42478': 5423, 'command': 5424, 'ceri': 5425, 'rebel': 5426, 'dreamz': 5427, 'buddy': 5428, 'blokes': 5429, 'drama': 5430, 'plsi': 5431, 'struggling': 5432, 'strange': 5433, 'placeno': 5434, 'ego': 5435, \"'if\": 5436, \"invited'\": 5437, 'necessity': 5438, 'gowait': 5439, 'reppurcussions': 5440, '945': 5441, 'ashwini': 5442, 'hen': 5443, 'gauge': 5444, \"patty's\": 5445, 'meg': 5446, '4goten': 5447, \"me'\": 5448, 'scammers': 5449, 'smartthough': 5450, 'apology': 5451, 'bffs': 5452, 'carly': 5453, 'lips': 5454, 'wwwldewcom': 5455, 'win150ppmx3age16': 5456, 'modelsony': 5457, 'ericson': 5458, 'der': 5459, 'luks': 5460, 'modl': 5461, 'prone': 5462, 'atleast': 5463, 'shakespeare': 5464, 'vai': 5465, '7cfca1a': 5466, '08712402779': 5467, 'grasp': 5468, 'alter': 5469, 'keen': 5470, 'ambrithmaduraimet': 5471, 'dha': 5472, 'marrgeremembr': 5473, 'charles': 5474, 'excited': 5475, 'rebooting': 5476, 'coughing': 5477, 'abroad': 5478, 'xxsp': 5479, 'visionsmscom': 5480, 'stopcost': 5481, '08712400603': 5482, 'everybody': 5483, 'recognises': 5484, 'hugging': 5485, 'downs': 5486, 'fletcher': 5487, '09058094507': 5488, 'changing': 5489, 'diapers': 5490, 'owed': 5491, 'entertain': 5492, 'restock': 5493, 'sbut': 5494, 'luck2': 5495, 'catches': 5496, 'get4an18th': 5497, 'fetching': 5498, 'arrow': 5499, 'sterm': 5500, 'resolved': 5501, 'restrict': 5502, \"ashley's\": 5503, 'invitation': 5504, 'cali': 5505, \"bloke's\": 5506, 'weddin': 5507, 'thanks2': 5508, 'vday': 5509, 'parachute': 5510, 'netflix': 5511, 'jog': 5512, 'cutest': 5513, '08714712412': 5514, 'chief': 5515, 'agent': 5516, 'goodies': 5517, 'mat': 5518, \"derek's\": 5519, 'hides': 5520, 'secrets': 5521, 'n8': 5522, 'being': 5523, 'wknd': 5524, 'resuming': 5525, 'reapply': 5526, 'uworld': 5527, 'qbank': 5528, 'assessment': 5529, 'knowwait': 5530, 'bathroom': 5531, 'program': 5532, 'slacking': 5533, '08712101358': 5534, 'bears': 5535, 'nick': 5536, 'types': 5537, 'wining': 5538, '946': 5539, '69200': 5540, 'chrgd50p': 5541, '2exit': 5542, '07808': 5543, 'xxxxxx': 5544, '08719899217': 5545, '41685': 5546, '07': 5547, 'ohas': 5548, 'quiet': 5549, 'beth': 5550, 'aunts': 5551, 'charlie': 5552, 'helen': 5553, 'famous': 5554, \"'anything'\": 5555, 'unconditionally': 5556, 'temper': 5557, \"'married'\": 5558, 'wrking': 5559, 'ing': 5560, 'yesgauti': 5561, 'sehwag': 5562, 'ball': 5563, 'lotwill': 5564, 'spin': 5565, 'ecstasy': 5566, 'laready': 5567, 'trends': 5568, 'pros': 5569, 'cons': 5570, 'description': 5571, 'nuclear': 5572, 'fusion': 5573, 'iter': 5574, 'jet': 5575, 'perumbavoor': 5576, 'bare': 5577, 'orh': 5578, 'paypal': 5579, 'voila': 5580, 'pockets': 5581, 'r836': 5582, '09065069154': 5583, 'ooooooh': 5584, 'yoville': 5585, 'audiitions': 5586, 'relocate': 5587, 'flyng': 5588, 'aries': 5589, 'dealing': 5590, 'vpod': 5591, 'popping': 5592, 'ibuprofens': 5593, 'corporation': 5594, 'ajith': 5595, 'prasad': 5596, 'engagement': 5597, 'fixd': 5598, 'bthmm': 5599, 'njan': 5600, 'vilikkamt': 5601, 'sudn': 5602, \"'its\": 5603, 'waythis': 5604, 'uniquei': 5605, 'mylife': 5606, \"taylor's\": 5607, 'management': 5608, 'x29': 5609, '450': 5610, '09065989180': 5611, 'text82228': 5612, 'wwwtxt82228com': 5613, 'infotxt82228couk': 5614, 'nofew': 5615, 'beforewent': 5616, 'blankets': 5617, 'misplaced': 5618, '8000930705': 5619, \"fuck's\": 5620, 'tallahassee': 5621, 'hopeing': 5622, 'wasn\\x89û÷t': 5623, 'sisters': 5624, 'helens': 5625, 'princes': 5626, 'gastroenteritis': 5627, 'replace': 5628, 'reduce': 5629, 'limiting': 5630, 'illness': 5631, 'chinatown': 5632, 'porridge': 5633, 'claypot': 5634, 'yam': 5635, 'fishhead': 5636, 'beehoon': 5637, 'tau': 5638, 'piah': 5639, 'impatient': 5640, 'belligerent': 5641, 'candont': 5642, 'eldest': 5643, 'a30': 5644, 'divert': 5645, 'wadebridgei': 5646, 'varaya': 5647, 'elaya': 5648, 'factory': 5649, 'nitros': 5650, 'leg': 5651, 'musta': 5652, 'overdid': 5653, 'kanji': 5654, 'upgrdcentre': 5655, '9153': 5656, 'kkgoodstudy': 5657, 'oursso': 5658, 'youany': 5659, 'conform': 5660, 'such': 5661, 'oooooh': 5662, 'elaborating': 5663, 'safety': 5664, 'aspects': 5665, 'recdthirtyeight': 5666, 'shifad': 5667, 'raised': 5668, 'complaint': 5669, 'lit': 5670, 'huge': 5671, 'marking': 5672, 'belongs': 5673, 'herwho': 5674, 'fated': 5675, 'shoranur': 5676, 'fuelled': 5677, 'concern': 5678, 'prior': 5679, 'grief': 5680, 'against': 5681, '3000': 5682, 'split': 5683, 'suggestion': 5684, 'lands': 5685, 'helps': 5686, 'forgt': 5687, 'oyster': 5688, 'sashimi': 5689, 'rumbling': 5690, '09058095201': 5691, 'matric': 5692, 'sonathaya': 5693, 'soladha': 5694, 'accordin': 5695, 'beerage': 5696, 'tacos': 5697, '08712400200': 5698, 'byatch': 5699, 'whassup': 5700, 'progress': 5701, '0796xxxxxx': 5702, 'day2': 5703, 'prizeawaiting': 5704, 'eight': 5705, 'someday': 5706, 'gek1510': 5707, 'lasagna': 5708, 'hmmmy': 5709, 'lindsay': 5710, 'bars': 5711, 'heron': 5712, 'waliking': 5713, 'thnx': 5714, 'nowadayslot': 5715, 'showroomscity': 5716, 'shaping': 5717, 'cps': 5718, 'outages': 5719, 'conserve': 5720, 'puppy': 5721, 'noise': 5722, 'citylink': 5723, 'andrews': 5724, 'ouch': 5725, 'computational': 5726, 'salmon': 5727, 'brother\\x89û÷s': 5728, 'scraped': 5729, 'barrel': 5730, 'misfits': 5731, 'idc': 5732, 'weaseling': 5733, 'okors': 5734, 'cherish': 5735, 'mojibiola': 5736, '09061790126': 5737, 'drivby': 5738, '0quit': 5739, 'edrunk': 5740, 'iff': 5741, 'pthis': 5742, 'senrd': 5743, 'dnot': 5744, 'dancce': 5745, 'drum': 5746, 'basqihave': 5747, '2nhite': 5748, 'ros': 5749, 'xxxxxxx': 5750, '09050000928': 5751, 'shoul': 5752, 'dub': 5753, 'je': 5754, 'z': 5755, 'rubber': 5756, 'bluray': 5757, 'ummmawill': 5758, 'inour': 5759, 'mokka': 5760, 'jacket': 5761, 'multis': 5762, 'degrees': 5763, 'grinder': 5764, 'forfeit': 5765, 'hang': 5766, 'starving': 5767, '83110': 5768, 'operate': 5769, 'buyers': 5770, 'passion': 5771, '09099726481': 5772, 'dena': 5773, 'surrender': 5774, 'appy': 5775, 'fizz': 5776, 'contains': 5777, 'denying': 5778, '1childish': 5779, '2naughty': 5780, '3sentiment': 5781, '4rowdy': 5782, '5ful': 5783, 'attitude': 5784, '6romantic': 5785, '7shy': 5786, '8attractive': 5787, '9funny': 5788, 'swan': 5789, 'danalla': 5790, 'ohi': 5791, 'hahatake': 5792, \"gumby's\": 5793, 'offering': 5794, 'panties': 5795, 'disagreeable': 5796, 'karnan': 5797, '6pm': 5798, 'costume': 5799, 'complaining': 5800, 'stretch': 5801, '4ui': 5802, 'intend': 5803, 'iwas': 5804, 'marinethatåõs': 5805, 'itried2tell': 5806, 'urmomi': 5807, 'careabout': 5808, 'screamed': 5809, 'owned': 5810, 'possessive': 5811, 'imp': 5812, 'hittng': 5813, 'reflex': 5814, 'prevent': 5815, 'dehydration': 5816, 'fluids': 5817, 'donno': 5818, 'scorable': 5819, 'spiffing': 5820, 'workage': 5821, 'openings': 5822, 'upcharge': 5823, 'predicting': 5824, 'accumulation': 5825, \"'maangalyam\": 5826, \"alaipayuthe'\": 5827, 'splashmobile': 5828, 'subscrition': 5829, '087123002209am': 5830, 'invoices': 5831, 'headstart': 5832, '230ish': 5833, 'rummer': 5834, 'grr': 5835, 'prescription': 5836, 'pharmacy': 5837, 'lubly': 5838, 'exp': 5839, '30apr': 5840, '169': 5841, '6031': 5842, 'piece': 5843, 'watched': 5844, 'sux': 5845, 'raiden': 5846, 'portal': 5847, 'easily': 5848, '09058094583': 5849, 'testing': 5850, 'sayy': 5851, '09111032124': 5852, 'pobox12n146tf150p': 5853, 'sao': 5854, 'dahe': 5855, 'daalways': 5856, 'thisdon': 5857, 'messagepandy': 5858, 'enjoyin': 5859, 'yourjob': 5860, 'hunnyhope': 5861, 'oktake': 5862, 'iåõllspeak': 5863, 'soonlots': 5864, '07808726822': 5865, '9758': 5866, 'comedycant': 5867, 'learned': 5868, 'fake': 5869, 'officestill': 5870, 'formsdon': 5871, 'dining': 5872, 'experiencehttp': 5873, 'wwwvouch4mecom': 5874, 'etlp': 5875, 'diningasp': 5876, 'hmmmkbut': 5877, 'massages': 5878, 'position': 5879, 'compass': 5880, 'loose': 5881, 'worldgnun': 5882, 'way2smscom': 5883, 'tscs08714740323': 5884, '1winawk': 5885, 'å£150perweeksub': 5886, 'needa': 5887, 'surya': 5888, 'pokkiri': 5889, 'mary': 5890, 'flirting': 5891, 'paperwork': 5892, 'nervous': 5893, 'fired': 5894, '448712404000': 5895, '08712404000': 5896, 'ithis': 5897, 'wwwasjesuscom': 5898, 'wrote': 5899, 'brighten': 5900, 'monkey': 5901, 'asshole': 5902, 'heehee': 5903, 'gopalettan': 5904, 'participate': 5905, 'admin': 5906, '61610': 5907, 'help08712400602450p': 5908, 'provided': 5909, 'tones2youcouk': 5910, 'receipts\\x89ûówell': 5911, 'what\\x89û÷s': 5912, 'barring': 5913, 'sudden': 5914, 'influx': 5915, 'hustle': 5916, 'forth': 5917, 'harlem': 5918, 'doggy': 5919, 'cmon': 5920, 'replies': 5921, 'cutting': 5922, 'samantha': 5923, 'guitar': 5924, 'impress': 5925, 'doug': 5926, 'realizes': 5927, 'casualty': 5928, 'stuff42moro': 5929, 'includes': 5930, 'shhhhh': 5931, '083': 5932, '6089': 5933, 'backwards': 5934, 'hire': 5935, 'hitman': 5936, 'gran': 5937, 'onlyfound': 5938, 'afew': 5939, 'agocusoon': 5940, 'honi': 5941, 'hadya': 5942, 'sapna': 5943, 'manege': 5944, \"y'day\": 5945, 'hogidhechinnu': 5946, 'swalpa': 5947, 'agidhane': 5948, 'epi': 5949, 'doesnåõt': 5950, '09065394973': 5951, 'youwhen': 5952, 'plum': 5953, 'smacks': 5954, 'oi': 5955, 'printer': 5956, 'groovy': 5957, 'groovying': 5958, 'blessget': 5959, '32': 5960, 'dhoni': 5961, 'titleso': 5962, 'hlday': 5963, 'camp': 5964, 'amrca': 5965, 'serena': 5966, 'hmph': 5967, 'baller': 5968, 'sometme': 5969, 'converted': 5970, 'parts': 5971, '4qf2': 5972, 'lambu': 5973, 'ji': 5974, 'cometil': 5975, 'batchlor': 5976, 'spreadsheet': 5977, 'determine': 5978, 'entire': 5979, 'salam': 5980, 'wahleykkumsharing': 5981, 'newsby': 5982, 'grace': 5983, 'tayseertissco': 5984, 'joinedhope': 5985, 'fineinshah': 5986, 'allahmeet': 5987, 'sometimerakheshvisitor': 5988, 'nationwide': 5989, 'newport': 5990, 'lodging': 5991, 'mumhas': 5992, 'beendropping': 5993, 'theplace': 5994, 'adress': 5995, 'prix': 5996, 'missions': 5997, 'arabian': 5998, 'steed': 5999, \"mei'm\": 6000, 'although': 6001, 'baig': 6002, 'watches': 6003, 'mondaynxt': 6004, 'completing': 6005, 'stoners': 6006, 'å£1000call': 6007, '09071512432': 6008, '300603tcsbcm4235wc1n3xxcallcost150ppmmobilesvary': 6009, 'hcl': 6010, 'requires': 6011, 'freshers': 6012, 'processexcellent': 6013, 'neededsalary': 6014, 'mssuman': 6015, 'telephonic': 6016, 'joys': 6017, 'lifeis': 6018, 'daywith': 6019, 'thoughts': 6020, 'somewheresomeone': 6021, 'cares': 6022, 'tosend': 6023, 'greeting': 6024, 'earn': 6025, 'patty': 6026, 'haul': 6027, 'officer': 6028, 'asa': 6029, '0871277810710p': 6030, 'farting': 6031, 'i\\x89û÷ve': 6032, 'salt': 6033, 'rub': 6034, 'wounds': 6035, 'few': 6036, 'payed': 6037, 'suganya': 6038, 'compliments': 6039, 'proze': 6040, 'norcorp': 6041, 'ltdå£150': 6042, 'dough': 6043, 'agree': 6044, 'identification': 6045, 'prestige': 6046, '50s': 6047, 'alot': 6048, 'familymay': 6049, 'stability': 6050, 'tranquility': 6051, 'vibrant': 6052, 'colourful': 6053, 'tallent': 6054, 'wasting': 6055, 'vco': 6056, 'cloud': 6057, 'sacrifice': 6058, 'process': 6059, 'audrie': 6060, 'autocorrect': 6061, 'multiply': 6062, 'independently': 6063, 'showed': 6064, 'cosign': 6065, 'juliana': 6066, 'stu': 6067, '2im': 6068, 'truble': 6069, 'evone': 6070, 'hates': 6071, 'av': 6072, 'unconvinced': 6073, 'elaborate': 6074, 'willpower': 6075, \"aunty's\": 6076, '07801543489': 6077, 'latests': 6078, 'wordcollect': 6079, 'no83355': 6080, 'llc': 6081, 'ny': 6082, 'usa': 6083, 'msgrcvd18': 6084, 'linear': 6085, 'algebra': 6086, 'dying': 6087, 'vitamin': 6088, 'nasty': 6089, 'filthyguys': 6090, '4msgs': 6091, \"1's\": 6092, 'wtc': 6093, 'weiyi': 6094, 'shanilrakhesh': 6095, 'herethanksi': 6096, 'exchanged': 6097, 'uncut': 6098, 'diamond': 6099, 'stuffleaving': 6100, 'dino': 6101, \"1000's\": 6102, 'virgins': 6103, 'sexual': 6104, 'theirs': 6105, '69911': 6106, 'å£150p': 6107, 'puts': 6108, 'perspective': 6109, 'pink': 6110, 'panther': 6111, 'sugababes': 6112, 'zebra': 6113, 'animation': 6114, 'badass': 6115, 'hoody': 6116, 'hii': 6117, 'maggi': 6118, 'mee': 6119, \"textin'\": 6120, '0871277810810': 6121, 'pants': 6122, 'madam': 6123, 'slob': 6124, \"cali's\": 6125, 'complexities': 6126, 'freely': 6127, 'taxes': 6128, 'outrageous': 6129, 'auntie': 6130, 'huai': 6131, 'nigh': 6132, 'mising': 6133, 'survey': 6134, '80160': 6135, 'wwwtxt43com': 6136, \"that'd\": 6137, 'scenario': 6138, 'studies': 6139, 'anyones': 6140, 'qet': 6141, 'yupz': 6142, 'than': 6143, 'satanic': 6144, 'imposter': 6145, 'meneed': 6146, 'priceso': 6147, 'itmay': 6148, 'destiny': 6149, 'teresa': 6150, 'dec': 6151, \"you'ld\": 6152, 'bam': 6153, 'aid': 6154, 'usmle': 6155, 'sickness': 6156, 'calculation': 6157, 'units': 6158, 'accent': 6159, '4years': 6160, 'dental': 6161, 'nmde': 6162, 'woodland': 6163, 'avenue': 6164, 'parish': 6165, 'magazine': 6166, 'oxygen': 6167, 'resort': 6168, 'roller': 6169, 'yeshe': 6170, 'greatbhaji': 6171, 'cricketer': 6172, 'sachin': 6173, 'worldvery': 6174, 'young': 6175, 'checkup': 6176, 'smear': 6177, 'whore': 6178, 'shant': 6179, 'jia': 6180, 'qi': 6181, 'suddenly': 6182, '08452810071': 6183, 'webadres': 6184, 'geting': 6185, 'salary': 6186, '09061701851': 6187, 'k61': 6188, '12hours': 6189, 'yesmum': 6190, 'barred': 6191, 'lifethis': 6192, 'twat': 6193, 'dungerees': 6194, 'decking': 6195, 'punch': 6196, 'the4th': 6197, 'october': 6198, 'stubborn': 6199, 'sucker': 6200, 'suckers': 6201, 'salad': 6202, 'desert': 6203, 'beers': 6204, 'spoons': 6205, 'macha': 6206, 'upseti': 6207, 'mindsetbelieve': 6208, 'uslet': 6209, 'againcall': 6210, 'shorts': 6211, '077xxx': 6212, '09066362206': 6213, 'tomorro': 6214, '3mobile': 6215, 'chatlines': 6216, 'inclu': 6217, 'servs': 6218, 'l8er': 6219, 'bailiff': 6220, 'answerin': 6221, '1230': 6222, 'okday': 6223, 'muhommad': 6224, 'penny': 6225, 'deserve': 6226, 'lined': 6227, 'heat': 6228, 'applyed': 6229, 'eachother': 6230, 'tonght': 6231, '08719181503': 6232, 'noncomittal': 6233, 'sts': 6234, 'waitshould': 6235, 'timings': 6236, '8am': 6237, \"hubby's\": 6238, '89938': 6239, 'strings': 6240, 'å£150ea': 6241, 'otbox': 6242, '731': 6243, 'la1': 6244, '7ws': 6245, 'playin': 6246, 'opps': 6247, \"tt's\": 6248, 'lingo': 6249, '5iåõm': 6250, 'dreading': 6251, 'thou': 6252, 'mina': 6253, 'elephant': 6254, 'shove': 6255, 'um': 6256, 'å£s': 6257, 'orno': 6258, 'jeremiah': 6259, 'deartake': 6260, 'singing': 6261, '09066358361': 6262, 'y87': 6263, 'virtual': 6264, 'weightloss': 6265, 'webpage': 6266, 'fffff': 6267, 'fixes': 6268, 'spelling': 6269, '087018728737': 6270, 'toppoly': 6271, 'tune': 6272, 'pole': 6273, 'guild': 6274, 'thinked': 6275, 'clover': 6276, \"ryan's\": 6277, 'impressively': 6278, 'sensible': 6279, 'slightly': 6280, 'disastrous': 6281, 'darlings': 6282, 'spell': 6283, '2yrs': 6284, 'gained': 6285, 'pressure': 6286, 'limits': 6287, '07732584351': 6288, 'rodger': 6289, 'åè10': 6290, 'evey': 6291, 'electricity': 6292, 'womdarfull': 6293, 'inconvenient': 6294, 'chances': 6295, '20000': 6296, 'csh11': 6297, '6days': 6298, 'tsandcs': 6299, 'positions': 6300, 'kama': 6301, 'sutra': 6302, 'hme': 6303, 'northampton': 6304, 'adewale': 6305, 'egbon': 6306, 'explicitly': 6307, 'nora': 6308, 'goodmate': 6309, 'asusual1': 6310, 'cheered': 6311, 'franyxxxxx': 6312, 'b4u': 6313, '27': 6314, 'marsms': 6315, 'wwwb4utelecom': 6316, '08717168528': 6317, \"ron's\": 6318, 'approaching': 6319, 'sankranti': 6320, 'republic': 6321, 'shivratri': 6322, 'ugadi': 6323, 'fools': 6324, 'independence': 6325, 'friendshipmotherfatherteacherschildrens': 6326, 'festival': 6327, 'dasara': 6328, 'mornings': 6329, 'afternoons': 6330, 'rememberi': 6331, \"theseyour's\": 6332, 'presents': 6333, 'nicky': 6334, 'intention': 6335, 'visitors': 6336, 'waaaat': 6337, 'lololo': 6338, \"armand's\": 6339, 'rodds1': 6340, 'aberdeen': 6341, 'united': 6342, 'kingdom': 6343, 'img': 6344, 'icmb3cktz8r7': 6345, 'breeze': 6346, 'fresh': 6347, 'twittering': 6348, 'cedar': 6349, 'aeronautics': 6350, 'professors': 6351, 'calld': 6352, 'aeroplane': 6353, 'dey': 6354, 'hurried': 6355, 'bawling': 6356, 'failure': 6357, 'failing': 6358, '80488': 6359, 'frequently': 6360, 'baaaaabe': 6361, 'misss': 6362, 'youuuuu': 6363, 'nobut': 6364, 'possibility': 6365, 'spun': 6366, 'wrld': 6367, 'gota': 6368, '0anetworks': 6369, 'allow': 6370, 'companies': 6371, 'responsible': 6372, 'suppliers': 6373, 'reunion': 6374, 'bcum': 6375, \"weekend's\": 6376, '09050000332': 6377, 'portege': 6378, 'm100': 6379, '0789xxxxxxx': 6380, 'pocay': 6381, 'wocay': 6382, '2morrowxxxx': 6383, 'brison': 6384, 'dearme': 6385, 'cherthalain': 6386, 'bfore': 6387, 'starti': 6388, 'accordinglyor': 6389, 'comingtmorow': 6390, 'engaged': 6391, 'teju': 6392, 'recycling': 6393, 'earning': 6394, 'freezing': 6395, 'heroi': 6396, 'apt': 6397, 'opportunitypls': 6398, 'ltemailgt': 6399, 'sang': 6400, \"'uptown\": 6401, \"girl'\": 6402, \"80's\": 6403, 'compensation': 6404, 'ideas': 6405, 'memory': 6406, 'spirit': 6407, 'ph': 6408, 'arpraveesh': 6409, 'delicious': 6410, 'chechi': 6411, 'meive': 6412, 'hardly': 6413, 'gotany': 6414, 'rugby': 6415, 'sleeps': 6416, 'november': 6417, '09061104276': 6418, 'wwwsmsconet': 6419, 'costå£375max': 6420, 'gloucesterroad': 6421, 'uup': 6422, '330': 6423, '1120': 6424, '1205': 6425, '44': 6426, '7732584351': 6427, 'thin': 6428, 'faultal': 6429, 'arguments': 6430, 'faultfed': 6431, 'himso': 6432, 'thanxxx': 6433, 'boltblue': 6434, 'poly3': 6435, 'slide': 6436, 'jamz': 6437, 'toxic': 6438, 'path': 6439, 'appear': 6440, 'paths': 6441, 'borderline': 6442, '74355': 6443, 'toldshe': 6444, 'lucyxx': 6445, 'tp': 6446, 'gwr': 6447, 'correctly': 6448, 'affidavit': 6449, 'twiggs': 6450, 'courtroom': 6451, 'becz': 6452, 'undrstndng': 6453, 'avoids': 6454, 'suffer': 6455, 'erutupalam': 6456, 'thandiyachu': 6457, 'newest': 6458, '\\x89ûïharry': 6459, 'potter': 6460, 'phoenix': 6461, 'harry': 6462, 'readers': 6463, 'dorothykiefercom': 6464, 'goin2bed': 6465, 'only1more': 6466, 'maaaan': 6467, 'resizing': 6468, 'complacent': 6469, 'greatness': 6470, '2stoptx': 6471, 'setting': 6472, 'fassyole': 6473, 'blacko': 6474, 'londn': 6475, 'poyyarikaturkolathupalayamunjalur': 6476, 'posterode': 6477, 'theoretically': 6478, 'ripped': 6479, 'wwwclubmobycom': 6480, '08717509990': 6481, \"how're\": 6482, 'throwing': 6483, 'africa': 6484, 'avin': 6485, 'infact': 6486, 'iåõd': 6487, 'mouse': 6488, 'desk': 6489, 'aptitude': 6490, 'videos': 6491, 'smsshsexnetun': 6492, 'fgkslpopw': 6493, 'fgkslpo': 6494, '09090204448': 6495, 'minded': 6496, 'aå£150': 6497, 'minapn': 6498, 'ls278bb': 6499, 'ignoring': 6500, 'friendships': 6501, 'grow': 6502, 'pleasured': 6503, 'downon': 6504, 'theacusations': 6505, 'itxt': 6506, 'iwana': 6507, 'wotu': 6508, 'thew': 6509, 'haventcn': 6510, 'agesring': 6511, 'nething': 6512, 'satlove': 6513, 'recharged': 6514, 'chatim': 6515, 'w8in': 6516, '4utxt': 6517, '2price': 6518, 'mins100txt': 6519, \"b'tooth\": 6520, 'd3wv': 6521, 'fatty': 6522, 'kkwhy': 6523, 'appeal': 6524, 'thriller': 6525, 'director': 6526, 'ssindia': 6527, 'african': 6528, 'soil': 6529, \"unicef's\": 6530, 'asian': 6531, 'tsunami': 6532, 'disaster': 6533, 'fund': 6534, '864233': 6535, 'regret': 6536, 'wewa': 6537, '130': 6538, 'iriver': 6539, '255': 6540, '128': 6541, 'parties': 6542, \"party's\": 6543, 'contribute': 6544, 'greatly': 6545, '4882': 6546, '09064019014': 6547, 'importantly': 6548, 'neft': 6549, 'credited': 6550, 'beneficiary': 6551, 'diesel': 6552, 'sonot': 6553, 'conveying': 6554, 'feelingwavering': 6555, 'individualtime': 6556, 'heal': 6557, 'flying': 6558, 'incomm': 6559, 'haunt': 6560, 'promoting': 6561, 'hex': 6562, 'younger': 6563, 'chikkuk': 6564, 'court': 6565, 'forwarding': 6566, '820554ad0a1705572711first': 6567, 'trueåác': 6568, 'ringtoneåá': 6569, 'lolnice': 6570, 'opposite': 6571, 'repairs': 6572, 'ovulation': 6573, 'followin': 6574, '850': 6575, '650': 6576, 'nike': 6577, 'coimbatore': 6578, 'olave': 6579, 'mandara': 6580, 'trishul': 6581, 'attending': 6582, 'financial': 6583, 'problemi': 6584, 't91': 6585, '09057039994': 6586, '09061702893': 6587, 'stuffed': 6588, 'writhing': 6589, '2mro': 6590, 'nosh': 6591, \"dad's\": 6592, 'audrey': 6593, 'faggot': 6594, 'antelope': 6595, 'toplay': 6596, 'fieldof': 6597, 'selfindependence': 6598, 'contention': 6599, 'growrandom': 6600, 'disappointment': 6601, 'craziest': 6602, 'biola': 6603, 'tee': 6604, 'cheery': 6605, 'handsome': 6606, 'finding': 6607, 'yagoing': 6608, '1526': 6609, '54': 6610, 'resubmit': 6611, 'expiry': 6612, 'x2': 6613, '80488biz': 6614, 'bridgwater': 6615, 'banter': 6616, 'nannys': 6617, 'stereo': 6618, 'mi': 6619, 'visa': 6620, 'gucci': 6621, 'canåõt': 6622, 'isnåõt': 6623, 'shite': 6624, 'kip': 6625, 'doubt': 6626, 'sleepwellamptake': 6627, \"treatin'\": 6628, 'treacle': 6629, '2006': 6630, 'fifa': 6631, 'annoncement': 6632, '07046744435': 6633, 'limited': 6634, 'sez': 6635, 'arab': 6636, 'evry1': 6637, 'eshxxxxxxxxxxx': 6638, 'misbehaved': 6639, 'werethe': 6640, 'monkeespeople': 6641, 'monkeyaround': 6642, 'howdy': 6643, 'tim': 6644, 'bollox': 6645, 'tol': 6646, 'lateso': 6647, 'morningtake': 6648, 'dreamsu': 6649, 'meummifyingbye': 6650, '85222': 6651, 'nowtcs': 6652, 'winnersclub': 6653, '84': 6654, 'gbp150': 6655, 'fink': 6656, '09099726553': 6657, 'promised': 6658, 'carlie': 6659, 'minmobsmore': 6660, 'lkpobox177hp51fl': 6661, 'repent': 6662, 'beads': 6663, \"basket's\": 6664, 'alto18couk': 6665, 'wave': 6666, 'waveaspo': 6667, '44345': 6668, 'jos': 6669, 'gpu': 6670, 'nohe': 6671, 'weirdy': 6672, 'brownies': 6673, 'youphone': 6674, 'athome': 6675, 'youwanna': 6676, 'southern': 6677, 'didntgive': 6678, 'bellearlier': 6679, 'sporadically': 6680, 'garments': 6681, 'horse': 6682, 'chicken': 6683, 'breather': 6684, 'granted': 6685, 'fulfil': 6686, 'blessing': 6687, 'timi': 6688, 'deam': 6689, 'dats': 6690, 'dogg': 6691, 'nimbomsons': 6692, '120': 6693, 'plural': 6694, 'noun': 6695, 'sweater': 6696, 'mango': 6697, 'smoked': 6698, 'shell': 6699, 'unconsciously': 6700, 'unhappy': 6701, 'lingerie': 6702, 'wwwbridalpetticoatdreamscouk': 6703, 'weddingfriend': 6704, 'acknowledgement': 6705, 'astoundingly': 6706, 'tactless': 6707, 'oath': 6708, 'watchin': 6709, 'kaila': 6710, 'romcapspam': 6711, 'presence': 6712, 'outgoing': 6713, 'breath': 6714, 'hypertension': 6715, 'apply2': 6716, 'urination': 6717, 'memorable': 6718, 'slaaaaave': 6719, 'summon': 6720, 'nver': 6721, 'cozsomtimes': 6722, 'hearts': 6723, 'ela': 6724, 'kanoil': 6725, 'swimsuit': 6726, 'newspapers': 6727, 'smashed': 6728, 'dent': 6729, 'scores': 6730, 'yards': 6731, 'bergkamp': 6732, 'margin': 6733, '78': 6734, 'minstand': 6735, 'enna': 6736, 'kalaachutaarama': 6737, \"all's\": 6738, 'evry': 6739, 'emotion': 6740, 'wordsevry': 6741, 'prayrs': 6742, 'smiled': 6743, 'uothrwise': 6744, 'uso': 6745, 'deduct': 6746, 'prometazine': 6747, 'syrup': 6748, '5mls': 6749, 'feed': 6750, 'sfirst': 6751, 'timedhoni': 6752, 'rocks': 6753, 'mushy': 6754, 'embarrassed': 6755, 'fireplace': 6756, 'icon': 6757, 'sry': 6758, 'dajst': 6759, 'nosy': 6760, 'reacting': 6761, 'freaked': 6762, '08718738002': 6763, '48922': 6764, 'snickering': 6765, 'chords': 6766, 'mention': 6767, 'served': 6768, '4the': 6769, \"mine's\": 6770, 'wee': 6771, 'cultures': 6772, \"valentine's\": 6773, '69101': 6774, 'wwwrtfsphostingcom': 6775, 'asthma': 6776, 'attack': 6777, 'loti': 6778, 'korean': 6779, \"leona's\": 6780, 'ringtonefrom': 6781, '1b6a5ecef91ff9': 6782, '37819first': 6783, 'true180430': 6784, 'jul': 6785, '730ish': 6786, 'everyso': 6787, 'panicks': 6788, 'kane': 6789, 'shud': 6790, 'spacebucks': 6791, 'honestly': 6792, 'promptly': 6793, 'burnt': 6794, 'meat': 6795, 'supreme': 6796, 'sparkling': 6797, 'breaks': 6798, '45': 6799, '0121': 6800, '2025050': 6801, 'wwwshortbreaksorguk': 6802, 'pride': 6803, 'grownup': 6804, 'messy': 6805, 'mandan': 6806, 'genuine': 6807, 'infowww100percent': 6808, 'realcom': 6809, 'bruv': 6810, 'ignorant': 6811, 'latebut': 6812, 'kwish': 6813, 'versus': 6814, 'unconscious': 6815, 'adults': 6816, 'abnormally': 6817, '09066364349': 6818, 'box434sk38wp150ppm18': 6819, 'attracts': 6820, 'shanghai': 6821, 'cya': 6822, 'ywhere': 6823, 'dogbreath': 6824, 'sounding': 6825, 'kyou': 6826, 'reception': 6827, 'gently': 6828, 'elections': 6829, 'shouldn\\x89û÷t': 6830, 'ahthe': 6831, 'tomorrowcall': 6832, '67441233': 6833, 'ireneere': 6834, 'bus822656166382': 6835, 'cresubi': 6836, 'tech': 6837, 'park6ph': 6838, '5wkg': 6839, 'daysì¬n': 6840, 'billy': 6841, 'bagi': 6842, 'gokila': 6843, '08717895698': 6844, 'mobstorequiz10ppm': 6845, 'emigrated': 6846, 'hopeful': 6847, 'gifts': 6848, 'cliff': 6849, 'tip': 6850, 'unnecessarily': 6851, 'hostile': 6852, 'sno': 6853, 'unintentionally': 6854, 'bhaskar': 6855, 'entirely': 6856, '087104711148': 6857, 'lastest': 6858, 'stereophonics': 6859, 'marley': 6860, 'dizzee': 6861, 'racal': 6862, 'libertines': 6863, 'strokes': 6864, 'nookii': 6865, 'bookmark': 6866, '82468': 6867, 'packing': 6868, 'offline': 6869, \"anjola's\": 6870, 'unclaimed': 6871, '09066368327': 6872, 'closingdate04': 6873, 'claimcode': 6874, 'm39m51': 6875, 'å£150pmmorefrommobile2bremoved': 6876, 'mobypobox734ls27yf': 6877, 'ahold': 6878, 'crying': 6879, 'imprtant': 6880, 'tomorw': 6881, '08712402902': 6882, 'gibbs': 6883, 'unsoldmike': 6884, 'hussey': 6885, 'atten': 6886, 'inperialmusic': 6887, 'listening2the': 6888, 'byåóleafcutter': 6889, 'johnåó': 6890, 'insects': 6891, 'molestedsomeone': 6892, 'plumbingremixed': 6893, 'evil': 6894, 'acid': 6895, 'goggles': 6896, 'mc': 6897, '730pm': 6898, \"redi'm\": 6899, 'blueu': 6900, 'purpleu': 6901, 'pinku': 6902, 'orangei': 6903, 'lyk': 6904, 'greeni': 6905, 'yelowi': 6906, \"blacki'm\": 6907, 'browni': 6908, 'subscribers': 6909, 'gb': 6910, 'length': 6911, 'distract': 6912, 'resend': 6913, 'nearer': 6914, 'srsly': 6915, 'yi': 6916, \"yetty's\": 6917, 'noisy': 6918, 'peteynoiåõm': 6919, 'alritehave': 6920, 'nit': 6921, 'js': 6922, 'amx': 6923, 'lunchyou': 6924, 'onlinewhy': 6925, 'stitch': 6926, 'trouser': 6927, 'firesare': 6928, 'virgin': 6929, 'sumfing': 6930, 'accidant': 6931, 'tookplace': 6932, 'ghodbandar': 6933, 'moves': 6934, 'slovely': 6935, 'necessary': 6936, 'wasted': 6937, 'applebees': 6938, 'thinkthis': 6939, 'dangerous': 6940, 'nooooooo': 6941, 'cable': 6942, 'outage': 6943, 'honeymoon': 6944, 'outfit': 6945, 'mountain': 6946, 'deer': 6947, 'flatter': 6948, 'pints': 6949, 'carlin': 6950, 'dismissial': 6951, 'perf': 6952, 'wrongly': 6953, 'lil': 6954, 'beverage': 6955, 'vpist': 6956, 'jap': 6957, 'lancaster': 6958, 'neway': 6959, 'couldnåõt': 6960, 'scratching': 6961, 'mystery': 6962, 'opened': 6963, 'apologize': 6964, 'admit': 6965, 'nutter': 6966, 'cutter': 6967, 'ctter': 6968, 'cttergg': 6969, 'cttargg': 6970, 'ctargg': 6971, 'ctagg': 6972, 'burden': 6973, 'lara': 6974, 'chachi': 6975, 'pl': 6976, 'tiz': 6977, 'kanagu': 6978, 'famamus': 6979, '08715500022': 6980, 'rpl': 6981, 'cnl': 6982, 'olympics': 6983, 'crashed': 6984, 'cuddled': 6985, 'ba': 6986, 'dao': 6987, 'accomodations': 6988, 'cave': 6989, 'offered': 6990, 'embarassing': 6991, 'vomitin': 6992, \"'an\": 6993, \"quote''\": 6994, 'geelater': 6995, 'aust': 6996, 'bk': 6997, 'taj': 6998, 'lesser': 6999, 'known': 7000, 'facts': 7001, \"shahjahan's\": 7002, 'wifes': 7003, 'shahjahan': 7004, 'arises': 7005, 'hari': 7006, 'yoyyooo': 7007, 'permissions': 7008, 'sh': 7009, 'readyall': 7010, 'cried': 7011, 'uhhhhrmm': 7012, 'smokin': 7013, \"si'm\": 7014, 'youåõre': 7015, 'chic': 7016, 'declare': 7017, 'knocking': 7018, 'chad': 7019, 'gymnastics': 7020, 'christians': 7021, 'soso': 7022, \"sms'd\": 7023, 'glo': 7024, 'daal': 7025, 'kbut': 7026, 'hitteranyway': 7027, '08718730555': 7028, 'beside': 7029, 'wasnåõt': 7030, 'spouse': 7031, 'pmt': 7032, 'sumthin': 7033, '4give': 7034, 'shldxxxx': 7035, '09064017295': 7036, 'prolly': 7037, 'footy': 7038, 'stadium': 7039, 'large': 7040, 'coca': 7041, 'cola': 7042, 'nalla': 7043, 'adi': 7044, 'entey': 7045, 'nattil': 7046, 'kittum': 7047, 'lanre': 7048, \"fakeye's\": 7049, 'eckankar': 7050, 'giggle': 7051, 'possibly': 7052, 'person2die': 7053, 'nvq': 7054, \"thangamit's\": 7055, 'breaking': 7056, 'cstore': 7057, 'himthen': 7058, 'å£3365': 7059, 'matthew': 7060, '09063440451': 7061, 'ppm150': 7062, 'box334': 7063, 'gotto': 7064, '08702840625': 7065, 'comuk220cm2': 7066, 'dudette': 7067, 'nottingham': 7068, '63miles': 7069, '40mph': 7070, \"hi'\": 7071, 'drastic': 7072, 'zoom': 7073, '2814032': 7074, '3xå£150pw': 7075, 'eå£nd': 7076, 'hep': 7077, 'immunisation': 7078, 'rhode': 7079, 'bong': 7080, 'hectic': 7081, 'swoop': 7082, 'aldrine': 7083, 'rakhesh': 7084, 'rtm': 7085, 'herepls': 7086, 'callurgent': 7087, 'err': 7088, 'itmail': 7089, 'panren': 7090, 'paru': 7091, 'abj': 7092, 'prediction': 7093, '6hrs': 7094, 'surgical': 7095, 'emergency': 7096, 'unfolds': 7097, 'tonecom': 7098, 'html': 7099, 'gbp450': 7100, 'mfl': 7101, 'ew': 7102, 'abbey': 7103, 'bitching': 7104, 'stalking': 7105, 'enjoying': 7106, 'offerthe': 7107, 'nokia6650': 7108, '81151': 7109, '4tctxt': 7110, 'mtmsg': 7111, 'daplease': 7112, 'aslamalaikkuminsha': 7113, 'tohar': 7114, 'beeen': 7115, 'muht': 7116, 'albi': 7117, 'mufti': 7118, 'mahfuuzmeaning': 7119, '09061749602': 7120, '528': 7121, 'hp20': 7122, '1yf': 7123, 'spotty': 7124, 'province': 7125, 'sterling': 7126, 'hicts': 7127, 'employee': 7128, 'educational': 7129, 'remembrs': 7130, 'everytime': 7131, 'tattoos': 7132, 'icic': 7133, 'robs': 7134, 'avenge': 7135, '1stchoicecouk': 7136, '08707808226': 7137, 'resubbing': 7138, 'approve': 7139, 'panalambut': 7140, 'postponed': 7141, 'stocked': 7142, 'mila': 7143, 'age23': 7144, 'blonde': 7145, 'mtalk': 7146, '6986618': 7147, '30pp': 7148, '5free': 7149, 'increments': 7150, 'help08718728876': 7151, 'recorder': 7152, 'canname': 7153, 'australia': 7154, 'mquiz': 7155, 'sthis': 7156, 'increase': 7157, 'desparately': 7158, \"nobody's\": 7159, 'timeyou': 7160, 'tellmiss': 7161, 'chastity': 7162, 'device': 7163, 'beatings': 7164, 'watts': 7165, 'stressed': 7166, 'depressed': 7167, 'babesozi': 7168, 'culdnt': 7169, 'talkbut': 7170, 'wannatell': 7171, 'wenwecan': 7172, 'properly': 7173, 'marvel': 7174, 'ultimate': 7175, '83338': 7176, '8ball': 7177, 'naal': 7178, 'eruku': 7179, 'cr': 7180, 'protect': 7181, 'sib': 7182, 'sensitive': 7183, 'passwordsatm': 7184, 'gosh': 7185, 'spose': 7186, 'eviction': 7187, 'spiral': 7188, 'michael': 7189, 'riddance': 7190, '1mcfly': 7191, 'ab': 7192, 'sara': 7193, 'jorge': 7194, 'smith': 7195, 'ploughing': 7196, 'pile': 7197, 'ironing': 7198, 'chinky': 7199, 'liver': 7200, 'pierre': 7201, 'cardin': 7202, '88039skilgmetscs087147403231winawkage16': 7203, '08715203656': 7204, '42049': 7205, '26': 7206, 'nojst': 7207, 'teams': 7208, 'nowadays': 7209, 'notixiquating': 7210, 'laxinorficated': 7211, 'bambling': 7212, 'entropication': 7213, 'oblisingately': 7214, 'opted': 7215, 'masteriastering': 7216, 'amplikater': 7217, 'fidalfication': 7218, 'champlaxigating': 7219, 'atrocious': 7220, 'wotz': 7221, 'junna': 7222, 'sorta': 7223, 'blown': 7224, 'smsservices': 7225, 'yourinclusive': 7226, 'bangbabes': 7227, 'bangb': 7228, 'finishing': 7229, 'topic': 7230, 'shattered': 7231, 'loyal': 7232, 'customers': 7233, '09066380611': 7234, \"rct'\": 7235, 'thnq': 7236, 'adrian': 7237, 'rgds': 7238, 'vatian': 7239, 'ijust': 7240, 'talked': 7241, 'stuffs': 7242, 'headset': 7243, 'adp': 7244, 'ssi': 7245, 'thinl': 7246, 'sachinjust': 7247, 'seeking': 7248, 'uses': 7249, 'jersey': 7250, 'devils': 7251, 'wings': 7252, 'incorrect': 7253, 'coco': 7254, 'browsin': 7255, 'compulsory': 7256, 'hunt': 7257, \"there'll\": 7258, 'minor': 7259, 'shindig': 7260, 'unsubscribed': 7261, 'hunks': 7262, 'gotbabescouk': 7263, 'subscriptions': 7264, 'prince': 7265, 'charming': 7266, '07808247860': 7267, '08719899229': 7268, '40411': 7269, 'dado': 7270, '08712402972': 7271, 'wondar': 7272, 'flim': 7273, 'shb': 7274, 'sd': 7275, \"i'ma\": 7276, 'occasion': 7277, 'celebrated': 7278, 'reflection': 7279, 'values': 7280, 'affectionsamp': 7281, 'traditions': 7282, 'resent': 7283, 'queries': 7284, 'customersqueriesnetvisionukcom': 7285, 'quiteamuzing': 7286, 'thatåõscool': 7287, 'dull': 7288, 'childporn': 7289, 'owl': 7290, 'licks': 7291, 'loooooool': 7292, 'couch': 7293, 'rents': 7294, 'andre': 7295, \"virgil's\": 7296, 'wwwtelediscountcouk': 7297, 'attended': 7298, '101mega': 7299, 'pixels': 7300, '3optical': 7301, '5digital': 7302, 'dooms': 7303, 'perpetual': 7304, 'dd': 7305, \"don't4get2text\": 7306, 'semi': 7307, 'yeesh': 7308, 'knowyetunde': 7309, 'involve': 7310, 'imposed': 7311, 'senthilhsbc': 7312, \"tm'ing\": 7313, 'laughs': 7314, 'dehydrated': 7315, 'freemsgfeelin': 7316, 'lnly': 7317, 'pictxt': 7318, 'owe': 7319, 'gsex': 7320, '2667': 7321, 'wc1n': 7322, '3xx': 7323, '449': 7324, 'bundle': 7325, 'deals': 7326, 'avble': 7327, 'mf': 7328, 'pubs': 7329, 'frankie': 7330, 'bennys': 7331, 'warner': 7332, \"audrey's\": 7333, 'sorts': 7334, 'outbid': 7335, 'simonwatson5120': 7336, 'shinco': 7337, 'plyr': 7338, 'smsrewards': 7339, 'notifications': 7340, 'textcomp': 7341, 'follows': 7342, 'subsequent': 7343, 'charged150p': 7344, 'msg2': 7345, '84128custcare': 7346, '08707500020': 7347, 'ryan': 7348, 'prominent': 7349, 'cheek': 7350, 'weighed': 7351, 'woohoo': 7352, 'ft': 7353, 'combination': 7354, 'raglan': 7355, 'edward': 7356, 'cricket': 7357, 'closeby': 7358, 'arent': 7359, 'cakes': 7360, 'upon': 7361, 'maili': 7362, 'mailed': 7363, 'varma': 7364, 'membershiptake': 7365, 'careinsha': 7366, 'cleaning': 7367, 'yummmm': 7368, 'deadwell': 7369, 'jez': 7370, 'todo': 7371, 'workand': 7372, 'whilltake': 7373, 'ay': 7374, 'satì': 7375, 'cheyyamoand': 7376, 'ibm': 7377, 'hp': 7378, 'avalarr': 7379, 'hollalater': 7380, 'ahwhat': 7381, 'machiany': 7382, 'unni': 7383, 'rechargerakhesh': 7384, 'bx526': 7385, 'comei': 7386, 'lobby': 7387, 'thout': 7388, 'every1': 7389, 'ava': 7390, 'goodtimeoli': 7391, 'melnite': 7392, 'ifink': 7393, 'sortedbut': 7394, 'everythin': 7395, 'monl8rsx': 7396, 'pendingi': 7397, 'dayswill': 7398, 'thrurespect': 7399, 'homecheck': 7400, 'stripes': 7401, 'skirt': 7402, 'ooh': 7403, '4got': 7404, 'moseley': 7405, 'weds': 7406, 'dentist': 7407, 'skye': 7408, 'peoples': 7409, 'shy': 7410, 'trips': 7411, 'darker': 7412, 'styling': 7413, '5terror': 7414, '6cruel': 7415, '7romantic': 7416, '8lovable': 7417, '9decent': 7418, 'joker': 7419, 'rounderso': 7420, 'required': 7421, 'goods': 7422, 'revealing': 7423, 'rcbbattle': 7424, 'bang': 7425, 'kochi': 7426, 'pounded': 7427, 'route': 7428, 'dippeditinadew': 7429, 'lovingly': 7430, 'itwhichturnedinto': 7431, 'gifted': 7432, 'tomeandsaidthis': 7433, 'promotion': 7434, '8714714': 7435, 'tscs087147403231winawkage16': 7436, 'buzzzz': 7437, 'chest': 7438, 'vibrator': 7439, 'shake': 7440, 'practising': 7441, 'curtsey': 7442, 'crossing': 7443, 'batt': 7444, 'hasbroin': 7445, 'jump': 7446, 'hoops': 7447, 'breadstick': 7448, '08714712379': 7449, 'mobsicom': 7450, '391784': 7451, 'rushing': 7452, 'storelike': 7453, 'cereals': 7454, 'gari': 7455, '9ja': 7456, 'crammed': 7457, '3750': 7458, '7250': 7459, 'skint': 7460, 'fancied': 7461, 'bevieswaz': 7462, 'othrs': 7463, 'spoon': 7464, 'watchng': 7465, 'planet': 7466, 'earthsofa': 7467, 'comfey': 7468, 'prasanth': 7469, 'ettans': 7470, 'kfc': 7471, 'meals': 7472, 'gravy': 7473, '7634': 7474, '7684': 7475, 'todayfrom': 7476, 'jelly': 7477, 'arr': 7478, 'oscar': 7479, 'trauma': 7480, 'swear': 7481, 'spelled': 7482, 'caps': 7483, 'mess': 7484, 'bullshit': 7485, 'wuld': 7486, 'everyboy': 7487, 'xxxxxxxx': 7488, 'ratio': 7489, \"joke's\": 7490, 'florida': 7491, 'bike': 7492, 'chgs': 7493, 'dual': 7494, 'wwwflirtpartyus': 7495, 'replys150': 7496, 'flow': 7497, 'developed': 7498, 'ovarian': 7499, 'cysts': 7500, 'shrink': 7501, 'shining': 7502, 'neighbors': 7503, 'neshanthtel': 7504, 'smartcall': 7505, '68866': 7506, 'subscriptn3gbp': 7507, '08448714184': 7508, 'stoptxt': 7509, 'landlineonly': 7510, 'sane': 7511, 'helping': 7512, 'pobox202': 7513, 'nr31': 7514, '7zs': 7515, '450pw': 7516, 'girlie': 7517, 'godnot': 7518, 'uploaded': 7519, 'profile': 7520, 'bpo': 7521, 'dileepthank': 7522, 'muchand': 7523, 'supportvery': 7524, 'hereremember': 7525, 'venugopal': 7526, 'mentionedtomorrow': 7527, 'latei': 7528, 'theregoodnight': 7529, 'buzy': 7530, 'nose': 7531, 'essay': 7532, 'moneyas': 7533, 'youmoney': 7534, 'thinghow': 7535, 'honesty': 7536, 'passthey': 7537, 'silently': 7538, 'ntswt': 7539, 'drms': 7540, 'stage': 7541, 'wildlife': 7542, 'want2come': 7543, 'that2worzels': 7544, 'wizzle': 7545, 'checkin': 7546, 'ittb': 7547, '09066660100': 7548, '2309': 7549, 'firmware': 7550, 'destination': 7551, 'maths': 7552, 'chapter': 7553, 'photoshop': 7554, 'jade': 7555, 'paul': 7556, 'barmed': 7557, 'musthu': 7558, 'wright': 7559, 'fly': 7560, 'ceiling': 7561, 'dawns': 7562, 'refreshed': 7563, '09058097189': 7564, 'ls15hb': 7565, 'rejected': 7566, 'meatballs': 7567, 'chit': 7568, 'logon': 7569, '8883': 7570, '4217': 7571, 'w1a': 7572, '6zf': 7573, '118p': 7574, \"x'mas\": 7575, 'mallika': 7576, 'sherawat': 7577, 'fridge': 7578, '69969': 7579, 'bcmsfwc1n3xx': 7580, 'lib': 7581, 'wamma': 7582, 'laidwant': 7583, 'doggin': 7584, 'dogs': 7585, 'nownyt': 7586, 'wall': 7587, 'dust': 7588, 'infra': 7589, 'returning': 7590, 'doke': 7591, 'laying': 7592, 'cashto': 7593, '08000407165': 7594, 'getstop': 7595, '88222': 7596, 'php': 7597, 'sun0819': 7598, 'general': 7599, \"carlos'll\": 7600, 'defer': 7601, 'admission': 7602, '09061743811': 7603, 'mys': 7604, 'mapquest': 7605, 'dogwood': 7606, '85069': 7607, 'usher': 7608, 'britney': 7609, 'brolly': 7610, 'franxx': 7611, 'å£79': 7612, '08704439680tscs': 7613, 'build': 7614, 'angels': 7615, 'snowball': 7616, 'fights': 7617, 'recorded': 7618, 'brah': 7619, 'timin': 7620, 'wwwwtlpcouk': 7621, 'sip': 7622, 'vijaykanth': 7623, 'comedy': 7624, 'tvhe': 7625, 'lovly': 7626, 'success': 7627, 'pansy': 7628, 'jungle': 7629, 'buyer': 7630, 'melike': 7631, 'yeovil': 7632, 'motor': 7633, 'max': 7634, \"table's\": 7635, 'occupied': 7636, 'brisk': 7637, 'walks': 7638, 'lasting': 7639, 'sections': 7640, 'clearer': 7641, 'breathing': 7642, 'bothering': 7643, 'printed': 7644, 'sculpture': 7645, '09061743810': 7646, 'hunting': 7647, 'steve': 7648, 'ditto': 7649, '09066368470': 7650, 'url': 7651, '449071512431': 7652, 'å£1250': 7653, '09071512433': 7654, '050703': 7655, 'tcsbcm4235wc1n3xx': 7656, 'callcost': 7657, 'mobilesvary': 7658, 'msn': 7659, 'predicte': 7660, 'natalie': 7661, 'natalie2k9': 7662, 'yalru': 7663, 'astne': 7664, 'innu': 7665, 'mundhe': 7666, 'ali': 7667, 'halla': 7668, 'bilo': 7669, 'marriageprogram': 7670, 'edhae': 7671, 'ovr': 7672, 'chikkuali': 7673, 'vargu': 7674, 'yesbut': 7675, 'numberpls': 7676, 'idconvey': 7677, 'achanammarakheshqatar': 7678, 'documents': 7679, 'submitted': 7680, 'stapati': 7681, 'maturity': 7682, '09066649731from': 7683, 'scenery': 7684, 'petey': 7685, 'whereare': 7686, 'friendsare': 7687, 'thekingshead': 7688, 'canlove': 7689, '08002986030': 7690, 'hack': 7691, 'backdoor': 7692, 'fraction': 7693, 'neo69': 7694, '09050280520': 7695, 'subscribe': 7696, 'dps': 7697, 'bcm': 7698, '8027': 7699, 'necessarily': 7700, 'hhahhaahahah': 7701, 'nig': 7702, 'leonardo': 7703, 'cozy': 7704, 'nightnobody': 7705, 'websitenow': 7706, 'blogging': 7707, 'magicalsongsblogspotcom': 7708, 'wenever': 7709, 'notified': 7710, 'marketing': 7711, '84122': 7712, '08450542832': 7713, 'smsing': 7714, 'lakhs': 7715, 'selflessness': 7716, '08708800282': 7717, 'com': 7718, 'arrived': 7719, 'okmail': 7720, 'printing': 7721, 'handing': 7722, 'approx': 7723, '07090298926': 7724, 'ref9307622': 7725, 'å£125': 7726, 'freeentry': 7727, 'xt': 7728, 'chikkugoing': 7729, 'placement': 7730, 'amrita': 7731, 'grave': 7732, 'dentists': 7733, '08718726970': 7734, 'ksry': 7735, 'sivatats': 7736, 'dang': 7737, 'score': 7738, 'motivating': 7739, 'sharing': 7740, 'steal': 7741, 'sliding': 7742, 'thus': 7743, 'dawhere': 7744, 'darlinim': 7745, 'soonxxx': 7746, 'pimples': 7747, 'outsider': 7748, 'humans': 7749, 'logoff': 7750, 'onlydon': 7751, 'squishy': 7752, 'mwahs': 7753, 'coveragd': 7754, 'vasai': 7755, \"4'o\": 7756, 'swollen': 7757, 'glands': 7758, \"g's\": 7759, 'ammo': 7760, 'ak': 7761, 'reache': 7762, 'wi': 7763, 'nz': 7764, 'tai': 7765, 'feng': 7766, 'reservations': 7767, 'nordstrom': 7768, 'figuring': 7769, 'conference': 7770, 'everyones': 7771, 'babysitting': 7772, 'hmmmhow': 7773, \"dobby's\": 7774, 'steak': 7775, 'senor': 7776, 'cutie': 7777, 'hills': 7778, 'balloon': 7779, 'tops': 7780, 'passport': 7781, 'sth': 7782, 'specs': 7783, 'px3748': 7784, \"dat's\": 7785, 'bids': 7786, 'invest': 7787, 'restuwud': 7788, 'reliant': 7789, 'performance': 7790, 'calculated': 7791, 'monthnot': 7792, 'secured': 7793, 'unsecured': 7794, '195': 7795, '6669': 7796, 'hos': 7797, '89105': 7798, 'truekdo': 7799, 'humanities': 7800, 'strangersaw': 7801, 'heåõs': 7802, 'nowstill': 7803, 'bloke': 7804, 'mrur': 7805, '2getha': 7806, 'kalainar': 7807, 'officethenampet': 7808, 'cthen': 7809, 'conclusion': 7810, 'references': 7811, 'typelyk': 7812, 'footblcrckt': 7813, 'jide': 7814, 'visiting': 7815, 'okies': 7816, 'lovin': 7817, 'bits': 7818, 'pieces': 7819, 'seing': 7820, 'funky': 7821, 'faceasssssholeeee': 7822, 'openin': 7823, 'formal': 7824, 'weighthaha': 7825, 'lorwe': 7826, 'configure': 7827, 'dodgey': 7828, 'recovery': 7829, 'mathews': 7830, 'tait': 7831, 'edwards': 7832, 'anderson': 7833, 'arnt': 7834, 'xxxxxxxxxxxxxx': 7835, 'prices': 7836, 'inner': 7837, 'tigress': 7838, 'chik': 7839, \"100's\": 7840, 'filth': 7841, '69669': 7842, 'saristar': 7843, 'e14': 7844, '9yt': 7845, '08701752560': 7846, '450p': 7847, 'stop2': 7848, 'grateful': 7849, 'happier': 7850, 'daaaaa': 7851, 'miiiiiiissssssssss': 7852, \"'wnevr\": 7853, 'fal': 7854, 'fals': 7855, \"me''\": 7856, 'yen': 7857, 'madodu': 7858, 'nav': 7859, 'pretsorginta': 7860, 'nammanna': 7861, 'pretsovru': 7862, 'alwa': 7863, 'eveb': 7864, 'dearregret': 7865, 'cudnt': 7866, 'calldrove': 7867, 'ctla': 7868, 'homeleft': 7869, 'carente': 7870, 'ishtamayoohappy': 7871, 'bakrid': 7872, 'mobs': 7873, 'breathe1': 7874, 'crazyin': 7875, 'sleepingwith': 7876, 'finest': 7877, 'ymca': 7878, 'getzedcouk': 7879, 'pobox365o4w45wq': 7880, 'appointments': 7881, 'shoving': 7882, 'necesity': 7883, 'witout': 7884, \"hw'd\": 7885, 'colleg': 7886, \"wat'll\": 7887, 'wth': 7888, 'functions': 7889, 'events': 7890, \"espe'll\": 7891, 'irritated': 7892, '4wrd': 7893, 'wthout': 7894, 'takecare': 7895, 'wither': 7896, 'eg23f': 7897, 'eg23g': 7898, 'youdoing': 7899, 'shiny': 7900, 'warming': 7901, 'btwn': 7902, 'sppok': 7903, 'logopic': 7904, 'hellohow': 7905, 'doingwhat': 7906, '2when': 7907, 'lamp': 7908, 'kkfrom': 7909, 'propsd': 7910, 'gv': 7911, 'lv': 7912, 'lttrs': 7913, 'threw': 7914, 'aproach': 7915, 'dt': 7916, 'truck': 7917, 'speeding': 7918, 'wn': 7919, 'girld': 7920, \"'hw\": 7921, \"fast'\": 7922, 'shouted': 7923, 'thy': 7924, 'lived': 7925, 'happily': 7926, '2gthr': 7927, 'evrydy': 7928, 'msgsd': 7929, 'drmstake': 7930, 'brainless': 7931, 'doll': 7932, 'vehicle': 7933, 'sariyag': 7934, 'madoke': 7935, 'barolla': 7936, 'lorgoin': 7937, 'fundamentals': 7938, 'tex': 7939, 'mecause': 7940, 'werebored': 7941, 'okden': 7942, 'uin': 7943, 'satsoundåõs': 7944, 'likeyour': 7945, 'gr8fun': 7946, 'updat': 7947, 'countinlots': 7948, 'xxxxx': 7949, '08718738034': 7950, 'dose': 7951, 'tablet': 7952, 'quarter': 7953, 'noooooooo': 7954, 'bao': 7955, 'sugardad': 7956, 'ahgee': 7957, 'ambitious': 7958, '0871277810910p': 7959, 'formatting': 7960, 'cashbincouk': 7961, 'wwwcashbincouk': 7962, 'sirsalam': 7963, 'alaikkumpride': 7964, 'shopwe': 7965, 'qatarrakhesh': 7966, 'indianpls': 7967, 'numberrespectful': 7968, 'ujhhhhhhh': 7969, 'sandiago': 7970, 'parantella': 7971, 'simpsons': 7972, '2007': 7973, 'band': 7974, 'relaxing': 7975, '7am': 7976, '5ish': 7977, \"dip's\": 7978, 'topicsorry': 7979, 'str8': 7980, 'classic': 7981, '200p': 7982, 'excused': 7983, 'nowsend': 7984, '62220cncl': 7985, 'stopcs': 7986, '08717890890å£150': 7987, 'classmates': 7988, 'shore': 7989, 'hont': 7990, 'babyhope': 7991, 'urfeeling': 7992, 'bettersn': 7993, 'probthat': 7994, 'overdose': 7995, 'lovejen': 7996, 'amk': 7997, 'teluguthts': 7998, 'gudk': 7999, 'sexychat': 8000, 'chatting': 8001, 'signal': 8002, 'unusual': 8003, 'grandma': 8004, 'parade': 8005, 'doinghow': 8006, 'miwa': 8007, 'allday': 8008, '9755': 8009, 'abeg': 8010, 'sponsors': 8011, 'buttons': 8012, 'judgementali': 8013, 'fridays': 8014, 'randomlly': 8015, 'opening': 8016, 'esaplanade': 8017, 'everywhere': 8018, 'dirt': 8019, 'floor': 8020, 'chores': 8021, 'exist': 8022, 'hail': 8023, 'mist': 8024, \"medon't\": 8025, \"l'm\": 8026, 'goodnoon': 8027, '0089': 8028, 'digits': 8029, '09063442151': 8030, 'i\\x89ûªm': 8031, 'isn\\x89ûªt': 8032, 'pure': 8033, 'hearted': 8034, 'enemies': 8035, 'smiley': 8036, 'uh': 8037, 'missy': 8038, 'ccna': 8039, 'arranging': 8040, 'lightly': 8041, 'checkboxes': 8042, 'pocy': 8043, 'nothin': 8044, 'hanger': 8045, '30th': 8046, 'wwwareyouuniquecouk': 8047, 'ku': 8048, 'heaven': 8049, 'princegn': 8050, 'xclusiveclubsaisai': 8051, 'speciale': 8052, 'zouk': 8053, 'parisfree': 8054, 'roses': 8055, '07946746291': 8056, '07880867867': 8057, 'scary': 8058, 'crash': 8059, '24m': 8060, 'suppose': 8061, 'processnetworking': 8062, 'salesman': 8063, 'amigos': 8064, 'burn': 8065, \"ki'm\": 8066, 'auctionpunj': 8067, 'lock': 8068, 'keypad': 8069, 'canteen': 8070, 'pisces': 8071, 'aquarius': 8072, '3miles': 8073, 'stories': 8074, 'spiritual': 8075, 'wwwgambtv': 8076, 'offense': 8077, 'datingi': 8078, 'coincidence': 8079, 'shouting': 8080, 'nachos': 8081, 'cocksuckers': 8082, 'ipads': 8083, 'worthless': 8084, 'novelty': 8085, 'toilet': 8086, 'stolen': 8087, 'cops': 8088, 'envy': 8089, \"see's\": 8090, 'tbs': 8091, 'persolvo': 8092, 'forå£38': 8093, 'kath': 8094, 'manchester': 8095, 'flood': 8096, 'toledo': 8097, 'fishrman': 8098, 'sack': 8099, 'strtd': 8100, 'throwin': 8101, '1stone': 8102, \"mrng''\": 8103, 'nonenowhere': 8104, 'ikno': 8105, 'doesdiscountshitinnit': 8106, 'cousin': 8107, 'hairdressers': 8108, 'beforehand': 8109, 'gmw': 8110, 'connected': 8111, 'pookie': 8112, 'ups': 8113, '3days': 8114, 'usps': 8115, 'bribe': 8116, 'nipost': 8117, 'function': 8118, 'spontaneously': 8119, 'goodevening': 8120, 'rayman': 8121, 'golf': 8122, 'activ8': 8123, 'termsapply': 8124, 'dizzamn': 8125, 'suitemates': 8126, 'stash': 8127, 'sitter': 8128, 'kaitlyn': 8129, 'leu': 8130, 'hubby': 8131, 'fiting': 8132, 'load': 8133, 'hwkeep': 8134, 'mj': 8135, 'cashed': 8136, 'announced': 8137, 'blog': 8138, '2nights': 8139, 'uve': 8140, 'wildest': 8141, 'bold2': 8142, 'luton': 8143, '0125698789': 8144, 'h': 8145, 'tiime': 8146, 'tears': 8147, 'bbdthts': 8148, 'dvg': 8149, 'coldheard': 8150, 'vinobanagar': 8151, 'conditionand': 8152, 'becausethey': 8153, '09058098002': 8154, 'pobox1': 8155, 'w14rg': 8156, 'faded': 8157, 'glory': 8158, 'ralphs': 8159, 'dagood': 8160, 'replacement': 8161, 'murali': 8162, \"finn's\": 8163, 'thatnow': 8164, 'dusk': 8165, 'puzzles': 8166, 'santha': 8167, 'corrct': 8168, 'dane': 8169, '88800': 8170, '89034': 8171, '08718711108': 8172, 'props': 8173, 'arithmetic': 8174, 'percentages': 8175, 'bcozi': 8176, 'plate': 8177, 'leftovers': 8178, 'hamster': 8179, '1pm': 8180, \"'xam\": 8181, 'brilliant1thingi': 8182, 'answr': 8183, '09066368753': 8184, '97n7qp': 8185, 'curious': 8186, 'startedindia': 8187, 'mandy': 8188, 'sullivan': 8189, 'hotmix': 8190, 'fmyou': 8191, 'å£500000': 8192, 'drawplease': 8193, '09041940223': 8194, 'transferred': 8195, 'replacing': 8196, 'ovulatewhen': 8197, '3wks': 8198, 'fret': 8199, 'specialisation': 8200, 'labor': 8201, 'shakara': 8202, 'beggar': 8203, 'reassuring': 8204, 'onluy': 8205, 'matters': 8206, 'offcampus': 8207, '087147123779am': 8208, 'french': 8209, 'fooled': 8210, 'twins': 8211, 'disappeared': 8212, 'payments': 8213, 'fedex': 8214, 'poortiyagi': 8215, 'odalebeku': 8216, 'hanumanji': 8217, 'hanuman': 8218, 'bajarangabali': 8219, 'maruti': 8220, 'pavanaputra': 8221, 'sankatmochan': 8222, 'ramaduth': 8223, 'mahaveer': 8224, 'janarige': 8225, 'ivatte': 8226, 'kalisidare': 8227, 'olage': 8228, 'ondu': 8229, 'keluviri': 8230, 'maretare': 8231, 'inde': 8232, 'dodda': 8233, 'problum': 8234, 'nalli': 8235, 'siguviri': 8236, 'idu': 8237, 'matra': 8238, 'neglet': 8239, 'western': 8240, 'finance': 8241, 'guai': 8242, 'passes': 8243, '08704439680': 8244, 'godyou': 8245, 'immed': 8246, 'rajitha': 8247, 'ranju': 8248, 'needy': 8249, 'videosound': 8250, 'gold': 8251, 'videosounds': 8252, 'musicnews': 8253, 'jamstercouk': 8254, '09701213186': 8255, 'unmits': 8256, \"it'll\": 8257, 'gut': 8258, 'wrenching': 8259, 'shirts': 8260, 'nudist': 8261, 'themed': 8262, 'eh74rr': 8263, '0870737910216yrs': 8264, 'www07781482378com': 8265, 'praps': 8266, 'helloooo': 8267, 'welcomes': 8268, 'begging': 8269, 'jetton': 8270, 'reassurance': 8271, 'u\\x89ûªve': 8272, 'instant': 8273, '08715203028': 8274, '9th': 8275, 'sday': 8276, 'joinedso': 8277, 'deus': 8278, 'officially': 8279, 'philosophical': 8280, 'hole': 8281, 'nuerologist': 8282, 'painit': 8283, 'todaydo': 8284, 'ystrdayice': 8285, 'fans': 8286, '0870141701216': 8287, 'norm': 8288, '120p': 8289, 'rumour': 8290, 'teenager': 8291, 'dessert': 8292, 'suntec': 8293, 'airtel': 8294, 'lyricalladie': 8295, 'hmmross': 8296, 'hmmbad': 8297, 'newshype': 8298, 'plaza': 8299, '700': 8300, 'studio': 8301, 'takenonly': 8302, 'itlet': 8303, 'roomate': 8304, 'graduated': 8305, 'kickboxing': 8306, 'satsgettin': 8307, '447per': 8308, 'vidnot': 8309, 'finishd': 8310, 'sized': 8311, 'taught': 8312, 'becaus': 8313, 'verifying': 8314, 'prabu': 8315, 'powerful': 8316, 'weapon': 8317, \"'heart'\": 8318, 'exposed': 8319, 'copies': 8320, 'weirdo': 8321, 'symptoms': 8322, '1u': 8323, 'beloved': 8324, '3u': 8325, 'escalator': 8326, 'related': 8327, 'arul': 8328, 'parentsi': 8329, 'host': 8330, 'based': 8331, 'idps': 8332, 'linux': 8333, 'systems': 8334, \"anything's\": 8335, 'bloomberg': 8336, '447797706009': 8337, 'careers': 8338, 'bloombergcom': 8339, '09065394514': 8340, 'until': 8341, '545': 8342, '2years': 8343, 'strain': 8344, 'grab': 8345, 'tagged': 8346, 'triple': 8347, 'echo': 8348, 'trash': 8349, 'maps': 8350, 'ofcourse': 8351, 'forgive': 8352, '08712103738': 8353, 'affair': 8354, 'pleassssssseeeeee': 8355, 'sportsx': 8356, 'saeed': 8357, 'gamestar': 8358, 'active': 8359, 'å£250k': 8360, 'scoring': 8361, 'register': 8362, 'nowsky': 8363, '88088': 8364, 'blastin': 8365, 'tsunamis': 8366, 'occur': 8367, 'rajnikant': 8368, 'ocean': 8369, 'asda': 8370, 'counts': 8371, 'uncomfortable': 8372, 'alreadysabarish': 8373, 'wesley': 8374, \"how've\": 8375, 'mag': 8376, 'avo': 8377, '1225': 8378, 'å£50award': 8379, 'boggy': 8380, 'biatch': 8381, 'nowonion': 8382, 'someplace': 8383, 'pears': 8384, '09061743386': 8385, '116': 8386, 'somerset': 8387, 'rdy': 8388, 'loneliness': 8389, 'moneyi': 8390, 'directors': 8391, 'lac': 8392, 'deposited': 8393, \"'taxless'\": 8394, 'suply': 8395, 'projects': 8396, 'imf': 8397, 'blocked': 8398, 'corrupt': 8399, 'itna': 8400, 'karo': 8401, 'pura': 8402, 'padhegm': 8403, 'dramatic': 8404, 'schools': 8405, 'weåõve': 8406, 'mint': 8407, 'uxxxx': 8408, 'plumbers': 8409, 'wrench': 8410, 'wiskey': 8411, 'brandy': 8412, 'rum': 8413, 'gin': 8414, 'scotch': 8415, 'shampain': 8416, 'kudi': 8417, 'yarasu': 8418, 'dhina': 8419, 'vaazhthukkal': 8420, 'jam': 8421, 'hannaford': 8422, 'wheat': 8423, 'chex': 8424, 'slippery': 8425, 'staffsciencenusedusg': 8426, 'phyhcmk': 8427, 'pc1323': 8428}\n",
            "Found 8428 unique tokens.\n"
          ]
        }
      ]
    },
    {
      "cell_type": "code",
      "source": [
        "# get only the top frequent words on train\n",
        "train_data = pad_sequences(train_sequences, maxlen=MAX_SEQUENCE_LENGTH)"
      ],
      "metadata": {
        "id": "Zd73i2o69mal"
      },
      "execution_count": 20,
      "outputs": []
    },
    {
      "cell_type": "code",
      "source": [
        "# get only the top frequent words on test\n",
        "test_data = pad_sequences(test_sequences, maxlen=MAX_SEQUENCE_LENGTH)"
      ],
      "metadata": {
        "id": "JuVYk3H_-xQD"
      },
      "execution_count": 21,
      "outputs": []
    },
    {
      "cell_type": "code",
      "source": [
        "print(train_data.shape)\n",
        "print(test_data.shape)"
      ],
      "metadata": {
        "colab": {
          "base_uri": "https://localhost:8080/"
        },
        "id": "_U-0nidS-2zk",
        "outputId": "e40521e5-a3b7-489a-c192-c79fe41495ae"
      },
      "execution_count": 22,
      "outputs": [
        {
          "output_type": "stream",
          "name": "stdout",
          "text": [
            "(4457, 300)\n",
            "(1115, 300)\n"
          ]
        }
      ]
    },
    {
      "cell_type": "code",
      "source": [
        "train_labels = train['Target']\n",
        "test_labels = test['Target']"
      ],
      "metadata": {
        "id": "Da2X1R9i-7CH"
      },
      "execution_count": 23,
      "outputs": []
    },
    {
      "cell_type": "code",
      "source": [
        "\n",
        "# converts the character array to numeric array. Assigns levels\n",
        "# to unique labels.\n",
        "le = LabelEncoder()\n",
        "le.fit(train_labels)\n",
        "train_labels = le.transform(train_labels)\n",
        "test_labels = le.transform(test_labels)\n",
        "print(le.classes_)\n",
        "print(np.unique(train_labels, return_counts=True))\n",
        "print(np.unique(test_labels, return_counts=True))"
      ],
      "metadata": {
        "colab": {
          "base_uri": "https://localhost:8080/"
        },
        "id": "Y4vGQQ8qPu7n",
        "outputId": "16445e1c-69ff-49cf-a5c2-9e1f321be29f"
      },
      "execution_count": 24,
      "outputs": [
        {
          "output_type": "stream",
          "name": "stdout",
          "text": [
            "['ham' 'spam']\n",
            "(array([0, 1]), array([3860,  597]))\n",
            "(array([0, 1]), array([965, 150]))\n"
          ]
        }
      ]
    },
    {
      "cell_type": "code",
      "source": [
        "labels_train = to_categorical(np.asarray(train_labels))\n",
        "labels_test = to_categorical(np.asarray(test_labels))\n",
        "print('Shape of data tensor:', train_data.shape)\n",
        "print('Shape of label tensor:', labels_train.shape)\n",
        "print('Shape of label tensor:', labels_test.shape)"
      ],
      "metadata": {
        "colab": {
          "base_uri": "https://localhost:8080/"
        },
        "id": "Eb6dMjsgzVQU",
        "outputId": "9e5cfaeb-5262-47eb-cc95-ae674801d9f5"
      },
      "execution_count": 25,
      "outputs": [
        {
          "output_type": "stream",
          "name": "stdout",
          "text": [
            "Shape of data tensor: (4457, 300)\n",
            "Shape of label tensor: (4457, 2)\n",
            "Shape of label tensor: (1115, 2)\n"
          ]
        }
      ]
    },
    {
      "cell_type": "code",
      "source": [
        "EMBEDDING_DIM = 100\n",
        "print(MAX_SEQUENCE_LENGTH)"
      ],
      "metadata": {
        "colab": {
          "base_uri": "https://localhost:8080/"
        },
        "id": "wjXTQwkewSmS",
        "outputId": "55d94df8-f0f7-4795-edc8-27ae307a7ccc"
      },
      "execution_count": 26,
      "outputs": [
        {
          "output_type": "stream",
          "name": "stdout",
          "text": [
            "300\n"
          ]
        }
      ]
    },
    {
      "cell_type": "code",
      "source": [
        "model = Sequential()\n",
        "model.add(Embedding(MAX_NB_WORDS,EMBEDDING_DIM,input_length=MAX_SEQUENCE_LENGTH))\n",
        "model.add(Dropout(0.2))\n",
        "model.add(Conv1D(128, 5, activation='relu'))\n",
        "model.add(MaxPooling1D(5))\n",
        "model.add(Dropout(0.2))\n",
        "model.add(BatchNormalization())\n",
        "model.add(Conv1D(128, 5, activation='relu'))\n",
        "model.add(MaxPooling1D(5))\n",
        "model.add(Dropout(0.2))\n",
        "model.add(BatchNormalization())\n",
        "model.add(Flatten())\n",
        "model.add(Dense(128, activation='relu'))\n",
        "model.add(Dense(2, activation='softmax'))\n",
        "model.compile(loss='categorical_crossentropy',optimizer='rmsprop',metrics=['acc'])\n",
        "model.summary()"
      ],
      "metadata": {
        "colab": {
          "base_uri": "https://localhost:8080/"
        },
        "id": "VxbkcYhjMqqO",
        "outputId": "5d7ffe17-db85-40fc-ec8f-66ea033f362a"
      },
      "execution_count": 27,
      "outputs": [
        {
          "output_type": "stream",
          "name": "stdout",
          "text": [
            "Model: \"sequential\"\n",
            "_________________________________________________________________\n",
            " Layer (type)                Output Shape              Param #   \n",
            "=================================================================\n",
            " embedding (Embedding)       (None, 300, 100)          2000000   \n",
            "                                                                 \n",
            " dropout (Dropout)           (None, 300, 100)          0         \n",
            "                                                                 \n",
            " conv1d (Conv1D)             (None, 296, 128)          64128     \n",
            "                                                                 \n",
            " max_pooling1d (MaxPooling1D  (None, 59, 128)          0         \n",
            " )                                                               \n",
            "                                                                 \n",
            " dropout_1 (Dropout)         (None, 59, 128)           0         \n",
            "                                                                 \n",
            " batch_normalization (BatchN  (None, 59, 128)          512       \n",
            " ormalization)                                                   \n",
            "                                                                 \n",
            " conv1d_1 (Conv1D)           (None, 55, 128)           82048     \n",
            "                                                                 \n",
            " max_pooling1d_1 (MaxPooling  (None, 11, 128)          0         \n",
            " 1D)                                                             \n",
            "                                                                 \n",
            " dropout_2 (Dropout)         (None, 11, 128)           0         \n",
            "                                                                 \n",
            " batch_normalization_1 (Batc  (None, 11, 128)          512       \n",
            " hNormalization)                                                 \n",
            "                                                                 \n",
            " flatten (Flatten)           (None, 1408)              0         \n",
            "                                                                 \n",
            " dense (Dense)               (None, 128)               180352    \n",
            "                                                                 \n",
            " dense_1 (Dense)             (None, 2)                 258       \n",
            "                                                                 \n",
            "=================================================================\n",
            "Total params: 2,327,810\n",
            "Trainable params: 2,327,298\n",
            "Non-trainable params: 512\n",
            "_________________________________________________________________\n"
          ]
        }
      ]
    },
    {
      "cell_type": "code",
      "source": [
        "model_history = model.fit(train_data, labels_train,batch_size=64,epochs=4,validation_data=(test_data, labels_test))"
      ],
      "metadata": {
        "colab": {
          "base_uri": "https://localhost:8080/"
        },
        "id": "7dLkPAOmxAZP",
        "outputId": "b9fb4d0c-1c33-4b3f-ced8-1c40d5338a6a"
      },
      "execution_count": 28,
      "outputs": [
        {
          "output_type": "stream",
          "name": "stdout",
          "text": [
            "Epoch 1/4\n",
            "70/70 [==============================] - 35s 457ms/step - loss: 0.2897 - acc: 0.8824 - val_loss: 0.8840 - val_acc: 0.8655\n",
            "Epoch 2/4\n",
            "70/70 [==============================] - 18s 251ms/step - loss: 0.0670 - acc: 0.9809 - val_loss: 1.3315 - val_acc: 0.8655\n",
            "Epoch 3/4\n",
            "70/70 [==============================] - 18s 252ms/step - loss: 0.0286 - acc: 0.9917 - val_loss: 1.9423 - val_acc: 0.8655\n",
            "Epoch 4/4\n",
            "70/70 [==============================] - 18s 251ms/step - loss: 0.0173 - acc: 0.9951 - val_loss: 1.9795 - val_acc: 0.8655\n"
          ]
        }
      ]
    },
    {
      "cell_type": "code",
      "source": [
        "model_history.history.keys()"
      ],
      "metadata": {
        "colab": {
          "base_uri": "https://localhost:8080/"
        },
        "id": "lkJ_LagWT3qJ",
        "outputId": "18e7eb38-8a48-4a08-b053-dcc64a882109"
      },
      "execution_count": 29,
      "outputs": [
        {
          "output_type": "execute_result",
          "data": {
            "text/plain": [
              "dict_keys(['loss', 'acc', 'val_loss', 'val_acc'])"
            ]
          },
          "metadata": {},
          "execution_count": 29
        }
      ]
    },
    {
      "cell_type": "code",
      "source": [
        "test = plt.figure()\n",
        "plt.figure(figsize = (5,5))\n",
        "plt.plot(model_history.history['acc'])\n",
        "plt.plot(model_history.history['val_acc'])\n",
        "plt.title(\"Model accuracy (train and test) vs epoch\")\n",
        "plt.xlabel(\"Epoch\")\n",
        "plt.ylabel(\"Accuracy\")\n",
        "plt.legend(['train','test'],loc = 'upper left')\n",
        "test.show()\n",
        "print()\n",
        "  # test_data, labels_test\n",
        "test_loss, test_acc = model.evaluate(test_data,labels_test,verbose=2)\n",
        "print('Loss',test_loss)\n",
        "print('Accuracy', test_acc)\n",
        "print('Accuracy on Test Data')\n",
        "  # print(list_temp[i])"
      ],
      "metadata": {
        "colab": {
          "base_uri": "https://localhost:8080/",
          "height": 460
        },
        "id": "FXDrc1tqP6A1",
        "outputId": "80a88aaa-9dda-467d-9fe2-f9896c9e7929"
      },
      "execution_count": 30,
      "outputs": [
        {
          "output_type": "stream",
          "name": "stdout",
          "text": [
            "\n",
            "35/35 - 1s - loss: 1.9795 - acc: 0.8655 - 966ms/epoch - 28ms/step\n",
            "Loss 1.9795042276382446\n",
            "Accuracy 0.865470826625824\n",
            "Accuracy on Test Data\n"
          ]
        },
        {
          "output_type": "display_data",
          "data": {
            "text/plain": [
              "<Figure size 432x288 with 0 Axes>"
            ]
          },
          "metadata": {}
        },
        {
          "output_type": "display_data",
          "data": {
            "text/plain": [
              "<Figure size 360x360 with 1 Axes>"
            ],
            "image/png": "[encoded data removed]"
          },
          "metadata": {
            "needs_background": "light"
          }
        }
      ]
    },
    {
      "cell_type": "code",
      "source": [
        "test = plt.figure()\n",
        "plt.figure(figsize = (5,5))\n",
        "plt.plot(model_history.history['loss'])\n",
        "plt.plot(model_history.history['val_loss'])\n",
        "plt.title(\"Model loss (train and test) vs epoch\")\n",
        "plt.xlabel(\"Epoch\")\n",
        "plt.ylabel(\"Loss\")\n",
        "plt.legend(['train','test'],loc = 'upper left')\n",
        "test.show()"
      ],
      "metadata": {
        "colab": {
          "base_uri": "https://localhost:8080/",
          "height": 368
        },
        "id": "DbsTT8kkcVzO",
        "outputId": "ce197541-8d6e-4469-fe84-f18193929f96"
      },
      "execution_count": 31,
      "outputs": [
        {
          "output_type": "display_data",
          "data": {
            "text/plain": [
              "<Figure size 432x288 with 0 Axes>"
            ]
          },
          "metadata": {}
        },
        {
          "output_type": "display_data",
          "data": {
            "text/plain": [
              "<Figure size 360x360 with 1 Axes>"
            ],
            "image/png": "[encoded data removed]"
          },
          "metadata": {
            "needs_background": "light"
          }
        }
      ]
    },
    {
      "cell_type": "code",
      "source": [
        ""
      ],
      "metadata": {
        "id": "D5WbfVyjRagB"
      },
      "execution_count": 31,
      "outputs": []
    },
    {
      "cell_type": "code",
      "source": [
        "#predictions on test data\n",
        "predicted=model.predict(test_data)\n",
        "predicted"
      ],
      "metadata": {
        "colab": {
          "base_uri": "https://localhost:8080/"
        },
        "id": "jZ05SferxG-3",
        "outputId": "f02521ee-bb50-47c4-9ff0-5df8e79a4638"
      },
      "execution_count": 32,
      "outputs": [
        {
          "output_type": "execute_result",
          "data": {
            "text/plain": [
              "array([[1.0000000e+00, 5.4769789e-08],\n",
              "       [1.0000000e+00, 8.4549734e-10],\n",
              "       [1.0000000e+00, 2.2362146e-08],\n",
              "       ...,\n",
              "       [1.0000000e+00, 1.1791301e-09],\n",
              "       [1.0000000e+00, 4.8105959e-09],\n",
              "       [1.0000000e+00, 2.1653682e-08]], dtype=float32)"
            ]
          },
          "metadata": {},
          "execution_count": 32
        }
      ]
    },
    {
      "cell_type": "code",
      "source": [
        "import sklearn\n",
        "from sklearn.metrics import precision_recall_fscore_support as score \n",
        "precision, recall, fscore, support =score(labels_test,predicted.round())\n",
        "print('precision: {}'.format(precision))\n",
        "print('recall: {}'.format(recall))"
      ],
      "metadata": {
        "colab": {
          "base_uri": "https://localhost:8080/"
        },
        "id": "oBz8RjclxHrZ",
        "outputId": "09d3357c-3e67-4d0c-c390-5596b47c1be8"
      },
      "execution_count": 33,
      "outputs": [
        {
          "output_type": "stream",
          "name": "stdout",
          "text": [
            "precision: [0.86547085 0.        ]\n",
            "recall: [1. 0.]\n"
          ]
        }
      ]
    },
    {
      "cell_type": "code",
      "source": [
        "pd.DataFrame([precision,recall,fscore],columns=['0','1'],index=['Precision','Recall','F1 Score'])"
      ],
      "metadata": {
        "colab": {
          "base_uri": "https://localhost:8080/",
          "height": 143
        },
        "id": "GKI67cIwhaGO",
        "outputId": "cee72cb7-8081-4888-f4af-d8c7d5aa18ee"
      },
      "execution_count": 34,
      "outputs": [
        {
          "output_type": "execute_result",
          "data": {
            "text/plain": [
              "                  0    1\n",
              "Precision  0.865471  0.0\n",
              "Recall     1.000000  0.0\n",
              "F1 Score   0.927885  0.0"
            ],
            "text/html": [
              "\n",
              "  <div id=\"df-63544668-a2d4-4807-aff5-4e203cad4e81\">\n",
              "    <div class=\"colab-df-container\">\n",
              "      <div>\n",
              "<style scoped>\n",
              "    .dataframe tbody tr th:only-of-type {\n",
              "        vertical-align: middle;\n",
              "    }\n",
              "\n",
              "    .dataframe tbody tr th {\n",
              "        vertical-align: top;\n",
              "    }\n",
              "\n",
              "    .dataframe thead th {\n",
              "        text-align: right;\n",
              "    }\n",
              "</style>\n",
              "<table border=\"1\" class=\"dataframe\">\n",
              "  <thead>\n",
              "    <tr style=\"text-align: right;\">\n",
              "      <th></th>\n",
              "      <th>0</th>\n",
              "      <th>1</th>\n",
              "    </tr>\n",
              "  </thead>\n",
              "  <tbody>\n",
              "    <tr>\n",
              "      <th>Precision</th>\n",
              "      <td>0.865471</td>\n",
              "      <td>0.0</td>\n",
              "    </tr>\n",
              "    <tr>\n",
              "      <th>Recall</th>\n",
              "      <td>1.000000</td>\n",
              "      <td>0.0</td>\n",
              "    </tr>\n",
              "    <tr>\n",
              "      <th>F1 Score</th>\n",
              "      <td>0.927885</td>\n",
              "      <td>0.0</td>\n",
              "    </tr>\n",
              "  </tbody>\n",
              "</table>\n",
              "</div>\n",
              "      <button class=\"colab-df-convert\" onclick=\"convertToInteractive('df-63544668-a2d4-4807-aff5-4e203cad4e81')\"\n",
              "              title=\"Convert this dataframe to an interactive table.\"\n",
              "              style=\"display:none;\">\n",
              "        \n",
              "  <svg xmlns=\"http://www.w3.org/2000/svg\" height=\"24px\"viewBox=\"0 0 24 24\"\n",
              "       width=\"24px\">\n",
              "    <path d=\"M0 0h24v24H0V0z\" fill=\"none\"/>\n",
              "    <path d=\"M18.56 5.44l.94 2.06.94-2.06 2.06-.94-2.06-.94-.94-2.06-.94 2.06-2.06.94zm-11 1L8.5 8.5l.94-2.06 2.06-.94-2.06-.94L8.5 2.5l-.94 2.06-2.06.94zm10 10l.94 2.06.94-2.06 2.06-.94-2.06-.94-.94-2.06-.94 2.06-2.06.94z\"/><path d=\"M17.41 7.96l-1.37-1.37c-.4-.4-.92-.59-1.43-.59-.52 0-1.04.2-1.43.59L10.3 9.45l-7.72 7.72c-.78.78-.78 2.05 0 2.83L4 21.41c.39.39.9.59 1.41.59.51 0 1.02-.2 1.41-.59l7.78-7.78 2.81-2.81c.8-.78.8-2.07 0-2.86zM5.41 20L4 18.59l7.72-7.72 1.47 1.35L5.41 20z\"/>\n",
              "  </svg>\n",
              "      </button>\n",
              "      \n",
              "  <style>\n",
              "    .colab-df-container {\n",
              "      display:flex;\n",
              "      flex-wrap:wrap;\n",
              "      gap: 12px;\n",
              "    }\n",
              "\n",
              "    .colab-df-convert {\n",
              "      background-color: #E8F0FE;\n",
              "      border: none;\n",
              "      border-radius: 50%;\n",
              "      cursor: pointer;\n",
              "      display: none;\n",
              "      fill: #1967D2;\n",
              "      height: 32px;\n",
              "      padding: 0 0 0 0;\n",
              "      width: 32px;\n",
              "    }\n",
              "\n",
              "    .colab-df-convert:hover {\n",
              "      background-color: #E2EBFA;\n",
              "      box-shadow: 0px 1px 2px rgba(60, 64, 67, 0.3), 0px 1px 3px 1px rgba(60, 64, 67, 0.15);\n",
              "      fill: #174EA6;\n",
              "    }\n",
              "\n",
              "    [theme=dark] .colab-df-convert {\n",
              "      background-color: #3B4455;\n",
              "      fill: #D2E3FC;\n",
              "    }\n",
              "\n",
              "    [theme=dark] .colab-df-convert:hover {\n",
              "      background-color: #434B5C;\n",
              "      box-shadow: 0px 1px 3px 1px rgba(0, 0, 0, 0.15);\n",
              "      filter: drop-shadow(0px 1px 2px rgba(0, 0, 0, 0.3));\n",
              "      fill: #FFFFFF;\n",
              "    }\n",
              "  </style>\n",
              "\n",
              "      <script>\n",
              "        const buttonEl =\n",
              "          document.querySelector('#df-63544668-a2d4-4807-aff5-4e203cad4e81 button.colab-df-convert');\n",
              "        buttonEl.style.display =\n",
              "          google.colab.kernel.accessAllowed ? 'block' : 'none';\n",
              "\n",
              "        async function convertToInteractive(key) {\n",
              "          const element = document.querySelector('#df-63544668-a2d4-4807-aff5-4e203cad4e81');\n",
              "          const dataTable =\n",
              "            await google.colab.kernel.invokeFunction('convertToInteractive',\n",
              "                                                     [key], {});\n",
              "          if (!dataTable) return;\n",
              "\n",
              "          const docLinkHtml = 'Like what you see? Visit the ' +\n",
              "            '<a target=\"_blank\" href=https://colab.research.google.com/notebooks/data_table.ipynb>data table notebook</a>'\n",
              "            + ' to learn more about interactive tables.';\n",
              "          element.innerHTML = '';\n",
              "          dataTable['output_type'] = 'display_data';\n",
              "          await google.colab.output.renderOutput(dataTable, element);\n",
              "          const docLink = document.createElement('div');\n",
              "          docLink.innerHTML = docLinkHtml;\n",
              "          element.appendChild(docLink);\n",
              "        }\n",
              "      </script>\n",
              "    </div>\n",
              "  </div>\n",
              "  "
            ]
          },
          "metadata": {},
          "execution_count": 34
        }
      ]
    },
    {
      "cell_type": "code",
      "source": [
        "print('fscore: {}'.format(fscore))\n",
        "print('support: {}'.format(support))\n",
        "print(\"############################\")\n",
        "print(sklearn.metrics.classification_report(labels_test,predicted.round()))"
      ],
      "metadata": {
        "colab": {
          "base_uri": "https://localhost:8080/"
        },
        "id": "IR92cIqYxQe0",
        "outputId": "fdb31a08-cd7e-4397-aa70-f3254e307a60"
      },
      "execution_count": 35,
      "outputs": [
        {
          "output_type": "stream",
          "name": "stdout",
          "text": [
            "fscore: [0.92788462 0.        ]\n",
            "support: [965 150]\n",
            "############################\n",
            "              precision    recall  f1-score   support\n",
            "\n",
            "           0       0.87      1.00      0.93       965\n",
            "           1       0.00      0.00      0.00       150\n",
            "\n",
            "   micro avg       0.87      0.87      0.87      1115\n",
            "   macro avg       0.43      0.50      0.46      1115\n",
            "weighted avg       0.75      0.87      0.80      1115\n",
            " samples avg       0.87      0.87      0.87      1115\n",
            "\n"
          ]
        }
      ]
    }
  ]
}